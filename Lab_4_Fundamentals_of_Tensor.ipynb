{
  "nbformat": 4,
  "nbformat_minor": 0,
  "metadata": {
    "colab": {
      "provenance": [],
      "toc_visible": true
    },
    "kernelspec": {
      "name": "python3",
      "display_name": "Python 3"
    },
    "language_info": {
      "name": "python"
    },
    "gpuClass": "standard",
    "accelerator": "GPU"
  },
  "cells": [
    {
      "cell_type": "markdown",
      "metadata": {
        "id": "13Ewpcs3Nv9t"
      },
      "source": [
        "#Lab 4: Fundamentals of Tensor\n",
        "\n",
        "---\n"
      ]
    },
    {
      "cell_type": "markdown",
      "source": [
        "##Basic operations"
      ],
      "metadata": {
        "id": "Onm3Yt1Rkyn2"
      }
    },
    {
      "cell_type": "code",
      "source": [
        "# Construct a one-dimensional tensor\n",
        "import torch \n",
        "a = torch.ones(3) # Create a one-dimensional tensor of size 3 filled with 1s\n",
        "a"
      ],
      "metadata": {
        "id": "4cG6VVa2Dfzl",
        "colab": {
          "base_uri": "https://localhost:8080/"
        },
        "outputId": "560a2a34-590f-4cc5-fe21-105dacf0a757"
      },
      "execution_count": null,
      "outputs": [
        {
          "output_type": "execute_result",
          "data": {
            "text/plain": [
              "tensor([1., 1., 1.])"
            ]
          },
          "metadata": {},
          "execution_count": 1
        }
      ]
    },
    {
      "cell_type": "code",
      "execution_count": null,
      "metadata": {
        "id": "nxs6IAEYC3JI",
        "colab": {
          "base_uri": "https://localhost:8080/"
        },
        "outputId": "a65c1222-4cfc-4101-fb5c-fe0ccf536451"
      },
      "outputs": [
        {
          "output_type": "execute_result",
          "data": {
            "text/plain": [
              "tensor(1.)"
            ]
          },
          "metadata": {},
          "execution_count": 7
        }
      ],
      "source": [
        "# Access an individual element in the tensor\n",
        "a[1] \n"
      ]
    },
    {
      "cell_type": "code",
      "execution_count": null,
      "metadata": {
        "id": "kVnk-hMbC3JJ",
        "colab": {
          "base_uri": "https://localhost:8080/"
        },
        "outputId": "ef1c16d9-d21e-4b82-ab47-1e6a61e93342"
      },
      "outputs": [
        {
          "output_type": "execute_result",
          "data": {
            "text/plain": [
              "tensor([1., 2., 1.])"
            ]
          },
          "metadata": {},
          "execution_count": 8
        }
      ],
      "source": [
        "# Assign a value to the thrid element of tensor\n",
        "a[1] = 2.0\n",
        "a"
      ]
    },
    {
      "cell_type": "code",
      "execution_count": null,
      "metadata": {
        "id": "BwLN1IfkC3JK",
        "colab": {
          "base_uri": "https://localhost:8080/"
        },
        "outputId": "d313dbb9-2f6b-4059-c2eb-7c07630ce6cb"
      },
      "outputs": [
        {
          "output_type": "execute_result",
          "data": {
            "text/plain": [
              "tensor([4., 1., 5., 3., 2., 1.])"
            ]
          },
          "metadata": {},
          "execution_count": 11
        }
      ],
      "source": [
        "# Create a tensor and assign values to the tensor\n",
        "points = torch.zeros(6)\n",
        "points[0] = 4.0\n",
        "points[1] = 1.0\n",
        "points[2] = 5.0\n",
        "points[3] = 3.0\n",
        "points[4] = 2.0\n",
        "points[5] = 1.0\n",
        "points"
      ]
    },
    {
      "cell_type": "code",
      "execution_count": null,
      "metadata": {
        "id": "P5ZE7-hsC3JK"
      },
      "outputs": [],
      "source": [
        "# Pass a Python list to the constructor\n",
        "points = torch.tensor([4.0, 1.0, 5.0, 3.0, 2.0, 1.0])"
      ]
    },
    {
      "cell_type": "code",
      "execution_count": null,
      "metadata": {
        "id": "U6hB1hLOC3JL",
        "colab": {
          "base_uri": "https://localhost:8080/"
        },
        "outputId": "d56a0605-af43-43ca-ab10-9ed251619867"
      },
      "outputs": [
        {
          "output_type": "execute_result",
          "data": {
            "text/plain": [
              "tensor([[4., 1.],\n",
              "        [5., 3.],\n",
              "        [2., 1.]])"
            ]
          },
          "metadata": {},
          "execution_count": 13
        }
      ],
      "source": [
        "# Create a 2D tensor\n",
        "points = torch.tensor([[4.0, 1.0], [5.0, 3.0], [2.0, 1.0]])\n",
        "points"
      ]
    },
    {
      "cell_type": "code",
      "execution_count": null,
      "metadata": {
        "id": "x4w5x-ExC3JL",
        "colab": {
          "base_uri": "https://localhost:8080/"
        },
        "outputId": "1a58c334-7dca-49fa-e6ea-be0c74b789eb"
      },
      "outputs": [
        {
          "output_type": "execute_result",
          "data": {
            "text/plain": [
              "torch.Size([3, 2])"
            ]
          },
          "metadata": {},
          "execution_count": 14
        }
      ],
      "source": [
        "# Examine the shape\n",
        "points.shape"
      ]
    },
    {
      "cell_type": "code",
      "execution_count": null,
      "metadata": {
        "id": "C1DX-l39C3JL",
        "colab": {
          "base_uri": "https://localhost:8080/"
        },
        "outputId": "9736f232-8223-41d0-ec2d-a956edcb726b"
      },
      "outputs": [
        {
          "output_type": "execute_result",
          "data": {
            "text/plain": [
              "tensor([[0., 0.],\n",
              "        [0., 0.],\n",
              "        [0., 0.]])"
            ]
          },
          "metadata": {},
          "execution_count": 16
        }
      ],
      "source": [
        "# Use zeros or ones to initialize the tensor\n",
        "points = torch.zeros(3,2)\n",
        "points"
      ]
    },
    {
      "cell_type": "code",
      "execution_count": null,
      "metadata": {
        "id": "9ucO9ue1C3JM",
        "colab": {
          "base_uri": "https://localhost:8080/"
        },
        "outputId": "35eec498-9284-4788-8766-82f38bb7e2ea"
      },
      "outputs": [
        {
          "output_type": "execute_result",
          "data": {
            "text/plain": [
              "tensor([[4., 1.],\n",
              "        [5., 3.],\n",
              "        [2., 1.]])"
            ]
          },
          "metadata": {},
          "execution_count": 17
        }
      ],
      "source": [
        "# Pass a list of lists to the constructor\n",
        "points = torch.tensor([[4.0, 1.0], [5.0, 3.0], [2.0, 1.0]])\n",
        "points"
      ]
    },
    {
      "cell_type": "code",
      "execution_count": null,
      "metadata": {
        "id": "0cx5eaXnC3JM",
        "colab": {
          "base_uri": "https://localhost:8080/"
        },
        "outputId": "c812cd18-65a9-4af7-984f-3d7d3d16bc28"
      },
      "outputs": [
        {
          "output_type": "execute_result",
          "data": {
            "text/plain": [
              "tensor(1.)"
            ]
          },
          "metadata": {},
          "execution_count": 18
        }
      ],
      "source": [
        "# Access an individual element in the tensor using two indices\n",
        "points[0,1] # The output is another tensor"
      ]
    },
    {
      "cell_type": "code",
      "execution_count": null,
      "metadata": {
        "id": "aXn2AZKRC3JM",
        "colab": {
          "base_uri": "https://localhost:8080/"
        },
        "outputId": "eb56a4e4-00a8-497e-c0db-ebffd8f6e0bf"
      },
      "outputs": [
        {
          "output_type": "execute_result",
          "data": {
            "text/plain": [
              "tensor([4., 1.])"
            ]
          },
          "metadata": {},
          "execution_count": 19
        }
      ],
      "source": [
        "# Access the first rwo of data\n",
        "points[0,:] # The output is another tensor: the new tensor is a 1D tensor of size 2, referencing the values of the first row in the points tensor"
      ]
    },
    {
      "cell_type": "code",
      "execution_count": null,
      "metadata": {
        "id": "L2CJeG4jC3JO",
        "colab": {
          "base_uri": "https://localhost:8080/"
        },
        "outputId": "e2679a17-d368-429b-da25-b7fec8367a77"
      },
      "outputs": [
        {
          "output_type": "execute_result",
          "data": {
            "text/plain": [
              "tensor([[ 4.,  1.],\n",
              "        [10.,  3.],\n",
              "        [ 2.,  1.]])"
            ]
          },
          "metadata": {},
          "execution_count": 21
        }
      ],
      "source": [
        "# The subtensor (points[1]) is indexing the same storage as the original tensor\n",
        "points = torch.tensor([[4.0, 1.0], [5.0, 3.0], [2.0, 1.0]])\n",
        "second_points = points[1,:]\n",
        "second_points[0] = 10.0\n",
        "points"
      ]
    },
    {
      "cell_type": "code",
      "execution_count": null,
      "metadata": {
        "id": "Y4CGzd2KC3JO",
        "colab": {
          "base_uri": "https://localhost:8080/"
        },
        "outputId": "87edf41a-ac43-4367-eced-945dd896cd3f"
      },
      "outputs": [
        {
          "output_type": "execute_result",
          "data": {
            "text/plain": [
              "tensor([[4., 1.],\n",
              "        [5., 3.],\n",
              "        [2., 1.]])"
            ]
          },
          "metadata": {},
          "execution_count": 22
        }
      ],
      "source": [
        "# Clone the subtensor into a new tensor\n",
        "points = torch.tensor([[4.0, 1.0], [5.0, 3.0], [2.0, 1.0]])\n",
        "second_points = points[1,:].clone()\n",
        "second_points[0] = 10.0\n",
        "points"
      ]
    },
    {
      "cell_type": "markdown",
      "source": [
        "##Managing a tensor’s dtype attribute<br>"
      ],
      "metadata": {
        "id": "EIHQfbI9eoz0"
      }
    },
    {
      "cell_type": "code",
      "execution_count": null,
      "metadata": {
        "id": "tS3hT9JVC3JQ"
      },
      "outputs": [],
      "source": [
        "# Create two tensors with dtype=torch.double and torch.short\n",
        "double_points = torch.ones(10, 2, dtype=torch.double)\n",
        "short_point = torch.ones(10,2, dtype = torch.short)"
      ]
    },
    {
      "cell_type": "code",
      "source": [
        "# Examine a tensor's data type\n",
        "short_point.dtype"
      ],
      "metadata": {
        "id": "p4h202BvfPLU",
        "colab": {
          "base_uri": "https://localhost:8080/"
        },
        "outputId": "dc566aa1-d179-4e7e-f656-d3b95946c1c6"
      },
      "execution_count": null,
      "outputs": [
        {
          "output_type": "execute_result",
          "data": {
            "text/plain": [
              "torch.int16"
            ]
          },
          "metadata": {},
          "execution_count": 31
        }
      ]
    },
    {
      "cell_type": "code",
      "execution_count": null,
      "metadata": {
        "id": "dacgNZ0aC3JQ",
        "colab": {
          "base_uri": "https://localhost:8080/"
        },
        "outputId": "5d4e1cb3-2f22-4ab2-91b7-354915d6b1b0"
      },
      "outputs": [
        {
          "output_type": "execute_result",
          "data": {
            "text/plain": [
              "torch.float64"
            ]
          },
          "metadata": {},
          "execution_count": 34
        }
      ],
      "source": [
        "# Convert data type using \"to\" method\n",
        "double_points = torch.zeros(10,2).to(torch.double)\n",
        "double_points.dtype"
      ]
    },
    {
      "cell_type": "code",
      "source": [
        "double_points = torch.zeros(10,2)\n",
        "double_points.double().dtype"
      ],
      "metadata": {
        "colab": {
          "base_uri": "https://localhost:8080/"
        },
        "id": "K2-cAsCtM7tq",
        "outputId": "544faf9c-092d-4bee-e002-7f2409b29b75"
      },
      "execution_count": null,
      "outputs": [
        {
          "output_type": "execute_result",
          "data": {
            "text/plain": [
              "torch.float64"
            ]
          },
          "metadata": {},
          "execution_count": 35
        }
      ]
    },
    {
      "cell_type": "markdown",
      "source": [
        "##Transposing a tensor"
      ],
      "metadata": {
        "id": "78kPbv3khF6R"
      }
    },
    {
      "cell_type": "code",
      "execution_count": null,
      "metadata": {
        "id": "YRwXkU0vC3JO",
        "colab": {
          "base_uri": "https://localhost:8080/"
        },
        "outputId": "6b749faa-d9d6-423a-e2c8-5a00fdf91204"
      },
      "outputs": [
        {
          "output_type": "execute_result",
          "data": {
            "text/plain": [
              "tensor([[4., 1.],\n",
              "        [5., 3.],\n",
              "        [2., 1.]])"
            ]
          },
          "metadata": {},
          "execution_count": 36
        }
      ],
      "source": [
        "# Create a 2D tensor\n",
        "points = torch.tensor([[4.0, 1.0], [5.0, 3.0], [2.0, 1.0]])\n",
        "points"
      ]
    },
    {
      "cell_type": "code",
      "execution_count": null,
      "metadata": {
        "id": "Z2zz6aDFC3JO",
        "colab": {
          "base_uri": "https://localhost:8080/"
        },
        "outputId": "90a64a97-f467-4a4e-d83e-441e76bf352f"
      },
      "outputs": [
        {
          "output_type": "execute_result",
          "data": {
            "text/plain": [
              "tensor([[4., 5., 2.],\n",
              "        [1., 3., 1.]])"
            ]
          },
          "metadata": {},
          "execution_count": 37
        }
      ],
      "source": [
        "# Transpose the tensor\n",
        "points_t = points.t()\n",
        "points_t"
      ]
    },
    {
      "cell_type": "code",
      "source": [
        "# The transposed tensor shares the same storage\n",
        "points_t[0,0] = 10.0\n",
        "points\n"
      ],
      "metadata": {
        "id": "oNG89gUcC-_5",
        "colab": {
          "base_uri": "https://localhost:8080/"
        },
        "outputId": "5686f554-0b66-4790-862d-ec03587c51ed"
      },
      "execution_count": null,
      "outputs": [
        {
          "output_type": "execute_result",
          "data": {
            "text/plain": [
              "tensor([[10.,  1.],\n",
              "        [ 5.,  3.],\n",
              "        [ 2.,  1.]])"
            ]
          },
          "metadata": {},
          "execution_count": 40
        }
      ]
    },
    {
      "cell_type": "code",
      "execution_count": null,
      "metadata": {
        "id": "hTtxsi6IC3JP",
        "colab": {
          "base_uri": "https://localhost:8080/"
        },
        "outputId": "189f126c-72fe-4cc9-878c-503ae1fe06df"
      },
      "outputs": [
        {
          "output_type": "execute_result",
          "data": {
            "text/plain": [
              "torch.Size([5, 4, 3])"
            ]
          },
          "metadata": {},
          "execution_count": 42
        }
      ],
      "source": [
        "# Transpose in higher dimensions\n",
        "points = torch.ones(3, 4, 5)\n",
        "points_t = points.transpose(0, 2)\n",
        "points_t.shape"
      ]
    },
    {
      "cell_type": "code",
      "execution_count": null,
      "metadata": {
        "id": "1oOvyIzcC3JP",
        "colab": {
          "base_uri": "https://localhost:8080/"
        },
        "outputId": "75919158-b32f-48de-d930-6f2fbcdc72d8"
      },
      "outputs": [
        {
          "output_type": "execute_result",
          "data": {
            "text/plain": [
              "tensor([[[0., 1., 1., 1., 1.],\n",
              "         [1., 1., 1., 1., 1.],\n",
              "         [1., 1., 1., 1., 1.],\n",
              "         [1., 1., 1., 1., 1.]],\n",
              "\n",
              "        [[1., 1., 1., 1., 1.],\n",
              "         [1., 1., 1., 1., 1.],\n",
              "         [1., 1., 1., 1., 1.],\n",
              "         [1., 1., 1., 1., 1.]],\n",
              "\n",
              "        [[1., 1., 1., 1., 1.],\n",
              "         [1., 1., 1., 1., 1.],\n",
              "         [1., 1., 1., 1., 1.],\n",
              "         [1., 1., 1., 1., 1.]]])"
            ]
          },
          "metadata": {},
          "execution_count": 44
        }
      ],
      "source": [
        "# The transposed tensor shares the same storage\n",
        "points_t[0, 0, 0] = 0.0\n",
        "points"
      ]
    },
    {
      "cell_type": "markdown",
      "metadata": {
        "id": "oM_8ELnJq_wd"
      },
      "source": [
        "## Enabling and testing the GPU\n",
        "\n",
        "First, you'll need to enable GPUs for the notebook:\n",
        "\n",
        "- Navigate to Edit→Notebook Settings\n",
        "- select GPU from the Hardware Accelerator drop-down"
      ]
    },
    {
      "cell_type": "code",
      "execution_count": null,
      "metadata": {
        "id": "WWpAbKU0C3JR"
      },
      "outputs": [],
      "source": [
        "# Create a tensor on the GPU\n",
        "import torch\n",
        "points_gpu = torch.tensor([[4.0, 1.0], [5.0, 3.0], [2.0, 1.0]], device = 'cuda')"
      ]
    },
    {
      "cell_type": "code",
      "execution_count": null,
      "metadata": {
        "id": "hnp8DZeIC3JR"
      },
      "outputs": [],
      "source": [
        "# Copy a tensor created on the CPU onto the GPU using the \"to\" method\n",
        "points = torch.tensor([[4.0, 1.0], [5.0, 3.0], [2.0, 1.0]])\n",
        "points\n",
        "points_gpu = points.to(device = 'cuda')"
      ]
    },
    {
      "cell_type": "code",
      "execution_count": null,
      "metadata": {
        "id": "ivKtYrqiC3JR"
      },
      "outputs": [],
      "source": [
        "# At this point, any operation performed on the tensor, such as multiplying all elements by a constant, is carried out on the GPU\n",
        "points_gpu = points_gpu + 4.0"
      ]
    },
    {
      "cell_type": "code",
      "execution_count": null,
      "metadata": {
        "id": "kmz86bZ9C3JS"
      },
      "outputs": [],
      "source": [
        "# move the tensor back to the CPU\n",
        "points_cpu = points_gpu.to(device='cpu')"
      ]
    },
    {
      "cell_type": "code",
      "execution_count": null,
      "metadata": {
        "id": "7C-qdHO2C3JS"
      },
      "outputs": [],
      "source": [
        "# Use the shorthand methods cpu and cuda instead of the to method\n",
        "points_gpu = points.cuda()\n",
        "points_cpu = points_gpu.cpu()"
      ]
    },
    {
      "cell_type": "markdown",
      "source": [
        "##Save and load tensors"
      ],
      "metadata": {
        "id": "Y2PpBdlxidMc"
      }
    },
    {
      "cell_type": "code",
      "execution_count": null,
      "metadata": {
        "id": "edGSFxTjC3JR"
      },
      "outputs": [],
      "source": [
        "# Save the tensor\n",
        "torch.save(points, \"/content/drive/MyDrive/DL_data/points.t\") "
      ]
    },
    {
      "cell_type": "code",
      "execution_count": null,
      "metadata": {
        "id": "gpIPDVbqC3JR"
      },
      "outputs": [],
      "source": [
        "# Load the tensor\n",
        "points = torch.load(\"/content/drive/MyDrive/DL_data/points.t\") "
      ]
    },
    {
      "cell_type": "markdown",
      "source": [
        "## Representing tabular data"
      ],
      "metadata": {
        "id": "p2bDxW62jRUg"
      }
    },
    {
      "cell_type": "code",
      "execution_count": null,
      "metadata": {
        "id": "z0JOGc28C3JR",
        "colab": {
          "base_uri": "https://localhost:8080/"
        },
        "outputId": "84ebbb77-004c-4e3f-94c4-23a8ceb0c646"
      },
      "outputs": [
        {
          "output_type": "stream",
          "name": "stdout",
          "text": [
            "Mounted at /content/drive\n"
          ]
        }
      ],
      "source": [
        "# Mounting Google Drive\n",
        "from google.colab import drive\n",
        "drive.mount('/content/drive')"
      ]
    },
    {
      "cell_type": "code",
      "execution_count": null,
      "metadata": {
        "id": "m6MNzMfdC3JR",
        "colab": {
          "base_uri": "https://localhost:8080/",
          "height": 540
        },
        "outputId": "34b0dfd2-e582-4a20-bf66-ff9600c6cee5"
      },
      "outputs": [
        {
          "output_type": "execute_result",
          "data": {
            "text/plain": [
              "     Auction   Color IsBadBuy  MMRCurrentAuctionAveragePrice         Size  \\\n",
              "0      ADESA   WHITE       No                           2871  LARGE TRUCK   \n",
              "1      ADESA    GOLD      Yes                           1840          VAN   \n",
              "2      ADESA     RED       No                           8931    SMALL SUV   \n",
              "3      ADESA    GOLD       No                           8320    CROSSOVER   \n",
              "4      ADESA    GREY       No                          11520  LARGE TRUCK   \n",
              "...      ...     ...      ...                            ...          ...   \n",
              "9995   ADESA     RED       No                           7536    SMALL SUV   \n",
              "9996   ADESA   BLACK       No                           4921  LARGE TRUCK   \n",
              "9997   ADESA   BLACK       No                           9263   MEDIUM SUV   \n",
              "9998   ADESA    BLUE       No                           3240       MEDIUM   \n",
              "9999   ADESA  SILVER       No                           6148   MEDIUM SUV   \n",
              "\n",
              "     TopThreeAmericanName  VehBCost  VehicleAge  VehOdo  WarrantyCost  \\\n",
              "0                    FORD      5300           8   75419           869   \n",
              "1                    FORD      3600           8   82944          2322   \n",
              "2                CHRYSLER      7500           4   57338           588   \n",
              "3                    FORD      8500           5   55909          1169   \n",
              "4                    FORD     10100           5   86702           853   \n",
              "...                   ...       ...         ...     ...           ...   \n",
              "9995             CHRYSLER      6600           4   85377           983   \n",
              "9996                   GM      7000           7   89665          1543   \n",
              "9997             CHRYSLER      9000           4   59383          1417   \n",
              "9998                OTHER      5500           4   48642           482   \n",
              "9999                 FORD      7000           5   82563          1243   \n",
              "\n",
              "     WheelType  \n",
              "0        Alloy  \n",
              "1        Alloy  \n",
              "2        Alloy  \n",
              "3        Alloy  \n",
              "4        Alloy  \n",
              "...        ...  \n",
              "9995     Alloy  \n",
              "9996     Alloy  \n",
              "9997     Alloy  \n",
              "9998    Covers  \n",
              "9999     Alloy  \n",
              "\n",
              "[10000 rows x 11 columns]"
            ],
            "text/html": [
              "\n",
              "  <div id=\"df-08bdd450-4659-4ccf-a501-101d50c72fda\">\n",
              "    <div class=\"colab-df-container\">\n",
              "      <div>\n",
              "<style scoped>\n",
              "    .dataframe tbody tr th:only-of-type {\n",
              "        vertical-align: middle;\n",
              "    }\n",
              "\n",
              "    .dataframe tbody tr th {\n",
              "        vertical-align: top;\n",
              "    }\n",
              "\n",
              "    .dataframe thead th {\n",
              "        text-align: right;\n",
              "    }\n",
              "</style>\n",
              "<table border=\"1\" class=\"dataframe\">\n",
              "  <thead>\n",
              "    <tr style=\"text-align: right;\">\n",
              "      <th></th>\n",
              "      <th>Auction</th>\n",
              "      <th>Color</th>\n",
              "      <th>IsBadBuy</th>\n",
              "      <th>MMRCurrentAuctionAveragePrice</th>\n",
              "      <th>Size</th>\n",
              "      <th>TopThreeAmericanName</th>\n",
              "      <th>VehBCost</th>\n",
              "      <th>VehicleAge</th>\n",
              "      <th>VehOdo</th>\n",
              "      <th>WarrantyCost</th>\n",
              "      <th>WheelType</th>\n",
              "    </tr>\n",
              "  </thead>\n",
              "  <tbody>\n",
              "    <tr>\n",
              "      <th>0</th>\n",
              "      <td>ADESA</td>\n",
              "      <td>WHITE</td>\n",
              "      <td>No</td>\n",
              "      <td>2871</td>\n",
              "      <td>LARGE TRUCK</td>\n",
              "      <td>FORD</td>\n",
              "      <td>5300</td>\n",
              "      <td>8</td>\n",
              "      <td>75419</td>\n",
              "      <td>869</td>\n",
              "      <td>Alloy</td>\n",
              "    </tr>\n",
              "    <tr>\n",
              "      <th>1</th>\n",
              "      <td>ADESA</td>\n",
              "      <td>GOLD</td>\n",
              "      <td>Yes</td>\n",
              "      <td>1840</td>\n",
              "      <td>VAN</td>\n",
              "      <td>FORD</td>\n",
              "      <td>3600</td>\n",
              "      <td>8</td>\n",
              "      <td>82944</td>\n",
              "      <td>2322</td>\n",
              "      <td>Alloy</td>\n",
              "    </tr>\n",
              "    <tr>\n",
              "      <th>2</th>\n",
              "      <td>ADESA</td>\n",
              "      <td>RED</td>\n",
              "      <td>No</td>\n",
              "      <td>8931</td>\n",
              "      <td>SMALL SUV</td>\n",
              "      <td>CHRYSLER</td>\n",
              "      <td>7500</td>\n",
              "      <td>4</td>\n",
              "      <td>57338</td>\n",
              "      <td>588</td>\n",
              "      <td>Alloy</td>\n",
              "    </tr>\n",
              "    <tr>\n",
              "      <th>3</th>\n",
              "      <td>ADESA</td>\n",
              "      <td>GOLD</td>\n",
              "      <td>No</td>\n",
              "      <td>8320</td>\n",
              "      <td>CROSSOVER</td>\n",
              "      <td>FORD</td>\n",
              "      <td>8500</td>\n",
              "      <td>5</td>\n",
              "      <td>55909</td>\n",
              "      <td>1169</td>\n",
              "      <td>Alloy</td>\n",
              "    </tr>\n",
              "    <tr>\n",
              "      <th>4</th>\n",
              "      <td>ADESA</td>\n",
              "      <td>GREY</td>\n",
              "      <td>No</td>\n",
              "      <td>11520</td>\n",
              "      <td>LARGE TRUCK</td>\n",
              "      <td>FORD</td>\n",
              "      <td>10100</td>\n",
              "      <td>5</td>\n",
              "      <td>86702</td>\n",
              "      <td>853</td>\n",
              "      <td>Alloy</td>\n",
              "    </tr>\n",
              "    <tr>\n",
              "      <th>...</th>\n",
              "      <td>...</td>\n",
              "      <td>...</td>\n",
              "      <td>...</td>\n",
              "      <td>...</td>\n",
              "      <td>...</td>\n",
              "      <td>...</td>\n",
              "      <td>...</td>\n",
              "      <td>...</td>\n",
              "      <td>...</td>\n",
              "      <td>...</td>\n",
              "      <td>...</td>\n",
              "    </tr>\n",
              "    <tr>\n",
              "      <th>9995</th>\n",
              "      <td>ADESA</td>\n",
              "      <td>RED</td>\n",
              "      <td>No</td>\n",
              "      <td>7536</td>\n",
              "      <td>SMALL SUV</td>\n",
              "      <td>CHRYSLER</td>\n",
              "      <td>6600</td>\n",
              "      <td>4</td>\n",
              "      <td>85377</td>\n",
              "      <td>983</td>\n",
              "      <td>Alloy</td>\n",
              "    </tr>\n",
              "    <tr>\n",
              "      <th>9996</th>\n",
              "      <td>ADESA</td>\n",
              "      <td>BLACK</td>\n",
              "      <td>No</td>\n",
              "      <td>4921</td>\n",
              "      <td>LARGE TRUCK</td>\n",
              "      <td>GM</td>\n",
              "      <td>7000</td>\n",
              "      <td>7</td>\n",
              "      <td>89665</td>\n",
              "      <td>1543</td>\n",
              "      <td>Alloy</td>\n",
              "    </tr>\n",
              "    <tr>\n",
              "      <th>9997</th>\n",
              "      <td>ADESA</td>\n",
              "      <td>BLACK</td>\n",
              "      <td>No</td>\n",
              "      <td>9263</td>\n",
              "      <td>MEDIUM SUV</td>\n",
              "      <td>CHRYSLER</td>\n",
              "      <td>9000</td>\n",
              "      <td>4</td>\n",
              "      <td>59383</td>\n",
              "      <td>1417</td>\n",
              "      <td>Alloy</td>\n",
              "    </tr>\n",
              "    <tr>\n",
              "      <th>9998</th>\n",
              "      <td>ADESA</td>\n",
              "      <td>BLUE</td>\n",
              "      <td>No</td>\n",
              "      <td>3240</td>\n",
              "      <td>MEDIUM</td>\n",
              "      <td>OTHER</td>\n",
              "      <td>5500</td>\n",
              "      <td>4</td>\n",
              "      <td>48642</td>\n",
              "      <td>482</td>\n",
              "      <td>Covers</td>\n",
              "    </tr>\n",
              "    <tr>\n",
              "      <th>9999</th>\n",
              "      <td>ADESA</td>\n",
              "      <td>SILVER</td>\n",
              "      <td>No</td>\n",
              "      <td>6148</td>\n",
              "      <td>MEDIUM SUV</td>\n",
              "      <td>FORD</td>\n",
              "      <td>7000</td>\n",
              "      <td>5</td>\n",
              "      <td>82563</td>\n",
              "      <td>1243</td>\n",
              "      <td>Alloy</td>\n",
              "    </tr>\n",
              "  </tbody>\n",
              "</table>\n",
              "<p>10000 rows × 11 columns</p>\n",
              "</div>\n",
              "      <button class=\"colab-df-convert\" onclick=\"convertToInteractive('df-08bdd450-4659-4ccf-a501-101d50c72fda')\"\n",
              "              title=\"Convert this dataframe to an interactive table.\"\n",
              "              style=\"display:none;\">\n",
              "        \n",
              "  <svg xmlns=\"http://www.w3.org/2000/svg\" height=\"24px\"viewBox=\"0 0 24 24\"\n",
              "       width=\"24px\">\n",
              "    <path d=\"M0 0h24v24H0V0z\" fill=\"none\"/>\n",
              "    <path d=\"M18.56 5.44l.94 2.06.94-2.06 2.06-.94-2.06-.94-.94-2.06-.94 2.06-2.06.94zm-11 1L8.5 8.5l.94-2.06 2.06-.94-2.06-.94L8.5 2.5l-.94 2.06-2.06.94zm10 10l.94 2.06.94-2.06 2.06-.94-2.06-.94-.94-2.06-.94 2.06-2.06.94z\"/><path d=\"M17.41 7.96l-1.37-1.37c-.4-.4-.92-.59-1.43-.59-.52 0-1.04.2-1.43.59L10.3 9.45l-7.72 7.72c-.78.78-.78 2.05 0 2.83L4 21.41c.39.39.9.59 1.41.59.51 0 1.02-.2 1.41-.59l7.78-7.78 2.81-2.81c.8-.78.8-2.07 0-2.86zM5.41 20L4 18.59l7.72-7.72 1.47 1.35L5.41 20z\"/>\n",
              "  </svg>\n",
              "      </button>\n",
              "      \n",
              "  <style>\n",
              "    .colab-df-container {\n",
              "      display:flex;\n",
              "      flex-wrap:wrap;\n",
              "      gap: 12px;\n",
              "    }\n",
              "\n",
              "    .colab-df-convert {\n",
              "      background-color: #E8F0FE;\n",
              "      border: none;\n",
              "      border-radius: 50%;\n",
              "      cursor: pointer;\n",
              "      display: none;\n",
              "      fill: #1967D2;\n",
              "      height: 32px;\n",
              "      padding: 0 0 0 0;\n",
              "      width: 32px;\n",
              "    }\n",
              "\n",
              "    .colab-df-convert:hover {\n",
              "      background-color: #E2EBFA;\n",
              "      box-shadow: 0px 1px 2px rgba(60, 64, 67, 0.3), 0px 1px 3px 1px rgba(60, 64, 67, 0.15);\n",
              "      fill: #174EA6;\n",
              "    }\n",
              "\n",
              "    [theme=dark] .colab-df-convert {\n",
              "      background-color: #3B4455;\n",
              "      fill: #D2E3FC;\n",
              "    }\n",
              "\n",
              "    [theme=dark] .colab-df-convert:hover {\n",
              "      background-color: #434B5C;\n",
              "      box-shadow: 0px 1px 3px 1px rgba(0, 0, 0, 0.15);\n",
              "      filter: drop-shadow(0px 1px 2px rgba(0, 0, 0, 0.3));\n",
              "      fill: #FFFFFF;\n",
              "    }\n",
              "  </style>\n",
              "\n",
              "      <script>\n",
              "        const buttonEl =\n",
              "          document.querySelector('#df-08bdd450-4659-4ccf-a501-101d50c72fda button.colab-df-convert');\n",
              "        buttonEl.style.display =\n",
              "          google.colab.kernel.accessAllowed ? 'block' : 'none';\n",
              "\n",
              "        async function convertToInteractive(key) {\n",
              "          const element = document.querySelector('#df-08bdd450-4659-4ccf-a501-101d50c72fda');\n",
              "          const dataTable =\n",
              "            await google.colab.kernel.invokeFunction('convertToInteractive',\n",
              "                                                     [key], {});\n",
              "          if (!dataTable) return;\n",
              "\n",
              "          const docLinkHtml = 'Like what you see? Visit the ' +\n",
              "            '<a target=\"_blank\" href=https://colab.research.google.com/notebooks/data_table.ipynb>data table notebook</a>'\n",
              "            + ' to learn more about interactive tables.';\n",
              "          element.innerHTML = '';\n",
              "          dataTable['output_type'] = 'display_data';\n",
              "          await google.colab.output.renderOutput(dataTable, element);\n",
              "          const docLink = document.createElement('div');\n",
              "          docLink.innerHTML = docLinkHtml;\n",
              "          element.appendChild(docLink);\n",
              "        }\n",
              "      </script>\n",
              "    </div>\n",
              "  </div>\n",
              "  "
            ]
          },
          "metadata": {},
          "execution_count": 12
        }
      ],
      "source": [
        "# Read data\n",
        "import pandas as pd\n",
        "carAuction = pd.read_csv(\"/content/drive/MyDrive/DL_data/carAuction.csv\")\n",
        "carAuction"
      ]
    },
    {
      "cell_type": "code",
      "source": [
        "# Create dummy variables\n",
        "carAuction = pd.get_dummies(carAuction, columns = ['Auction', 'Color', 'IsBadBuy', 'Size', 'TopThreeAmericanName', 'WheelType'], drop_first=True)\n",
        "carAuction"
      ],
      "metadata": {
        "id": "O8__2aUSPpa0",
        "colab": {
          "base_uri": "https://localhost:8080/",
          "height": 505
        },
        "outputId": "63a45512-8559-4a02-fb2e-6a6f67432cdd"
      },
      "execution_count": null,
      "outputs": [
        {
          "output_type": "execute_result",
          "data": {
            "text/plain": [
              "      MMRCurrentAuctionAveragePrice  VehBCost  VehicleAge  VehOdo  \\\n",
              "0                              2871      5300           8   75419   \n",
              "1                              1840      3600           8   82944   \n",
              "2                              8931      7500           4   57338   \n",
              "3                              8320      8500           5   55909   \n",
              "4                             11520     10100           5   86702   \n",
              "...                             ...       ...         ...     ...   \n",
              "9995                           7536      6600           4   85377   \n",
              "9996                           4921      7000           7   89665   \n",
              "9997                           9263      9000           4   59383   \n",
              "9998                           3240      5500           4   48642   \n",
              "9999                           6148      7000           5   82563   \n",
              "\n",
              "      WarrantyCost  Auction_MANHEIM  Auction_OTHER  Color_BLACK  Color_BLUE  \\\n",
              "0              869                0              0            0           0   \n",
              "1             2322                0              0            0           0   \n",
              "2              588                0              0            0           0   \n",
              "3             1169                0              0            0           0   \n",
              "4              853                0              0            0           0   \n",
              "...            ...              ...            ...          ...         ...   \n",
              "9995           983                0              0            0           0   \n",
              "9996          1543                0              0            1           0   \n",
              "9997          1417                0              0            1           0   \n",
              "9998           482                0              0            0           1   \n",
              "9999          1243                0              0            0           0   \n",
              "\n",
              "      Color_BROWN  ...  Size_SMALL TRUCK  Size_SPECIALTY  Size_SPORTS  \\\n",
              "0               0  ...                 0               0            0   \n",
              "1               0  ...                 0               0            0   \n",
              "2               0  ...                 0               0            0   \n",
              "3               0  ...                 0               0            0   \n",
              "4               0  ...                 0               0            0   \n",
              "...           ...  ...               ...             ...          ...   \n",
              "9995            0  ...                 0               0            0   \n",
              "9996            0  ...                 0               0            0   \n",
              "9997            0  ...                 0               0            0   \n",
              "9998            0  ...                 0               0            0   \n",
              "9999            0  ...                 0               0            0   \n",
              "\n",
              "      Size_VAN  TopThreeAmericanName_FORD  TopThreeAmericanName_GM  \\\n",
              "0            0                          1                        0   \n",
              "1            1                          1                        0   \n",
              "2            0                          0                        0   \n",
              "3            0                          1                        0   \n",
              "4            0                          1                        0   \n",
              "...        ...                        ...                      ...   \n",
              "9995         0                          0                        0   \n",
              "9996         0                          0                        1   \n",
              "9997         0                          0                        0   \n",
              "9998         0                          0                        0   \n",
              "9999         0                          1                        0   \n",
              "\n",
              "      TopThreeAmericanName_OTHER  WheelType_Covers  WheelType_Special  \\\n",
              "0                              0                 0                  0   \n",
              "1                              0                 0                  0   \n",
              "2                              0                 0                  0   \n",
              "3                              0                 0                  0   \n",
              "4                              0                 0                  0   \n",
              "...                          ...               ...                ...   \n",
              "9995                           0                 0                  0   \n",
              "9996                           0                 0                  0   \n",
              "9997                           0                 0                  0   \n",
              "9998                           1                 1                  0   \n",
              "9999                           0                 0                  0   \n",
              "\n",
              "      WheelType_unkwnWheel  \n",
              "0                        0  \n",
              "1                        0  \n",
              "2                        0  \n",
              "3                        0  \n",
              "4                        0  \n",
              "...                    ...  \n",
              "9995                     0  \n",
              "9996                     0  \n",
              "9997                     0  \n",
              "9998                     0  \n",
              "9999                     0  \n",
              "\n",
              "[10000 rows x 40 columns]"
            ],
            "text/html": [
              "\n",
              "  <div id=\"df-000861c8-1e73-440f-b6c9-1135c6cac087\">\n",
              "    <div class=\"colab-df-container\">\n",
              "      <div>\n",
              "<style scoped>\n",
              "    .dataframe tbody tr th:only-of-type {\n",
              "        vertical-align: middle;\n",
              "    }\n",
              "\n",
              "    .dataframe tbody tr th {\n",
              "        vertical-align: top;\n",
              "    }\n",
              "\n",
              "    .dataframe thead th {\n",
              "        text-align: right;\n",
              "    }\n",
              "</style>\n",
              "<table border=\"1\" class=\"dataframe\">\n",
              "  <thead>\n",
              "    <tr style=\"text-align: right;\">\n",
              "      <th></th>\n",
              "      <th>MMRCurrentAuctionAveragePrice</th>\n",
              "      <th>VehBCost</th>\n",
              "      <th>VehicleAge</th>\n",
              "      <th>VehOdo</th>\n",
              "      <th>WarrantyCost</th>\n",
              "      <th>Auction_MANHEIM</th>\n",
              "      <th>Auction_OTHER</th>\n",
              "      <th>Color_BLACK</th>\n",
              "      <th>Color_BLUE</th>\n",
              "      <th>Color_BROWN</th>\n",
              "      <th>...</th>\n",
              "      <th>Size_SMALL TRUCK</th>\n",
              "      <th>Size_SPECIALTY</th>\n",
              "      <th>Size_SPORTS</th>\n",
              "      <th>Size_VAN</th>\n",
              "      <th>TopThreeAmericanName_FORD</th>\n",
              "      <th>TopThreeAmericanName_GM</th>\n",
              "      <th>TopThreeAmericanName_OTHER</th>\n",
              "      <th>WheelType_Covers</th>\n",
              "      <th>WheelType_Special</th>\n",
              "      <th>WheelType_unkwnWheel</th>\n",
              "    </tr>\n",
              "  </thead>\n",
              "  <tbody>\n",
              "    <tr>\n",
              "      <th>0</th>\n",
              "      <td>2871</td>\n",
              "      <td>5300</td>\n",
              "      <td>8</td>\n",
              "      <td>75419</td>\n",
              "      <td>869</td>\n",
              "      <td>0</td>\n",
              "      <td>0</td>\n",
              "      <td>0</td>\n",
              "      <td>0</td>\n",
              "      <td>0</td>\n",
              "      <td>...</td>\n",
              "      <td>0</td>\n",
              "      <td>0</td>\n",
              "      <td>0</td>\n",
              "      <td>0</td>\n",
              "      <td>1</td>\n",
              "      <td>0</td>\n",
              "      <td>0</td>\n",
              "      <td>0</td>\n",
              "      <td>0</td>\n",
              "      <td>0</td>\n",
              "    </tr>\n",
              "    <tr>\n",
              "      <th>1</th>\n",
              "      <td>1840</td>\n",
              "      <td>3600</td>\n",
              "      <td>8</td>\n",
              "      <td>82944</td>\n",
              "      <td>2322</td>\n",
              "      <td>0</td>\n",
              "      <td>0</td>\n",
              "      <td>0</td>\n",
              "      <td>0</td>\n",
              "      <td>0</td>\n",
              "      <td>...</td>\n",
              "      <td>0</td>\n",
              "      <td>0</td>\n",
              "      <td>0</td>\n",
              "      <td>1</td>\n",
              "      <td>1</td>\n",
              "      <td>0</td>\n",
              "      <td>0</td>\n",
              "      <td>0</td>\n",
              "      <td>0</td>\n",
              "      <td>0</td>\n",
              "    </tr>\n",
              "    <tr>\n",
              "      <th>2</th>\n",
              "      <td>8931</td>\n",
              "      <td>7500</td>\n",
              "      <td>4</td>\n",
              "      <td>57338</td>\n",
              "      <td>588</td>\n",
              "      <td>0</td>\n",
              "      <td>0</td>\n",
              "      <td>0</td>\n",
              "      <td>0</td>\n",
              "      <td>0</td>\n",
              "      <td>...</td>\n",
              "      <td>0</td>\n",
              "      <td>0</td>\n",
              "      <td>0</td>\n",
              "      <td>0</td>\n",
              "      <td>0</td>\n",
              "      <td>0</td>\n",
              "      <td>0</td>\n",
              "      <td>0</td>\n",
              "      <td>0</td>\n",
              "      <td>0</td>\n",
              "    </tr>\n",
              "    <tr>\n",
              "      <th>3</th>\n",
              "      <td>8320</td>\n",
              "      <td>8500</td>\n",
              "      <td>5</td>\n",
              "      <td>55909</td>\n",
              "      <td>1169</td>\n",
              "      <td>0</td>\n",
              "      <td>0</td>\n",
              "      <td>0</td>\n",
              "      <td>0</td>\n",
              "      <td>0</td>\n",
              "      <td>...</td>\n",
              "      <td>0</td>\n",
              "      <td>0</td>\n",
              "      <td>0</td>\n",
              "      <td>0</td>\n",
              "      <td>1</td>\n",
              "      <td>0</td>\n",
              "      <td>0</td>\n",
              "      <td>0</td>\n",
              "      <td>0</td>\n",
              "      <td>0</td>\n",
              "    </tr>\n",
              "    <tr>\n",
              "      <th>4</th>\n",
              "      <td>11520</td>\n",
              "      <td>10100</td>\n",
              "      <td>5</td>\n",
              "      <td>86702</td>\n",
              "      <td>853</td>\n",
              "      <td>0</td>\n",
              "      <td>0</td>\n",
              "      <td>0</td>\n",
              "      <td>0</td>\n",
              "      <td>0</td>\n",
              "      <td>...</td>\n",
              "      <td>0</td>\n",
              "      <td>0</td>\n",
              "      <td>0</td>\n",
              "      <td>0</td>\n",
              "      <td>1</td>\n",
              "      <td>0</td>\n",
              "      <td>0</td>\n",
              "      <td>0</td>\n",
              "      <td>0</td>\n",
              "      <td>0</td>\n",
              "    </tr>\n",
              "    <tr>\n",
              "      <th>...</th>\n",
              "      <td>...</td>\n",
              "      <td>...</td>\n",
              "      <td>...</td>\n",
              "      <td>...</td>\n",
              "      <td>...</td>\n",
              "      <td>...</td>\n",
              "      <td>...</td>\n",
              "      <td>...</td>\n",
              "      <td>...</td>\n",
              "      <td>...</td>\n",
              "      <td>...</td>\n",
              "      <td>...</td>\n",
              "      <td>...</td>\n",
              "      <td>...</td>\n",
              "      <td>...</td>\n",
              "      <td>...</td>\n",
              "      <td>...</td>\n",
              "      <td>...</td>\n",
              "      <td>...</td>\n",
              "      <td>...</td>\n",
              "      <td>...</td>\n",
              "    </tr>\n",
              "    <tr>\n",
              "      <th>9995</th>\n",
              "      <td>7536</td>\n",
              "      <td>6600</td>\n",
              "      <td>4</td>\n",
              "      <td>85377</td>\n",
              "      <td>983</td>\n",
              "      <td>0</td>\n",
              "      <td>0</td>\n",
              "      <td>0</td>\n",
              "      <td>0</td>\n",
              "      <td>0</td>\n",
              "      <td>...</td>\n",
              "      <td>0</td>\n",
              "      <td>0</td>\n",
              "      <td>0</td>\n",
              "      <td>0</td>\n",
              "      <td>0</td>\n",
              "      <td>0</td>\n",
              "      <td>0</td>\n",
              "      <td>0</td>\n",
              "      <td>0</td>\n",
              "      <td>0</td>\n",
              "    </tr>\n",
              "    <tr>\n",
              "      <th>9996</th>\n",
              "      <td>4921</td>\n",
              "      <td>7000</td>\n",
              "      <td>7</td>\n",
              "      <td>89665</td>\n",
              "      <td>1543</td>\n",
              "      <td>0</td>\n",
              "      <td>0</td>\n",
              "      <td>1</td>\n",
              "      <td>0</td>\n",
              "      <td>0</td>\n",
              "      <td>...</td>\n",
              "      <td>0</td>\n",
              "      <td>0</td>\n",
              "      <td>0</td>\n",
              "      <td>0</td>\n",
              "      <td>0</td>\n",
              "      <td>1</td>\n",
              "      <td>0</td>\n",
              "      <td>0</td>\n",
              "      <td>0</td>\n",
              "      <td>0</td>\n",
              "    </tr>\n",
              "    <tr>\n",
              "      <th>9997</th>\n",
              "      <td>9263</td>\n",
              "      <td>9000</td>\n",
              "      <td>4</td>\n",
              "      <td>59383</td>\n",
              "      <td>1417</td>\n",
              "      <td>0</td>\n",
              "      <td>0</td>\n",
              "      <td>1</td>\n",
              "      <td>0</td>\n",
              "      <td>0</td>\n",
              "      <td>...</td>\n",
              "      <td>0</td>\n",
              "      <td>0</td>\n",
              "      <td>0</td>\n",
              "      <td>0</td>\n",
              "      <td>0</td>\n",
              "      <td>0</td>\n",
              "      <td>0</td>\n",
              "      <td>0</td>\n",
              "      <td>0</td>\n",
              "      <td>0</td>\n",
              "    </tr>\n",
              "    <tr>\n",
              "      <th>9998</th>\n",
              "      <td>3240</td>\n",
              "      <td>5500</td>\n",
              "      <td>4</td>\n",
              "      <td>48642</td>\n",
              "      <td>482</td>\n",
              "      <td>0</td>\n",
              "      <td>0</td>\n",
              "      <td>0</td>\n",
              "      <td>1</td>\n",
              "      <td>0</td>\n",
              "      <td>...</td>\n",
              "      <td>0</td>\n",
              "      <td>0</td>\n",
              "      <td>0</td>\n",
              "      <td>0</td>\n",
              "      <td>0</td>\n",
              "      <td>0</td>\n",
              "      <td>1</td>\n",
              "      <td>1</td>\n",
              "      <td>0</td>\n",
              "      <td>0</td>\n",
              "    </tr>\n",
              "    <tr>\n",
              "      <th>9999</th>\n",
              "      <td>6148</td>\n",
              "      <td>7000</td>\n",
              "      <td>5</td>\n",
              "      <td>82563</td>\n",
              "      <td>1243</td>\n",
              "      <td>0</td>\n",
              "      <td>0</td>\n",
              "      <td>0</td>\n",
              "      <td>0</td>\n",
              "      <td>0</td>\n",
              "      <td>...</td>\n",
              "      <td>0</td>\n",
              "      <td>0</td>\n",
              "      <td>0</td>\n",
              "      <td>0</td>\n",
              "      <td>1</td>\n",
              "      <td>0</td>\n",
              "      <td>0</td>\n",
              "      <td>0</td>\n",
              "      <td>0</td>\n",
              "      <td>0</td>\n",
              "    </tr>\n",
              "  </tbody>\n",
              "</table>\n",
              "<p>10000 rows × 40 columns</p>\n",
              "</div>\n",
              "      <button class=\"colab-df-convert\" onclick=\"convertToInteractive('df-000861c8-1e73-440f-b6c9-1135c6cac087')\"\n",
              "              title=\"Convert this dataframe to an interactive table.\"\n",
              "              style=\"display:none;\">\n",
              "        \n",
              "  <svg xmlns=\"http://www.w3.org/2000/svg\" height=\"24px\"viewBox=\"0 0 24 24\"\n",
              "       width=\"24px\">\n",
              "    <path d=\"M0 0h24v24H0V0z\" fill=\"none\"/>\n",
              "    <path d=\"M18.56 5.44l.94 2.06.94-2.06 2.06-.94-2.06-.94-.94-2.06-.94 2.06-2.06.94zm-11 1L8.5 8.5l.94-2.06 2.06-.94-2.06-.94L8.5 2.5l-.94 2.06-2.06.94zm10 10l.94 2.06.94-2.06 2.06-.94-2.06-.94-.94-2.06-.94 2.06-2.06.94z\"/><path d=\"M17.41 7.96l-1.37-1.37c-.4-.4-.92-.59-1.43-.59-.52 0-1.04.2-1.43.59L10.3 9.45l-7.72 7.72c-.78.78-.78 2.05 0 2.83L4 21.41c.39.39.9.59 1.41.59.51 0 1.02-.2 1.41-.59l7.78-7.78 2.81-2.81c.8-.78.8-2.07 0-2.86zM5.41 20L4 18.59l7.72-7.72 1.47 1.35L5.41 20z\"/>\n",
              "  </svg>\n",
              "      </button>\n",
              "      \n",
              "  <style>\n",
              "    .colab-df-container {\n",
              "      display:flex;\n",
              "      flex-wrap:wrap;\n",
              "      gap: 12px;\n",
              "    }\n",
              "\n",
              "    .colab-df-convert {\n",
              "      background-color: #E8F0FE;\n",
              "      border: none;\n",
              "      border-radius: 50%;\n",
              "      cursor: pointer;\n",
              "      display: none;\n",
              "      fill: #1967D2;\n",
              "      height: 32px;\n",
              "      padding: 0 0 0 0;\n",
              "      width: 32px;\n",
              "    }\n",
              "\n",
              "    .colab-df-convert:hover {\n",
              "      background-color: #E2EBFA;\n",
              "      box-shadow: 0px 1px 2px rgba(60, 64, 67, 0.3), 0px 1px 3px 1px rgba(60, 64, 67, 0.15);\n",
              "      fill: #174EA6;\n",
              "    }\n",
              "\n",
              "    [theme=dark] .colab-df-convert {\n",
              "      background-color: #3B4455;\n",
              "      fill: #D2E3FC;\n",
              "    }\n",
              "\n",
              "    [theme=dark] .colab-df-convert:hover {\n",
              "      background-color: #434B5C;\n",
              "      box-shadow: 0px 1px 3px 1px rgba(0, 0, 0, 0.15);\n",
              "      filter: drop-shadow(0px 1px 2px rgba(0, 0, 0, 0.3));\n",
              "      fill: #FFFFFF;\n",
              "    }\n",
              "  </style>\n",
              "\n",
              "      <script>\n",
              "        const buttonEl =\n",
              "          document.querySelector('#df-000861c8-1e73-440f-b6c9-1135c6cac087 button.colab-df-convert');\n",
              "        buttonEl.style.display =\n",
              "          google.colab.kernel.accessAllowed ? 'block' : 'none';\n",
              "\n",
              "        async function convertToInteractive(key) {\n",
              "          const element = document.querySelector('#df-000861c8-1e73-440f-b6c9-1135c6cac087');\n",
              "          const dataTable =\n",
              "            await google.colab.kernel.invokeFunction('convertToInteractive',\n",
              "                                                     [key], {});\n",
              "          if (!dataTable) return;\n",
              "\n",
              "          const docLinkHtml = 'Like what you see? Visit the ' +\n",
              "            '<a target=\"_blank\" href=https://colab.research.google.com/notebooks/data_table.ipynb>data table notebook</a>'\n",
              "            + ' to learn more about interactive tables.';\n",
              "          element.innerHTML = '';\n",
              "          dataTable['output_type'] = 'display_data';\n",
              "          await google.colab.output.renderOutput(dataTable, element);\n",
              "          const docLink = document.createElement('div');\n",
              "          docLink.innerHTML = docLinkHtml;\n",
              "          element.appendChild(docLink);\n",
              "        }\n",
              "      </script>\n",
              "    </div>\n",
              "  </div>\n",
              "  "
            ]
          },
          "metadata": {},
          "execution_count": 13
        }
      ]
    },
    {
      "cell_type": "code",
      "source": [
        "# Apply standardization\n",
        "from sklearn.preprocessing import StandardScaler\n",
        "numeric_variables = carAuction[['MMRCurrentAuctionAveragePrice', 'VehBCost', 'VehicleAge', 'VehOdo', 'WarrantyCost']]\n",
        "scaler_s = StandardScaler().fit(numeric_variables)\n",
        "standard_variables = scaler_s.transform(numeric_variables)\n",
        "print(standard_variables)"
      ],
      "metadata": {
        "id": "etVDIM-Lln5X",
        "colab": {
          "base_uri": "https://localhost:8080/"
        },
        "outputId": "9d91a54b-361f-47ad-bbbb-183e3ef1f6c4"
      },
      "execution_count": null,
      "outputs": [
        {
          "output_type": "stream",
          "name": "stdout",
          "text": [
            "[[-1.33756114 -0.80983074  2.22646285  0.26402682 -0.67480576]\n",
            " [-1.7625022  -1.77920496  2.22646285  0.77636434  1.71108844]\n",
            " [ 1.16015257  0.44465355 -0.1066831  -0.96701301 -1.13622094]\n",
            " ...\n",
            " [ 1.29699102  1.29998375 -0.1066831  -0.82777976  0.22503596]\n",
            " [-1.18547263 -0.69578671 -0.1066831  -1.55907774 -1.31027792]\n",
            " [ 0.01310022  0.15954349  0.47660339  0.75042406 -0.0606802 ]]\n"
          ]
        }
      ]
    },
    {
      "cell_type": "code",
      "source": [
        "carAuction[['MMRCurrentAuctionAveragePrice', 'VehBCost', 'VehicleAge', 'VehOdo', 'WarrantyCost']] = standard_variables"
      ],
      "metadata": {
        "id": "qiHxZu1da8jo"
      },
      "execution_count": null,
      "outputs": []
    },
    {
      "cell_type": "code",
      "source": [
        "# Create tensors from pandas dataframe\n",
        "carAuction_tensor = torch.tensor(carAuction.values)\n",
        "carAuction_tensor"
      ],
      "metadata": {
        "id": "p96a0uVEPkcV",
        "colab": {
          "base_uri": "https://localhost:8080/"
        },
        "outputId": "fc83f9eb-88a5-4734-bcf8-f8551b63a553"
      },
      "execution_count": null,
      "outputs": [
        {
          "output_type": "execute_result",
          "data": {
            "text/plain": [
              "tensor([[-1.3376, -0.8098,  2.2265,  ...,  0.0000,  0.0000,  0.0000],\n",
              "        [-1.7625, -1.7792,  2.2265,  ...,  0.0000,  0.0000,  0.0000],\n",
              "        [ 1.1602,  0.4447, -0.1067,  ...,  0.0000,  0.0000,  0.0000],\n",
              "        ...,\n",
              "        [ 1.2970,  1.3000, -0.1067,  ...,  0.0000,  0.0000,  0.0000],\n",
              "        [-1.1855, -0.6958, -0.1067,  ...,  1.0000,  0.0000,  0.0000],\n",
              "        [ 0.0131,  0.1595,  0.4766,  ...,  0.0000,  0.0000,  0.0000]],\n",
              "       dtype=torch.float64)"
            ]
          },
          "metadata": {},
          "execution_count": 21
        }
      ]
    },
    {
      "cell_type": "code",
      "source": [
        "# From tensor to pandas dataframe\n",
        "carAuction_df = pd.DataFrame(carAuction_tensor.tolist())\n",
        "carAuction_df"
      ],
      "metadata": {
        "id": "-JSXXetUWYWh",
        "colab": {
          "base_uri": "https://localhost:8080/",
          "height": 488
        },
        "outputId": "799fe85a-6e4f-4484-eaf0-c7474aae51b1"
      },
      "execution_count": null,
      "outputs": [
        {
          "output_type": "execute_result",
          "data": {
            "text/plain": [
              "            0         1         2         3         4    5    6    7    8   \\\n",
              "0    -1.337561 -0.809831  2.226463  0.264027 -0.674806  0.0  0.0  0.0  0.0   \n",
              "1    -1.762502 -1.779205  2.226463  0.776364  1.711088  0.0  0.0  0.0  0.0   \n",
              "2     1.160153  0.444654 -0.106683 -0.967013 -1.136221  0.0  0.0  0.0  0.0   \n",
              "3     0.908320  1.014874  0.476603 -1.064306 -0.182192  0.0  0.0  0.0  0.0   \n",
              "4     2.227245  1.927226  0.476603  1.032227 -0.701079  0.0  0.0  0.0  0.0   \n",
              "...        ...       ...       ...       ...       ...  ...  ...  ...  ...   \n",
              "9995  0.585184 -0.068545 -0.106683  0.942014 -0.487612  0.0  0.0  0.0  0.0   \n",
              "9996 -0.492625  0.159543  1.643176  1.233962  0.431934  0.0  0.0  1.0  0.0   \n",
              "9997  1.296991  1.299984 -0.106683 -0.827780  0.225036  0.0  0.0  1.0  0.0   \n",
              "9998 -1.185473 -0.695787 -0.106683 -1.559078 -1.310278  0.0  0.0  0.0  1.0   \n",
              "9999  0.013100  0.159543  0.476603  0.750424 -0.060680  0.0  0.0  0.0  0.0   \n",
              "\n",
              "       9   ...   30   31   32   33   34   35   36   37   38   39  \n",
              "0     0.0  ...  0.0  0.0  0.0  0.0  1.0  0.0  0.0  0.0  0.0  0.0  \n",
              "1     0.0  ...  0.0  0.0  0.0  1.0  1.0  0.0  0.0  0.0  0.0  0.0  \n",
              "2     0.0  ...  0.0  0.0  0.0  0.0  0.0  0.0  0.0  0.0  0.0  0.0  \n",
              "3     0.0  ...  0.0  0.0  0.0  0.0  1.0  0.0  0.0  0.0  0.0  0.0  \n",
              "4     0.0  ...  0.0  0.0  0.0  0.0  1.0  0.0  0.0  0.0  0.0  0.0  \n",
              "...   ...  ...  ...  ...  ...  ...  ...  ...  ...  ...  ...  ...  \n",
              "9995  0.0  ...  0.0  0.0  0.0  0.0  0.0  0.0  0.0  0.0  0.0  0.0  \n",
              "9996  0.0  ...  0.0  0.0  0.0  0.0  0.0  1.0  0.0  0.0  0.0  0.0  \n",
              "9997  0.0  ...  0.0  0.0  0.0  0.0  0.0  0.0  0.0  0.0  0.0  0.0  \n",
              "9998  0.0  ...  0.0  0.0  0.0  0.0  0.0  0.0  1.0  1.0  0.0  0.0  \n",
              "9999  0.0  ...  0.0  0.0  0.0  0.0  1.0  0.0  0.0  0.0  0.0  0.0  \n",
              "\n",
              "[10000 rows x 40 columns]"
            ],
            "text/html": [
              "\n",
              "  <div id=\"df-bc663330-3c97-40a8-b0f0-63355608d38c\">\n",
              "    <div class=\"colab-df-container\">\n",
              "      <div>\n",
              "<style scoped>\n",
              "    .dataframe tbody tr th:only-of-type {\n",
              "        vertical-align: middle;\n",
              "    }\n",
              "\n",
              "    .dataframe tbody tr th {\n",
              "        vertical-align: top;\n",
              "    }\n",
              "\n",
              "    .dataframe thead th {\n",
              "        text-align: right;\n",
              "    }\n",
              "</style>\n",
              "<table border=\"1\" class=\"dataframe\">\n",
              "  <thead>\n",
              "    <tr style=\"text-align: right;\">\n",
              "      <th></th>\n",
              "      <th>0</th>\n",
              "      <th>1</th>\n",
              "      <th>2</th>\n",
              "      <th>3</th>\n",
              "      <th>4</th>\n",
              "      <th>5</th>\n",
              "      <th>6</th>\n",
              "      <th>7</th>\n",
              "      <th>8</th>\n",
              "      <th>9</th>\n",
              "      <th>...</th>\n",
              "      <th>30</th>\n",
              "      <th>31</th>\n",
              "      <th>32</th>\n",
              "      <th>33</th>\n",
              "      <th>34</th>\n",
              "      <th>35</th>\n",
              "      <th>36</th>\n",
              "      <th>37</th>\n",
              "      <th>38</th>\n",
              "      <th>39</th>\n",
              "    </tr>\n",
              "  </thead>\n",
              "  <tbody>\n",
              "    <tr>\n",
              "      <th>0</th>\n",
              "      <td>-1.337561</td>\n",
              "      <td>-0.809831</td>\n",
              "      <td>2.226463</td>\n",
              "      <td>0.264027</td>\n",
              "      <td>-0.674806</td>\n",
              "      <td>0.0</td>\n",
              "      <td>0.0</td>\n",
              "      <td>0.0</td>\n",
              "      <td>0.0</td>\n",
              "      <td>0.0</td>\n",
              "      <td>...</td>\n",
              "      <td>0.0</td>\n",
              "      <td>0.0</td>\n",
              "      <td>0.0</td>\n",
              "      <td>0.0</td>\n",
              "      <td>1.0</td>\n",
              "      <td>0.0</td>\n",
              "      <td>0.0</td>\n",
              "      <td>0.0</td>\n",
              "      <td>0.0</td>\n",
              "      <td>0.0</td>\n",
              "    </tr>\n",
              "    <tr>\n",
              "      <th>1</th>\n",
              "      <td>-1.762502</td>\n",
              "      <td>-1.779205</td>\n",
              "      <td>2.226463</td>\n",
              "      <td>0.776364</td>\n",
              "      <td>1.711088</td>\n",
              "      <td>0.0</td>\n",
              "      <td>0.0</td>\n",
              "      <td>0.0</td>\n",
              "      <td>0.0</td>\n",
              "      <td>0.0</td>\n",
              "      <td>...</td>\n",
              "      <td>0.0</td>\n",
              "      <td>0.0</td>\n",
              "      <td>0.0</td>\n",
              "      <td>1.0</td>\n",
              "      <td>1.0</td>\n",
              "      <td>0.0</td>\n",
              "      <td>0.0</td>\n",
              "      <td>0.0</td>\n",
              "      <td>0.0</td>\n",
              "      <td>0.0</td>\n",
              "    </tr>\n",
              "    <tr>\n",
              "      <th>2</th>\n",
              "      <td>1.160153</td>\n",
              "      <td>0.444654</td>\n",
              "      <td>-0.106683</td>\n",
              "      <td>-0.967013</td>\n",
              "      <td>-1.136221</td>\n",
              "      <td>0.0</td>\n",
              "      <td>0.0</td>\n",
              "      <td>0.0</td>\n",
              "      <td>0.0</td>\n",
              "      <td>0.0</td>\n",
              "      <td>...</td>\n",
              "      <td>0.0</td>\n",
              "      <td>0.0</td>\n",
              "      <td>0.0</td>\n",
              "      <td>0.0</td>\n",
              "      <td>0.0</td>\n",
              "      <td>0.0</td>\n",
              "      <td>0.0</td>\n",
              "      <td>0.0</td>\n",
              "      <td>0.0</td>\n",
              "      <td>0.0</td>\n",
              "    </tr>\n",
              "    <tr>\n",
              "      <th>3</th>\n",
              "      <td>0.908320</td>\n",
              "      <td>1.014874</td>\n",
              "      <td>0.476603</td>\n",
              "      <td>-1.064306</td>\n",
              "      <td>-0.182192</td>\n",
              "      <td>0.0</td>\n",
              "      <td>0.0</td>\n",
              "      <td>0.0</td>\n",
              "      <td>0.0</td>\n",
              "      <td>0.0</td>\n",
              "      <td>...</td>\n",
              "      <td>0.0</td>\n",
              "      <td>0.0</td>\n",
              "      <td>0.0</td>\n",
              "      <td>0.0</td>\n",
              "      <td>1.0</td>\n",
              "      <td>0.0</td>\n",
              "      <td>0.0</td>\n",
              "      <td>0.0</td>\n",
              "      <td>0.0</td>\n",
              "      <td>0.0</td>\n",
              "    </tr>\n",
              "    <tr>\n",
              "      <th>4</th>\n",
              "      <td>2.227245</td>\n",
              "      <td>1.927226</td>\n",
              "      <td>0.476603</td>\n",
              "      <td>1.032227</td>\n",
              "      <td>-0.701079</td>\n",
              "      <td>0.0</td>\n",
              "      <td>0.0</td>\n",
              "      <td>0.0</td>\n",
              "      <td>0.0</td>\n",
              "      <td>0.0</td>\n",
              "      <td>...</td>\n",
              "      <td>0.0</td>\n",
              "      <td>0.0</td>\n",
              "      <td>0.0</td>\n",
              "      <td>0.0</td>\n",
              "      <td>1.0</td>\n",
              "      <td>0.0</td>\n",
              "      <td>0.0</td>\n",
              "      <td>0.0</td>\n",
              "      <td>0.0</td>\n",
              "      <td>0.0</td>\n",
              "    </tr>\n",
              "    <tr>\n",
              "      <th>...</th>\n",
              "      <td>...</td>\n",
              "      <td>...</td>\n",
              "      <td>...</td>\n",
              "      <td>...</td>\n",
              "      <td>...</td>\n",
              "      <td>...</td>\n",
              "      <td>...</td>\n",
              "      <td>...</td>\n",
              "      <td>...</td>\n",
              "      <td>...</td>\n",
              "      <td>...</td>\n",
              "      <td>...</td>\n",
              "      <td>...</td>\n",
              "      <td>...</td>\n",
              "      <td>...</td>\n",
              "      <td>...</td>\n",
              "      <td>...</td>\n",
              "      <td>...</td>\n",
              "      <td>...</td>\n",
              "      <td>...</td>\n",
              "      <td>...</td>\n",
              "    </tr>\n",
              "    <tr>\n",
              "      <th>9995</th>\n",
              "      <td>0.585184</td>\n",
              "      <td>-0.068545</td>\n",
              "      <td>-0.106683</td>\n",
              "      <td>0.942014</td>\n",
              "      <td>-0.487612</td>\n",
              "      <td>0.0</td>\n",
              "      <td>0.0</td>\n",
              "      <td>0.0</td>\n",
              "      <td>0.0</td>\n",
              "      <td>0.0</td>\n",
              "      <td>...</td>\n",
              "      <td>0.0</td>\n",
              "      <td>0.0</td>\n",
              "      <td>0.0</td>\n",
              "      <td>0.0</td>\n",
              "      <td>0.0</td>\n",
              "      <td>0.0</td>\n",
              "      <td>0.0</td>\n",
              "      <td>0.0</td>\n",
              "      <td>0.0</td>\n",
              "      <td>0.0</td>\n",
              "    </tr>\n",
              "    <tr>\n",
              "      <th>9996</th>\n",
              "      <td>-0.492625</td>\n",
              "      <td>0.159543</td>\n",
              "      <td>1.643176</td>\n",
              "      <td>1.233962</td>\n",
              "      <td>0.431934</td>\n",
              "      <td>0.0</td>\n",
              "      <td>0.0</td>\n",
              "      <td>1.0</td>\n",
              "      <td>0.0</td>\n",
              "      <td>0.0</td>\n",
              "      <td>...</td>\n",
              "      <td>0.0</td>\n",
              "      <td>0.0</td>\n",
              "      <td>0.0</td>\n",
              "      <td>0.0</td>\n",
              "      <td>0.0</td>\n",
              "      <td>1.0</td>\n",
              "      <td>0.0</td>\n",
              "      <td>0.0</td>\n",
              "      <td>0.0</td>\n",
              "      <td>0.0</td>\n",
              "    </tr>\n",
              "    <tr>\n",
              "      <th>9997</th>\n",
              "      <td>1.296991</td>\n",
              "      <td>1.299984</td>\n",
              "      <td>-0.106683</td>\n",
              "      <td>-0.827780</td>\n",
              "      <td>0.225036</td>\n",
              "      <td>0.0</td>\n",
              "      <td>0.0</td>\n",
              "      <td>1.0</td>\n",
              "      <td>0.0</td>\n",
              "      <td>0.0</td>\n",
              "      <td>...</td>\n",
              "      <td>0.0</td>\n",
              "      <td>0.0</td>\n",
              "      <td>0.0</td>\n",
              "      <td>0.0</td>\n",
              "      <td>0.0</td>\n",
              "      <td>0.0</td>\n",
              "      <td>0.0</td>\n",
              "      <td>0.0</td>\n",
              "      <td>0.0</td>\n",
              "      <td>0.0</td>\n",
              "    </tr>\n",
              "    <tr>\n",
              "      <th>9998</th>\n",
              "      <td>-1.185473</td>\n",
              "      <td>-0.695787</td>\n",
              "      <td>-0.106683</td>\n",
              "      <td>-1.559078</td>\n",
              "      <td>-1.310278</td>\n",
              "      <td>0.0</td>\n",
              "      <td>0.0</td>\n",
              "      <td>0.0</td>\n",
              "      <td>1.0</td>\n",
              "      <td>0.0</td>\n",
              "      <td>...</td>\n",
              "      <td>0.0</td>\n",
              "      <td>0.0</td>\n",
              "      <td>0.0</td>\n",
              "      <td>0.0</td>\n",
              "      <td>0.0</td>\n",
              "      <td>0.0</td>\n",
              "      <td>1.0</td>\n",
              "      <td>1.0</td>\n",
              "      <td>0.0</td>\n",
              "      <td>0.0</td>\n",
              "    </tr>\n",
              "    <tr>\n",
              "      <th>9999</th>\n",
              "      <td>0.013100</td>\n",
              "      <td>0.159543</td>\n",
              "      <td>0.476603</td>\n",
              "      <td>0.750424</td>\n",
              "      <td>-0.060680</td>\n",
              "      <td>0.0</td>\n",
              "      <td>0.0</td>\n",
              "      <td>0.0</td>\n",
              "      <td>0.0</td>\n",
              "      <td>0.0</td>\n",
              "      <td>...</td>\n",
              "      <td>0.0</td>\n",
              "      <td>0.0</td>\n",
              "      <td>0.0</td>\n",
              "      <td>0.0</td>\n",
              "      <td>1.0</td>\n",
              "      <td>0.0</td>\n",
              "      <td>0.0</td>\n",
              "      <td>0.0</td>\n",
              "      <td>0.0</td>\n",
              "      <td>0.0</td>\n",
              "    </tr>\n",
              "  </tbody>\n",
              "</table>\n",
              "<p>10000 rows × 40 columns</p>\n",
              "</div>\n",
              "      <button class=\"colab-df-convert\" onclick=\"convertToInteractive('df-bc663330-3c97-40a8-b0f0-63355608d38c')\"\n",
              "              title=\"Convert this dataframe to an interactive table.\"\n",
              "              style=\"display:none;\">\n",
              "        \n",
              "  <svg xmlns=\"http://www.w3.org/2000/svg\" height=\"24px\"viewBox=\"0 0 24 24\"\n",
              "       width=\"24px\">\n",
              "    <path d=\"M0 0h24v24H0V0z\" fill=\"none\"/>\n",
              "    <path d=\"M18.56 5.44l.94 2.06.94-2.06 2.06-.94-2.06-.94-.94-2.06-.94 2.06-2.06.94zm-11 1L8.5 8.5l.94-2.06 2.06-.94-2.06-.94L8.5 2.5l-.94 2.06-2.06.94zm10 10l.94 2.06.94-2.06 2.06-.94-2.06-.94-.94-2.06-.94 2.06-2.06.94z\"/><path d=\"M17.41 7.96l-1.37-1.37c-.4-.4-.92-.59-1.43-.59-.52 0-1.04.2-1.43.59L10.3 9.45l-7.72 7.72c-.78.78-.78 2.05 0 2.83L4 21.41c.39.39.9.59 1.41.59.51 0 1.02-.2 1.41-.59l7.78-7.78 2.81-2.81c.8-.78.8-2.07 0-2.86zM5.41 20L4 18.59l7.72-7.72 1.47 1.35L5.41 20z\"/>\n",
              "  </svg>\n",
              "      </button>\n",
              "      \n",
              "  <style>\n",
              "    .colab-df-container {\n",
              "      display:flex;\n",
              "      flex-wrap:wrap;\n",
              "      gap: 12px;\n",
              "    }\n",
              "\n",
              "    .colab-df-convert {\n",
              "      background-color: #E8F0FE;\n",
              "      border: none;\n",
              "      border-radius: 50%;\n",
              "      cursor: pointer;\n",
              "      display: none;\n",
              "      fill: #1967D2;\n",
              "      height: 32px;\n",
              "      padding: 0 0 0 0;\n",
              "      width: 32px;\n",
              "    }\n",
              "\n",
              "    .colab-df-convert:hover {\n",
              "      background-color: #E2EBFA;\n",
              "      box-shadow: 0px 1px 2px rgba(60, 64, 67, 0.3), 0px 1px 3px 1px rgba(60, 64, 67, 0.15);\n",
              "      fill: #174EA6;\n",
              "    }\n",
              "\n",
              "    [theme=dark] .colab-df-convert {\n",
              "      background-color: #3B4455;\n",
              "      fill: #D2E3FC;\n",
              "    }\n",
              "\n",
              "    [theme=dark] .colab-df-convert:hover {\n",
              "      background-color: #434B5C;\n",
              "      box-shadow: 0px 1px 3px 1px rgba(0, 0, 0, 0.15);\n",
              "      filter: drop-shadow(0px 1px 2px rgba(0, 0, 0, 0.3));\n",
              "      fill: #FFFFFF;\n",
              "    }\n",
              "  </style>\n",
              "\n",
              "      <script>\n",
              "        const buttonEl =\n",
              "          document.querySelector('#df-bc663330-3c97-40a8-b0f0-63355608d38c button.colab-df-convert');\n",
              "        buttonEl.style.display =\n",
              "          google.colab.kernel.accessAllowed ? 'block' : 'none';\n",
              "\n",
              "        async function convertToInteractive(key) {\n",
              "          const element = document.querySelector('#df-bc663330-3c97-40a8-b0f0-63355608d38c');\n",
              "          const dataTable =\n",
              "            await google.colab.kernel.invokeFunction('convertToInteractive',\n",
              "                                                     [key], {});\n",
              "          if (!dataTable) return;\n",
              "\n",
              "          const docLinkHtml = 'Like what you see? Visit the ' +\n",
              "            '<a target=\"_blank\" href=https://colab.research.google.com/notebooks/data_table.ipynb>data table notebook</a>'\n",
              "            + ' to learn more about interactive tables.';\n",
              "          element.innerHTML = '';\n",
              "          dataTable['output_type'] = 'display_data';\n",
              "          await google.colab.output.renderOutput(dataTable, element);\n",
              "          const docLink = document.createElement('div');\n",
              "          docLink.innerHTML = docLinkHtml;\n",
              "          element.appendChild(docLink);\n",
              "        }\n",
              "      </script>\n",
              "    </div>\n",
              "  </div>\n",
              "  "
            ]
          },
          "metadata": {},
          "execution_count": 22
        }
      ]
    },
    {
      "cell_type": "code",
      "source": [
        "!jupyter nbconvert --to html \"/content/drive/MyDrive/DL_Lab/Lab_4_Fundamentals_of_Tensor.ipynb\""
      ],
      "metadata": {
        "id": "4PCevx1-wkIF",
        "colab": {
          "base_uri": "https://localhost:8080/"
        },
        "outputId": "8ac167c3-0670-48e9-fd70-c2b1a1843fce"
      },
      "execution_count": null,
      "outputs": [
        {
          "output_type": "stream",
          "name": "stdout",
          "text": [
            "[NbConvertApp] Converting notebook /content/drive/MyDrive/DL_Lab/Lab_4_Fundamentals_of_Tensor.ipynb to html\n",
            "[NbConvertApp] Writing 335438 bytes to /content/drive/MyDrive/DL_Lab/Lab_4_Fundamentals_of_Tensor.html\n"
          ]
        }
      ]
    }
  ]
}