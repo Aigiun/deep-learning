{
  "cells": [
    {
      "cell_type": "markdown",
      "metadata": {
        "id": "_YEHhu06X2im"
      },
      "source": [
        "#Lab2: Classification and Numeric Prediction\n",
        "\n",
        "---"
      ]
    },
    {
      "cell_type": "markdown",
      "metadata": {
        "id": "AYIrh73dtsfW"
      },
      "source": [
        "## Part 1: Classification"
      ]
    },
    {
      "cell_type": "markdown",
      "metadata": {
        "id": "6jFjFMqAX-yp"
      },
      "source": [
        "This data set contains information of cars purchased at the Auction.\n",
        "<br>\n",
        "We will use this file to predict the quality of buying decisions and visualize decision processes.\n",
        "<br>\n",
        "<br>\n",
        "VARIABLE DESCRIPTIONS:<br>\n",
        "Auction: Auction provider at which the  vehicle was purchased<br>\n",
        "Color: Vehicle Color<br>\n",
        "IsBadBuy: Identifies if the kicked vehicle was an avoidable purchase<br>\n",
        "MMRCurrentAuctionAveragePrice: Acquisition price for this vehicle in average condition as of current day<br>\n",
        "Size: The size category of the vehicle (Compact, SUV, etc.)<br>\n",
        "TopThreeAmericanName:Identifies if the manufacturer is one of the top three American manufacturers<br>\n",
        "VehBCost: Acquisition cost paid for the vehicle at time of purchase<br>\n",
        "VehicleAge: The Years elapsed since the manufacturer's year<br>\n",
        "VehOdo: The vehicles odometer reading<br>\n",
        "WarrantyCost: Warranty price (term=36month  and millage=36K)<br>\n",
        "WheelType: The vehicle wheel type description (Alloy, Covers)<br>\n",
        "<br>\n",
        "Target variable: **IsBadBuy**"
      ]
    },
    {
      "cell_type": "markdown",
      "metadata": {
        "id": "D6UCBjrtG-g6"
      },
      "source": [
        "###1. Upload and clean data"
      ]
    },
    {
      "cell_type": "code",
      "execution_count": null,
      "metadata": {
        "colab": {
          "base_uri": "https://localhost:8080/"
        },
        "id": "-5vlFjOet49B",
        "outputId": "de7ff310-c70e-46e7-cd49-262011a33ad7"
      },
      "outputs": [
        {
          "output_type": "stream",
          "name": "stdout",
          "text": [
            "Drive already mounted at /content/drive; to attempt to forcibly remount, call drive.mount(\"/content/drive\", force_remount=True).\n"
          ]
        }
      ],
      "source": [
        "# Mounting Google Drive\n",
        "from google.colab import drive\n",
        "drive.mount('/content/drive')"
      ]
    },
    {
      "cell_type": "code",
      "execution_count": null,
      "metadata": {
        "id": "4db5s5prM1z8"
      },
      "outputs": [],
      "source": [
        "# Import libraries\n",
        "import pandas as pd\n",
        "from sklearn.model_selection import train_test_split\n",
        "from matplotlib import pyplot as plt\n",
        "from sklearn import tree\n",
        "from sklearn.tree import DecisionTreeClassifier\n",
        "from sklearn.metrics import plot_confusion_matrix\n",
        "from sklearn.metrics import classification_report"
      ]
    },
    {
      "cell_type": "code",
      "execution_count": null,
      "metadata": {
        "id": "Z7vBYMeBG0ZE",
        "colab": {
          "base_uri": "https://localhost:8080/",
          "height": 423
        },
        "outputId": "b96d31c1-1b10-4c76-907e-d8977fe6021b"
      },
      "outputs": [
        {
          "output_type": "execute_result",
          "data": {
            "text/plain": [
              "     Auction   Color IsBadBuy  MMRCurrentAuctionAveragePrice         Size  \\\n",
              "0      ADESA   WHITE       No                           2871  LARGE TRUCK   \n",
              "1      ADESA    GOLD      Yes                           1840          VAN   \n",
              "2      ADESA     RED       No                           8931    SMALL SUV   \n",
              "3      ADESA    GOLD       No                           8320    CROSSOVER   \n",
              "4      ADESA    GREY       No                          11520  LARGE TRUCK   \n",
              "...      ...     ...      ...                            ...          ...   \n",
              "9995   ADESA     RED       No                           7536    SMALL SUV   \n",
              "9996   ADESA   BLACK       No                           4921  LARGE TRUCK   \n",
              "9997   ADESA   BLACK       No                           9263   MEDIUM SUV   \n",
              "9998   ADESA    BLUE       No                           3240       MEDIUM   \n",
              "9999   ADESA  SILVER       No                           6148   MEDIUM SUV   \n",
              "\n",
              "     TopThreeAmericanName  VehBCost  VehicleAge  VehOdo  WarrantyCost  \\\n",
              "0                    FORD      5300           8   75419           869   \n",
              "1                    FORD      3600           8   82944          2322   \n",
              "2                CHRYSLER      7500           4   57338           588   \n",
              "3                    FORD      8500           5   55909          1169   \n",
              "4                    FORD     10100           5   86702           853   \n",
              "...                   ...       ...         ...     ...           ...   \n",
              "9995             CHRYSLER      6600           4   85377           983   \n",
              "9996                   GM      7000           7   89665          1543   \n",
              "9997             CHRYSLER      9000           4   59383          1417   \n",
              "9998                OTHER      5500           4   48642           482   \n",
              "9999                 FORD      7000           5   82563          1243   \n",
              "\n",
              "     WheelType  \n",
              "0        Alloy  \n",
              "1        Alloy  \n",
              "2        Alloy  \n",
              "3        Alloy  \n",
              "4        Alloy  \n",
              "...        ...  \n",
              "9995     Alloy  \n",
              "9996     Alloy  \n",
              "9997     Alloy  \n",
              "9998    Covers  \n",
              "9999     Alloy  \n",
              "\n",
              "[10000 rows x 11 columns]"
            ],
            "text/html": [
              "\n",
              "  <div id=\"df-d05e4b90-bc63-43fb-9040-7b72df681eff\">\n",
              "    <div class=\"colab-df-container\">\n",
              "      <div>\n",
              "<style scoped>\n",
              "    .dataframe tbody tr th:only-of-type {\n",
              "        vertical-align: middle;\n",
              "    }\n",
              "\n",
              "    .dataframe tbody tr th {\n",
              "        vertical-align: top;\n",
              "    }\n",
              "\n",
              "    .dataframe thead th {\n",
              "        text-align: right;\n",
              "    }\n",
              "</style>\n",
              "<table border=\"1\" class=\"dataframe\">\n",
              "  <thead>\n",
              "    <tr style=\"text-align: right;\">\n",
              "      <th></th>\n",
              "      <th>Auction</th>\n",
              "      <th>Color</th>\n",
              "      <th>IsBadBuy</th>\n",
              "      <th>MMRCurrentAuctionAveragePrice</th>\n",
              "      <th>Size</th>\n",
              "      <th>TopThreeAmericanName</th>\n",
              "      <th>VehBCost</th>\n",
              "      <th>VehicleAge</th>\n",
              "      <th>VehOdo</th>\n",
              "      <th>WarrantyCost</th>\n",
              "      <th>WheelType</th>\n",
              "    </tr>\n",
              "  </thead>\n",
              "  <tbody>\n",
              "    <tr>\n",
              "      <th>0</th>\n",
              "      <td>ADESA</td>\n",
              "      <td>WHITE</td>\n",
              "      <td>No</td>\n",
              "      <td>2871</td>\n",
              "      <td>LARGE TRUCK</td>\n",
              "      <td>FORD</td>\n",
              "      <td>5300</td>\n",
              "      <td>8</td>\n",
              "      <td>75419</td>\n",
              "      <td>869</td>\n",
              "      <td>Alloy</td>\n",
              "    </tr>\n",
              "    <tr>\n",
              "      <th>1</th>\n",
              "      <td>ADESA</td>\n",
              "      <td>GOLD</td>\n",
              "      <td>Yes</td>\n",
              "      <td>1840</td>\n",
              "      <td>VAN</td>\n",
              "      <td>FORD</td>\n",
              "      <td>3600</td>\n",
              "      <td>8</td>\n",
              "      <td>82944</td>\n",
              "      <td>2322</td>\n",
              "      <td>Alloy</td>\n",
              "    </tr>\n",
              "    <tr>\n",
              "      <th>2</th>\n",
              "      <td>ADESA</td>\n",
              "      <td>RED</td>\n",
              "      <td>No</td>\n",
              "      <td>8931</td>\n",
              "      <td>SMALL SUV</td>\n",
              "      <td>CHRYSLER</td>\n",
              "      <td>7500</td>\n",
              "      <td>4</td>\n",
              "      <td>57338</td>\n",
              "      <td>588</td>\n",
              "      <td>Alloy</td>\n",
              "    </tr>\n",
              "    <tr>\n",
              "      <th>3</th>\n",
              "      <td>ADESA</td>\n",
              "      <td>GOLD</td>\n",
              "      <td>No</td>\n",
              "      <td>8320</td>\n",
              "      <td>CROSSOVER</td>\n",
              "      <td>FORD</td>\n",
              "      <td>8500</td>\n",
              "      <td>5</td>\n",
              "      <td>55909</td>\n",
              "      <td>1169</td>\n",
              "      <td>Alloy</td>\n",
              "    </tr>\n",
              "    <tr>\n",
              "      <th>4</th>\n",
              "      <td>ADESA</td>\n",
              "      <td>GREY</td>\n",
              "      <td>No</td>\n",
              "      <td>11520</td>\n",
              "      <td>LARGE TRUCK</td>\n",
              "      <td>FORD</td>\n",
              "      <td>10100</td>\n",
              "      <td>5</td>\n",
              "      <td>86702</td>\n",
              "      <td>853</td>\n",
              "      <td>Alloy</td>\n",
              "    </tr>\n",
              "    <tr>\n",
              "      <th>...</th>\n",
              "      <td>...</td>\n",
              "      <td>...</td>\n",
              "      <td>...</td>\n",
              "      <td>...</td>\n",
              "      <td>...</td>\n",
              "      <td>...</td>\n",
              "      <td>...</td>\n",
              "      <td>...</td>\n",
              "      <td>...</td>\n",
              "      <td>...</td>\n",
              "      <td>...</td>\n",
              "    </tr>\n",
              "    <tr>\n",
              "      <th>9995</th>\n",
              "      <td>ADESA</td>\n",
              "      <td>RED</td>\n",
              "      <td>No</td>\n",
              "      <td>7536</td>\n",
              "      <td>SMALL SUV</td>\n",
              "      <td>CHRYSLER</td>\n",
              "      <td>6600</td>\n",
              "      <td>4</td>\n",
              "      <td>85377</td>\n",
              "      <td>983</td>\n",
              "      <td>Alloy</td>\n",
              "    </tr>\n",
              "    <tr>\n",
              "      <th>9996</th>\n",
              "      <td>ADESA</td>\n",
              "      <td>BLACK</td>\n",
              "      <td>No</td>\n",
              "      <td>4921</td>\n",
              "      <td>LARGE TRUCK</td>\n",
              "      <td>GM</td>\n",
              "      <td>7000</td>\n",
              "      <td>7</td>\n",
              "      <td>89665</td>\n",
              "      <td>1543</td>\n",
              "      <td>Alloy</td>\n",
              "    </tr>\n",
              "    <tr>\n",
              "      <th>9997</th>\n",
              "      <td>ADESA</td>\n",
              "      <td>BLACK</td>\n",
              "      <td>No</td>\n",
              "      <td>9263</td>\n",
              "      <td>MEDIUM SUV</td>\n",
              "      <td>CHRYSLER</td>\n",
              "      <td>9000</td>\n",
              "      <td>4</td>\n",
              "      <td>59383</td>\n",
              "      <td>1417</td>\n",
              "      <td>Alloy</td>\n",
              "    </tr>\n",
              "    <tr>\n",
              "      <th>9998</th>\n",
              "      <td>ADESA</td>\n",
              "      <td>BLUE</td>\n",
              "      <td>No</td>\n",
              "      <td>3240</td>\n",
              "      <td>MEDIUM</td>\n",
              "      <td>OTHER</td>\n",
              "      <td>5500</td>\n",
              "      <td>4</td>\n",
              "      <td>48642</td>\n",
              "      <td>482</td>\n",
              "      <td>Covers</td>\n",
              "    </tr>\n",
              "    <tr>\n",
              "      <th>9999</th>\n",
              "      <td>ADESA</td>\n",
              "      <td>SILVER</td>\n",
              "      <td>No</td>\n",
              "      <td>6148</td>\n",
              "      <td>MEDIUM SUV</td>\n",
              "      <td>FORD</td>\n",
              "      <td>7000</td>\n",
              "      <td>5</td>\n",
              "      <td>82563</td>\n",
              "      <td>1243</td>\n",
              "      <td>Alloy</td>\n",
              "    </tr>\n",
              "  </tbody>\n",
              "</table>\n",
              "<p>10000 rows × 11 columns</p>\n",
              "</div>\n",
              "      <button class=\"colab-df-convert\" onclick=\"convertToInteractive('df-d05e4b90-bc63-43fb-9040-7b72df681eff')\"\n",
              "              title=\"Convert this dataframe to an interactive table.\"\n",
              "              style=\"display:none;\">\n",
              "        \n",
              "  <svg xmlns=\"http://www.w3.org/2000/svg\" height=\"24px\"viewBox=\"0 0 24 24\"\n",
              "       width=\"24px\">\n",
              "    <path d=\"M0 0h24v24H0V0z\" fill=\"none\"/>\n",
              "    <path d=\"M18.56 5.44l.94 2.06.94-2.06 2.06-.94-2.06-.94-.94-2.06-.94 2.06-2.06.94zm-11 1L8.5 8.5l.94-2.06 2.06-.94-2.06-.94L8.5 2.5l-.94 2.06-2.06.94zm10 10l.94 2.06.94-2.06 2.06-.94-2.06-.94-.94-2.06-.94 2.06-2.06.94z\"/><path d=\"M17.41 7.96l-1.37-1.37c-.4-.4-.92-.59-1.43-.59-.52 0-1.04.2-1.43.59L10.3 9.45l-7.72 7.72c-.78.78-.78 2.05 0 2.83L4 21.41c.39.39.9.59 1.41.59.51 0 1.02-.2 1.41-.59l7.78-7.78 2.81-2.81c.8-.78.8-2.07 0-2.86zM5.41 20L4 18.59l7.72-7.72 1.47 1.35L5.41 20z\"/>\n",
              "  </svg>\n",
              "      </button>\n",
              "      \n",
              "  <style>\n",
              "    .colab-df-container {\n",
              "      display:flex;\n",
              "      flex-wrap:wrap;\n",
              "      gap: 12px;\n",
              "    }\n",
              "\n",
              "    .colab-df-convert {\n",
              "      background-color: #E8F0FE;\n",
              "      border: none;\n",
              "      border-radius: 50%;\n",
              "      cursor: pointer;\n",
              "      display: none;\n",
              "      fill: #1967D2;\n",
              "      height: 32px;\n",
              "      padding: 0 0 0 0;\n",
              "      width: 32px;\n",
              "    }\n",
              "\n",
              "    .colab-df-convert:hover {\n",
              "      background-color: #E2EBFA;\n",
              "      box-shadow: 0px 1px 2px rgba(60, 64, 67, 0.3), 0px 1px 3px 1px rgba(60, 64, 67, 0.15);\n",
              "      fill: #174EA6;\n",
              "    }\n",
              "\n",
              "    [theme=dark] .colab-df-convert {\n",
              "      background-color: #3B4455;\n",
              "      fill: #D2E3FC;\n",
              "    }\n",
              "\n",
              "    [theme=dark] .colab-df-convert:hover {\n",
              "      background-color: #434B5C;\n",
              "      box-shadow: 0px 1px 3px 1px rgba(0, 0, 0, 0.15);\n",
              "      filter: drop-shadow(0px 1px 2px rgba(0, 0, 0, 0.3));\n",
              "      fill: #FFFFFF;\n",
              "    }\n",
              "  </style>\n",
              "\n",
              "      <script>\n",
              "        const buttonEl =\n",
              "          document.querySelector('#df-d05e4b90-bc63-43fb-9040-7b72df681eff button.colab-df-convert');\n",
              "        buttonEl.style.display =\n",
              "          google.colab.kernel.accessAllowed ? 'block' : 'none';\n",
              "\n",
              "        async function convertToInteractive(key) {\n",
              "          const element = document.querySelector('#df-d05e4b90-bc63-43fb-9040-7b72df681eff');\n",
              "          const dataTable =\n",
              "            await google.colab.kernel.invokeFunction('convertToInteractive',\n",
              "                                                     [key], {});\n",
              "          if (!dataTable) return;\n",
              "\n",
              "          const docLinkHtml = 'Like what you see? Visit the ' +\n",
              "            '<a target=\"_blank\" href=https://colab.research.google.com/notebooks/data_table.ipynb>data table notebook</a>'\n",
              "            + ' to learn more about interactive tables.';\n",
              "          element.innerHTML = '';\n",
              "          dataTable['output_type'] = 'display_data';\n",
              "          await google.colab.output.renderOutput(dataTable, element);\n",
              "          const docLink = document.createElement('div');\n",
              "          docLink.innerHTML = docLinkHtml;\n",
              "          element.appendChild(docLink);\n",
              "        }\n",
              "      </script>\n",
              "    </div>\n",
              "  </div>\n",
              "  "
            ]
          },
          "metadata": {},
          "execution_count": 53
        }
      ],
      "source": [
        "# Read data\n",
        "carAuction = pd.read_csv(\"/content/drive/MyDrive/DL_data/carAuction.csv\")\n",
        "carAuction"
      ]
    },
    {
      "cell_type": "code",
      "execution_count": null,
      "metadata": {
        "id": "LiI3pabsNeRG",
        "colab": {
          "base_uri": "https://localhost:8080/",
          "height": 206
        },
        "outputId": "3f8b98bf-992d-438c-d18f-3e31bc3c2349"
      },
      "outputs": [
        {
          "output_type": "execute_result",
          "data": {
            "text/plain": [
              "  Auction  Color IsBadBuy  MMRCurrentAuctionAveragePrice         Size  \\\n",
              "0   ADESA  WHITE       No                           2871  LARGE TRUCK   \n",
              "1   ADESA   GOLD      Yes                           1840          VAN   \n",
              "2   ADESA    RED       No                           8931    SMALL SUV   \n",
              "3   ADESA   GOLD       No                           8320    CROSSOVER   \n",
              "4   ADESA   GREY       No                          11520  LARGE TRUCK   \n",
              "\n",
              "  TopThreeAmericanName  VehBCost  VehicleAge  VehOdo  WarrantyCost WheelType  \n",
              "0                 FORD      5300           8   75419           869     Alloy  \n",
              "1                 FORD      3600           8   82944          2322     Alloy  \n",
              "2             CHRYSLER      7500           4   57338           588     Alloy  \n",
              "3                 FORD      8500           5   55909          1169     Alloy  \n",
              "4                 FORD     10100           5   86702           853     Alloy  "
            ],
            "text/html": [
              "\n",
              "  <div id=\"df-3ebb76c9-54ce-4109-8f71-8f6c484b1afc\">\n",
              "    <div class=\"colab-df-container\">\n",
              "      <div>\n",
              "<style scoped>\n",
              "    .dataframe tbody tr th:only-of-type {\n",
              "        vertical-align: middle;\n",
              "    }\n",
              "\n",
              "    .dataframe tbody tr th {\n",
              "        vertical-align: top;\n",
              "    }\n",
              "\n",
              "    .dataframe thead th {\n",
              "        text-align: right;\n",
              "    }\n",
              "</style>\n",
              "<table border=\"1\" class=\"dataframe\">\n",
              "  <thead>\n",
              "    <tr style=\"text-align: right;\">\n",
              "      <th></th>\n",
              "      <th>Auction</th>\n",
              "      <th>Color</th>\n",
              "      <th>IsBadBuy</th>\n",
              "      <th>MMRCurrentAuctionAveragePrice</th>\n",
              "      <th>Size</th>\n",
              "      <th>TopThreeAmericanName</th>\n",
              "      <th>VehBCost</th>\n",
              "      <th>VehicleAge</th>\n",
              "      <th>VehOdo</th>\n",
              "      <th>WarrantyCost</th>\n",
              "      <th>WheelType</th>\n",
              "    </tr>\n",
              "  </thead>\n",
              "  <tbody>\n",
              "    <tr>\n",
              "      <th>0</th>\n",
              "      <td>ADESA</td>\n",
              "      <td>WHITE</td>\n",
              "      <td>No</td>\n",
              "      <td>2871</td>\n",
              "      <td>LARGE TRUCK</td>\n",
              "      <td>FORD</td>\n",
              "      <td>5300</td>\n",
              "      <td>8</td>\n",
              "      <td>75419</td>\n",
              "      <td>869</td>\n",
              "      <td>Alloy</td>\n",
              "    </tr>\n",
              "    <tr>\n",
              "      <th>1</th>\n",
              "      <td>ADESA</td>\n",
              "      <td>GOLD</td>\n",
              "      <td>Yes</td>\n",
              "      <td>1840</td>\n",
              "      <td>VAN</td>\n",
              "      <td>FORD</td>\n",
              "      <td>3600</td>\n",
              "      <td>8</td>\n",
              "      <td>82944</td>\n",
              "      <td>2322</td>\n",
              "      <td>Alloy</td>\n",
              "    </tr>\n",
              "    <tr>\n",
              "      <th>2</th>\n",
              "      <td>ADESA</td>\n",
              "      <td>RED</td>\n",
              "      <td>No</td>\n",
              "      <td>8931</td>\n",
              "      <td>SMALL SUV</td>\n",
              "      <td>CHRYSLER</td>\n",
              "      <td>7500</td>\n",
              "      <td>4</td>\n",
              "      <td>57338</td>\n",
              "      <td>588</td>\n",
              "      <td>Alloy</td>\n",
              "    </tr>\n",
              "    <tr>\n",
              "      <th>3</th>\n",
              "      <td>ADESA</td>\n",
              "      <td>GOLD</td>\n",
              "      <td>No</td>\n",
              "      <td>8320</td>\n",
              "      <td>CROSSOVER</td>\n",
              "      <td>FORD</td>\n",
              "      <td>8500</td>\n",
              "      <td>5</td>\n",
              "      <td>55909</td>\n",
              "      <td>1169</td>\n",
              "      <td>Alloy</td>\n",
              "    </tr>\n",
              "    <tr>\n",
              "      <th>4</th>\n",
              "      <td>ADESA</td>\n",
              "      <td>GREY</td>\n",
              "      <td>No</td>\n",
              "      <td>11520</td>\n",
              "      <td>LARGE TRUCK</td>\n",
              "      <td>FORD</td>\n",
              "      <td>10100</td>\n",
              "      <td>5</td>\n",
              "      <td>86702</td>\n",
              "      <td>853</td>\n",
              "      <td>Alloy</td>\n",
              "    </tr>\n",
              "  </tbody>\n",
              "</table>\n",
              "</div>\n",
              "      <button class=\"colab-df-convert\" onclick=\"convertToInteractive('df-3ebb76c9-54ce-4109-8f71-8f6c484b1afc')\"\n",
              "              title=\"Convert this dataframe to an interactive table.\"\n",
              "              style=\"display:none;\">\n",
              "        \n",
              "  <svg xmlns=\"http://www.w3.org/2000/svg\" height=\"24px\"viewBox=\"0 0 24 24\"\n",
              "       width=\"24px\">\n",
              "    <path d=\"M0 0h24v24H0V0z\" fill=\"none\"/>\n",
              "    <path d=\"M18.56 5.44l.94 2.06.94-2.06 2.06-.94-2.06-.94-.94-2.06-.94 2.06-2.06.94zm-11 1L8.5 8.5l.94-2.06 2.06-.94-2.06-.94L8.5 2.5l-.94 2.06-2.06.94zm10 10l.94 2.06.94-2.06 2.06-.94-2.06-.94-.94-2.06-.94 2.06-2.06.94z\"/><path d=\"M17.41 7.96l-1.37-1.37c-.4-.4-.92-.59-1.43-.59-.52 0-1.04.2-1.43.59L10.3 9.45l-7.72 7.72c-.78.78-.78 2.05 0 2.83L4 21.41c.39.39.9.59 1.41.59.51 0 1.02-.2 1.41-.59l7.78-7.78 2.81-2.81c.8-.78.8-2.07 0-2.86zM5.41 20L4 18.59l7.72-7.72 1.47 1.35L5.41 20z\"/>\n",
              "  </svg>\n",
              "      </button>\n",
              "      \n",
              "  <style>\n",
              "    .colab-df-container {\n",
              "      display:flex;\n",
              "      flex-wrap:wrap;\n",
              "      gap: 12px;\n",
              "    }\n",
              "\n",
              "    .colab-df-convert {\n",
              "      background-color: #E8F0FE;\n",
              "      border: none;\n",
              "      border-radius: 50%;\n",
              "      cursor: pointer;\n",
              "      display: none;\n",
              "      fill: #1967D2;\n",
              "      height: 32px;\n",
              "      padding: 0 0 0 0;\n",
              "      width: 32px;\n",
              "    }\n",
              "\n",
              "    .colab-df-convert:hover {\n",
              "      background-color: #E2EBFA;\n",
              "      box-shadow: 0px 1px 2px rgba(60, 64, 67, 0.3), 0px 1px 3px 1px rgba(60, 64, 67, 0.15);\n",
              "      fill: #174EA6;\n",
              "    }\n",
              "\n",
              "    [theme=dark] .colab-df-convert {\n",
              "      background-color: #3B4455;\n",
              "      fill: #D2E3FC;\n",
              "    }\n",
              "\n",
              "    [theme=dark] .colab-df-convert:hover {\n",
              "      background-color: #434B5C;\n",
              "      box-shadow: 0px 1px 3px 1px rgba(0, 0, 0, 0.15);\n",
              "      filter: drop-shadow(0px 1px 2px rgba(0, 0, 0, 0.3));\n",
              "      fill: #FFFFFF;\n",
              "    }\n",
              "  </style>\n",
              "\n",
              "      <script>\n",
              "        const buttonEl =\n",
              "          document.querySelector('#df-3ebb76c9-54ce-4109-8f71-8f6c484b1afc button.colab-df-convert');\n",
              "        buttonEl.style.display =\n",
              "          google.colab.kernel.accessAllowed ? 'block' : 'none';\n",
              "\n",
              "        async function convertToInteractive(key) {\n",
              "          const element = document.querySelector('#df-3ebb76c9-54ce-4109-8f71-8f6c484b1afc');\n",
              "          const dataTable =\n",
              "            await google.colab.kernel.invokeFunction('convertToInteractive',\n",
              "                                                     [key], {});\n",
              "          if (!dataTable) return;\n",
              "\n",
              "          const docLinkHtml = 'Like what you see? Visit the ' +\n",
              "            '<a target=\"_blank\" href=https://colab.research.google.com/notebooks/data_table.ipynb>data table notebook</a>'\n",
              "            + ' to learn more about interactive tables.';\n",
              "          element.innerHTML = '';\n",
              "          dataTable['output_type'] = 'display_data';\n",
              "          await google.colab.output.renderOutput(dataTable, element);\n",
              "          const docLink = document.createElement('div');\n",
              "          docLink.innerHTML = docLinkHtml;\n",
              "          element.appendChild(docLink);\n",
              "        }\n",
              "      </script>\n",
              "    </div>\n",
              "  </div>\n",
              "  "
            ]
          },
          "metadata": {},
          "execution_count": 54
        }
      ],
      "source": [
        "# Show the head rows of a data frame\n",
        "carAuction.head()"
      ]
    },
    {
      "cell_type": "code",
      "execution_count": null,
      "metadata": {
        "id": "Sxp6-L5nNeRH",
        "colab": {
          "base_uri": "https://localhost:8080/"
        },
        "outputId": "54e80308-8f97-460b-f6ce-0fe156f7335b"
      },
      "outputs": [
        {
          "output_type": "execute_result",
          "data": {
            "text/plain": [
              "Auction                          object\n",
              "Color                            object\n",
              "IsBadBuy                         object\n",
              "MMRCurrentAuctionAveragePrice     int64\n",
              "Size                             object\n",
              "TopThreeAmericanName             object\n",
              "VehBCost                          int64\n",
              "VehicleAge                        int64\n",
              "VehOdo                            int64\n",
              "WarrantyCost                      int64\n",
              "WheelType                        object\n",
              "dtype: object"
            ]
          },
          "metadata": {},
          "execution_count": 55
        }
      ],
      "source": [
        "# Examine variable type\n",
        "carAuction.dtypes"
      ]
    },
    {
      "cell_type": "code",
      "execution_count": null,
      "metadata": {
        "id": "0Tdv67wRNeRH"
      },
      "outputs": [],
      "source": [
        "# Change categorical variables to \"category\"\n",
        "carAuction['Auction'] = carAuction['Auction'].astype('category')\n",
        "carAuction['Color'] = carAuction['Color'].astype('category')\n",
        "carAuction['IsBadBuy'] = carAuction['IsBadBuy'].astype('category')\n",
        "carAuction['Size'] = carAuction['Size'].astype('category')\n",
        "carAuction['TopThreeAmericanName'] = carAuction['TopThreeAmericanName'].astype('category')\n",
        "carAuction['WheelType'] = carAuction['WheelType'].astype('category')"
      ]
    },
    {
      "cell_type": "code",
      "execution_count": null,
      "metadata": {
        "id": "UPWSMKGRpWAj",
        "colab": {
          "base_uri": "https://localhost:8080/"
        },
        "outputId": "adccc2ac-d3fd-4e65-d2bf-85b859d090a4"
      },
      "outputs": [
        {
          "output_type": "execute_result",
          "data": {
            "text/plain": [
              "Auction                          category\n",
              "Color                            category\n",
              "IsBadBuy                         category\n",
              "MMRCurrentAuctionAveragePrice       int64\n",
              "Size                             category\n",
              "TopThreeAmericanName             category\n",
              "VehBCost                            int64\n",
              "VehicleAge                          int64\n",
              "VehOdo                              int64\n",
              "WarrantyCost                        int64\n",
              "WheelType                        category\n",
              "dtype: object"
            ]
          },
          "metadata": {},
          "execution_count": 57
        }
      ],
      "source": [
        "# Examine variable type\n",
        "carAuction.dtypes"
      ]
    },
    {
      "cell_type": "markdown",
      "metadata": {
        "id": "a3baHs-sknIT"
      },
      "source": [
        "###2. Partition the data set for Decision Tree model"
      ]
    },
    {
      "cell_type": "code",
      "execution_count": null,
      "metadata": {
        "id": "PGheFILukrMR",
        "colab": {
          "base_uri": "https://localhost:8080/",
          "height": 505
        },
        "outputId": "f3a2fb57-7a6b-4e2d-e5b2-207ccacc66c2"
      },
      "outputs": [
        {
          "output_type": "execute_result",
          "data": {
            "text/plain": [
              "     IsBadBuy  MMRCurrentAuctionAveragePrice  VehBCost  VehicleAge  VehOdo  \\\n",
              "0          No                           2871      5300           8   75419   \n",
              "1         Yes                           1840      3600           8   82944   \n",
              "2          No                           8931      7500           4   57338   \n",
              "3          No                           8320      8500           5   55909   \n",
              "4          No                          11520     10100           5   86702   \n",
              "...       ...                            ...       ...         ...     ...   \n",
              "9995       No                           7536      6600           4   85377   \n",
              "9996       No                           4921      7000           7   89665   \n",
              "9997       No                           9263      9000           4   59383   \n",
              "9998       No                           3240      5500           4   48642   \n",
              "9999       No                           6148      7000           5   82563   \n",
              "\n",
              "      WarrantyCost  Auction_MANHEIM  Auction_OTHER  Color_BLACK  Color_BLUE  \\\n",
              "0              869                0              0            0           0   \n",
              "1             2322                0              0            0           0   \n",
              "2              588                0              0            0           0   \n",
              "3             1169                0              0            0           0   \n",
              "4              853                0              0            0           0   \n",
              "...            ...              ...            ...          ...         ...   \n",
              "9995           983                0              0            0           0   \n",
              "9996          1543                0              0            1           0   \n",
              "9997          1417                0              0            1           0   \n",
              "9998           482                0              0            0           1   \n",
              "9999          1243                0              0            0           0   \n",
              "\n",
              "      ...  Size_SMALL TRUCK  Size_SPECIALTY  Size_SPORTS  Size_VAN  \\\n",
              "0     ...                 0               0            0         0   \n",
              "1     ...                 0               0            0         1   \n",
              "2     ...                 0               0            0         0   \n",
              "3     ...                 0               0            0         0   \n",
              "4     ...                 0               0            0         0   \n",
              "...   ...               ...             ...          ...       ...   \n",
              "9995  ...                 0               0            0         0   \n",
              "9996  ...                 0               0            0         0   \n",
              "9997  ...                 0               0            0         0   \n",
              "9998  ...                 0               0            0         0   \n",
              "9999  ...                 0               0            0         0   \n",
              "\n",
              "      TopThreeAmericanName_FORD  TopThreeAmericanName_GM  \\\n",
              "0                             1                        0   \n",
              "1                             1                        0   \n",
              "2                             0                        0   \n",
              "3                             1                        0   \n",
              "4                             1                        0   \n",
              "...                         ...                      ...   \n",
              "9995                          0                        0   \n",
              "9996                          0                        1   \n",
              "9997                          0                        0   \n",
              "9998                          0                        0   \n",
              "9999                          1                        0   \n",
              "\n",
              "      TopThreeAmericanName_OTHER  WheelType_Covers  WheelType_Special  \\\n",
              "0                              0                 0                  0   \n",
              "1                              0                 0                  0   \n",
              "2                              0                 0                  0   \n",
              "3                              0                 0                  0   \n",
              "4                              0                 0                  0   \n",
              "...                          ...               ...                ...   \n",
              "9995                           0                 0                  0   \n",
              "9996                           0                 0                  0   \n",
              "9997                           0                 0                  0   \n",
              "9998                           1                 1                  0   \n",
              "9999                           0                 0                  0   \n",
              "\n",
              "      WheelType_unkwnWheel  \n",
              "0                        0  \n",
              "1                        0  \n",
              "2                        0  \n",
              "3                        0  \n",
              "4                        0  \n",
              "...                    ...  \n",
              "9995                     0  \n",
              "9996                     0  \n",
              "9997                     0  \n",
              "9998                     0  \n",
              "9999                     0  \n",
              "\n",
              "[10000 rows x 40 columns]"
            ],
            "text/html": [
              "\n",
              "  <div id=\"df-10dc861a-d7f8-4aff-8ac3-0470e6a963d0\">\n",
              "    <div class=\"colab-df-container\">\n",
              "      <div>\n",
              "<style scoped>\n",
              "    .dataframe tbody tr th:only-of-type {\n",
              "        vertical-align: middle;\n",
              "    }\n",
              "\n",
              "    .dataframe tbody tr th {\n",
              "        vertical-align: top;\n",
              "    }\n",
              "\n",
              "    .dataframe thead th {\n",
              "        text-align: right;\n",
              "    }\n",
              "</style>\n",
              "<table border=\"1\" class=\"dataframe\">\n",
              "  <thead>\n",
              "    <tr style=\"text-align: right;\">\n",
              "      <th></th>\n",
              "      <th>IsBadBuy</th>\n",
              "      <th>MMRCurrentAuctionAveragePrice</th>\n",
              "      <th>VehBCost</th>\n",
              "      <th>VehicleAge</th>\n",
              "      <th>VehOdo</th>\n",
              "      <th>WarrantyCost</th>\n",
              "      <th>Auction_MANHEIM</th>\n",
              "      <th>Auction_OTHER</th>\n",
              "      <th>Color_BLACK</th>\n",
              "      <th>Color_BLUE</th>\n",
              "      <th>...</th>\n",
              "      <th>Size_SMALL TRUCK</th>\n",
              "      <th>Size_SPECIALTY</th>\n",
              "      <th>Size_SPORTS</th>\n",
              "      <th>Size_VAN</th>\n",
              "      <th>TopThreeAmericanName_FORD</th>\n",
              "      <th>TopThreeAmericanName_GM</th>\n",
              "      <th>TopThreeAmericanName_OTHER</th>\n",
              "      <th>WheelType_Covers</th>\n",
              "      <th>WheelType_Special</th>\n",
              "      <th>WheelType_unkwnWheel</th>\n",
              "    </tr>\n",
              "  </thead>\n",
              "  <tbody>\n",
              "    <tr>\n",
              "      <th>0</th>\n",
              "      <td>No</td>\n",
              "      <td>2871</td>\n",
              "      <td>5300</td>\n",
              "      <td>8</td>\n",
              "      <td>75419</td>\n",
              "      <td>869</td>\n",
              "      <td>0</td>\n",
              "      <td>0</td>\n",
              "      <td>0</td>\n",
              "      <td>0</td>\n",
              "      <td>...</td>\n",
              "      <td>0</td>\n",
              "      <td>0</td>\n",
              "      <td>0</td>\n",
              "      <td>0</td>\n",
              "      <td>1</td>\n",
              "      <td>0</td>\n",
              "      <td>0</td>\n",
              "      <td>0</td>\n",
              "      <td>0</td>\n",
              "      <td>0</td>\n",
              "    </tr>\n",
              "    <tr>\n",
              "      <th>1</th>\n",
              "      <td>Yes</td>\n",
              "      <td>1840</td>\n",
              "      <td>3600</td>\n",
              "      <td>8</td>\n",
              "      <td>82944</td>\n",
              "      <td>2322</td>\n",
              "      <td>0</td>\n",
              "      <td>0</td>\n",
              "      <td>0</td>\n",
              "      <td>0</td>\n",
              "      <td>...</td>\n",
              "      <td>0</td>\n",
              "      <td>0</td>\n",
              "      <td>0</td>\n",
              "      <td>1</td>\n",
              "      <td>1</td>\n",
              "      <td>0</td>\n",
              "      <td>0</td>\n",
              "      <td>0</td>\n",
              "      <td>0</td>\n",
              "      <td>0</td>\n",
              "    </tr>\n",
              "    <tr>\n",
              "      <th>2</th>\n",
              "      <td>No</td>\n",
              "      <td>8931</td>\n",
              "      <td>7500</td>\n",
              "      <td>4</td>\n",
              "      <td>57338</td>\n",
              "      <td>588</td>\n",
              "      <td>0</td>\n",
              "      <td>0</td>\n",
              "      <td>0</td>\n",
              "      <td>0</td>\n",
              "      <td>...</td>\n",
              "      <td>0</td>\n",
              "      <td>0</td>\n",
              "      <td>0</td>\n",
              "      <td>0</td>\n",
              "      <td>0</td>\n",
              "      <td>0</td>\n",
              "      <td>0</td>\n",
              "      <td>0</td>\n",
              "      <td>0</td>\n",
              "      <td>0</td>\n",
              "    </tr>\n",
              "    <tr>\n",
              "      <th>3</th>\n",
              "      <td>No</td>\n",
              "      <td>8320</td>\n",
              "      <td>8500</td>\n",
              "      <td>5</td>\n",
              "      <td>55909</td>\n",
              "      <td>1169</td>\n",
              "      <td>0</td>\n",
              "      <td>0</td>\n",
              "      <td>0</td>\n",
              "      <td>0</td>\n",
              "      <td>...</td>\n",
              "      <td>0</td>\n",
              "      <td>0</td>\n",
              "      <td>0</td>\n",
              "      <td>0</td>\n",
              "      <td>1</td>\n",
              "      <td>0</td>\n",
              "      <td>0</td>\n",
              "      <td>0</td>\n",
              "      <td>0</td>\n",
              "      <td>0</td>\n",
              "    </tr>\n",
              "    <tr>\n",
              "      <th>4</th>\n",
              "      <td>No</td>\n",
              "      <td>11520</td>\n",
              "      <td>10100</td>\n",
              "      <td>5</td>\n",
              "      <td>86702</td>\n",
              "      <td>853</td>\n",
              "      <td>0</td>\n",
              "      <td>0</td>\n",
              "      <td>0</td>\n",
              "      <td>0</td>\n",
              "      <td>...</td>\n",
              "      <td>0</td>\n",
              "      <td>0</td>\n",
              "      <td>0</td>\n",
              "      <td>0</td>\n",
              "      <td>1</td>\n",
              "      <td>0</td>\n",
              "      <td>0</td>\n",
              "      <td>0</td>\n",
              "      <td>0</td>\n",
              "      <td>0</td>\n",
              "    </tr>\n",
              "    <tr>\n",
              "      <th>...</th>\n",
              "      <td>...</td>\n",
              "      <td>...</td>\n",
              "      <td>...</td>\n",
              "      <td>...</td>\n",
              "      <td>...</td>\n",
              "      <td>...</td>\n",
              "      <td>...</td>\n",
              "      <td>...</td>\n",
              "      <td>...</td>\n",
              "      <td>...</td>\n",
              "      <td>...</td>\n",
              "      <td>...</td>\n",
              "      <td>...</td>\n",
              "      <td>...</td>\n",
              "      <td>...</td>\n",
              "      <td>...</td>\n",
              "      <td>...</td>\n",
              "      <td>...</td>\n",
              "      <td>...</td>\n",
              "      <td>...</td>\n",
              "      <td>...</td>\n",
              "    </tr>\n",
              "    <tr>\n",
              "      <th>9995</th>\n",
              "      <td>No</td>\n",
              "      <td>7536</td>\n",
              "      <td>6600</td>\n",
              "      <td>4</td>\n",
              "      <td>85377</td>\n",
              "      <td>983</td>\n",
              "      <td>0</td>\n",
              "      <td>0</td>\n",
              "      <td>0</td>\n",
              "      <td>0</td>\n",
              "      <td>...</td>\n",
              "      <td>0</td>\n",
              "      <td>0</td>\n",
              "      <td>0</td>\n",
              "      <td>0</td>\n",
              "      <td>0</td>\n",
              "      <td>0</td>\n",
              "      <td>0</td>\n",
              "      <td>0</td>\n",
              "      <td>0</td>\n",
              "      <td>0</td>\n",
              "    </tr>\n",
              "    <tr>\n",
              "      <th>9996</th>\n",
              "      <td>No</td>\n",
              "      <td>4921</td>\n",
              "      <td>7000</td>\n",
              "      <td>7</td>\n",
              "      <td>89665</td>\n",
              "      <td>1543</td>\n",
              "      <td>0</td>\n",
              "      <td>0</td>\n",
              "      <td>1</td>\n",
              "      <td>0</td>\n",
              "      <td>...</td>\n",
              "      <td>0</td>\n",
              "      <td>0</td>\n",
              "      <td>0</td>\n",
              "      <td>0</td>\n",
              "      <td>0</td>\n",
              "      <td>1</td>\n",
              "      <td>0</td>\n",
              "      <td>0</td>\n",
              "      <td>0</td>\n",
              "      <td>0</td>\n",
              "    </tr>\n",
              "    <tr>\n",
              "      <th>9997</th>\n",
              "      <td>No</td>\n",
              "      <td>9263</td>\n",
              "      <td>9000</td>\n",
              "      <td>4</td>\n",
              "      <td>59383</td>\n",
              "      <td>1417</td>\n",
              "      <td>0</td>\n",
              "      <td>0</td>\n",
              "      <td>1</td>\n",
              "      <td>0</td>\n",
              "      <td>...</td>\n",
              "      <td>0</td>\n",
              "      <td>0</td>\n",
              "      <td>0</td>\n",
              "      <td>0</td>\n",
              "      <td>0</td>\n",
              "      <td>0</td>\n",
              "      <td>0</td>\n",
              "      <td>0</td>\n",
              "      <td>0</td>\n",
              "      <td>0</td>\n",
              "    </tr>\n",
              "    <tr>\n",
              "      <th>9998</th>\n",
              "      <td>No</td>\n",
              "      <td>3240</td>\n",
              "      <td>5500</td>\n",
              "      <td>4</td>\n",
              "      <td>48642</td>\n",
              "      <td>482</td>\n",
              "      <td>0</td>\n",
              "      <td>0</td>\n",
              "      <td>0</td>\n",
              "      <td>1</td>\n",
              "      <td>...</td>\n",
              "      <td>0</td>\n",
              "      <td>0</td>\n",
              "      <td>0</td>\n",
              "      <td>0</td>\n",
              "      <td>0</td>\n",
              "      <td>0</td>\n",
              "      <td>1</td>\n",
              "      <td>1</td>\n",
              "      <td>0</td>\n",
              "      <td>0</td>\n",
              "    </tr>\n",
              "    <tr>\n",
              "      <th>9999</th>\n",
              "      <td>No</td>\n",
              "      <td>6148</td>\n",
              "      <td>7000</td>\n",
              "      <td>5</td>\n",
              "      <td>82563</td>\n",
              "      <td>1243</td>\n",
              "      <td>0</td>\n",
              "      <td>0</td>\n",
              "      <td>0</td>\n",
              "      <td>0</td>\n",
              "      <td>...</td>\n",
              "      <td>0</td>\n",
              "      <td>0</td>\n",
              "      <td>0</td>\n",
              "      <td>0</td>\n",
              "      <td>1</td>\n",
              "      <td>0</td>\n",
              "      <td>0</td>\n",
              "      <td>0</td>\n",
              "      <td>0</td>\n",
              "      <td>0</td>\n",
              "    </tr>\n",
              "  </tbody>\n",
              "</table>\n",
              "<p>10000 rows × 40 columns</p>\n",
              "</div>\n",
              "      <button class=\"colab-df-convert\" onclick=\"convertToInteractive('df-10dc861a-d7f8-4aff-8ac3-0470e6a963d0')\"\n",
              "              title=\"Convert this dataframe to an interactive table.\"\n",
              "              style=\"display:none;\">\n",
              "        \n",
              "  <svg xmlns=\"http://www.w3.org/2000/svg\" height=\"24px\"viewBox=\"0 0 24 24\"\n",
              "       width=\"24px\">\n",
              "    <path d=\"M0 0h24v24H0V0z\" fill=\"none\"/>\n",
              "    <path d=\"M18.56 5.44l.94 2.06.94-2.06 2.06-.94-2.06-.94-.94-2.06-.94 2.06-2.06.94zm-11 1L8.5 8.5l.94-2.06 2.06-.94-2.06-.94L8.5 2.5l-.94 2.06-2.06.94zm10 10l.94 2.06.94-2.06 2.06-.94-2.06-.94-.94-2.06-.94 2.06-2.06.94z\"/><path d=\"M17.41 7.96l-1.37-1.37c-.4-.4-.92-.59-1.43-.59-.52 0-1.04.2-1.43.59L10.3 9.45l-7.72 7.72c-.78.78-.78 2.05 0 2.83L4 21.41c.39.39.9.59 1.41.59.51 0 1.02-.2 1.41-.59l7.78-7.78 2.81-2.81c.8-.78.8-2.07 0-2.86zM5.41 20L4 18.59l7.72-7.72 1.47 1.35L5.41 20z\"/>\n",
              "  </svg>\n",
              "      </button>\n",
              "      \n",
              "  <style>\n",
              "    .colab-df-container {\n",
              "      display:flex;\n",
              "      flex-wrap:wrap;\n",
              "      gap: 12px;\n",
              "    }\n",
              "\n",
              "    .colab-df-convert {\n",
              "      background-color: #E8F0FE;\n",
              "      border: none;\n",
              "      border-radius: 50%;\n",
              "      cursor: pointer;\n",
              "      display: none;\n",
              "      fill: #1967D2;\n",
              "      height: 32px;\n",
              "      padding: 0 0 0 0;\n",
              "      width: 32px;\n",
              "    }\n",
              "\n",
              "    .colab-df-convert:hover {\n",
              "      background-color: #E2EBFA;\n",
              "      box-shadow: 0px 1px 2px rgba(60, 64, 67, 0.3), 0px 1px 3px 1px rgba(60, 64, 67, 0.15);\n",
              "      fill: #174EA6;\n",
              "    }\n",
              "\n",
              "    [theme=dark] .colab-df-convert {\n",
              "      background-color: #3B4455;\n",
              "      fill: #D2E3FC;\n",
              "    }\n",
              "\n",
              "    [theme=dark] .colab-df-convert:hover {\n",
              "      background-color: #434B5C;\n",
              "      box-shadow: 0px 1px 3px 1px rgba(0, 0, 0, 0.15);\n",
              "      filter: drop-shadow(0px 1px 2px rgba(0, 0, 0, 0.3));\n",
              "      fill: #FFFFFF;\n",
              "    }\n",
              "  </style>\n",
              "\n",
              "      <script>\n",
              "        const buttonEl =\n",
              "          document.querySelector('#df-10dc861a-d7f8-4aff-8ac3-0470e6a963d0 button.colab-df-convert');\n",
              "        buttonEl.style.display =\n",
              "          google.colab.kernel.accessAllowed ? 'block' : 'none';\n",
              "\n",
              "        async function convertToInteractive(key) {\n",
              "          const element = document.querySelector('#df-10dc861a-d7f8-4aff-8ac3-0470e6a963d0');\n",
              "          const dataTable =\n",
              "            await google.colab.kernel.invokeFunction('convertToInteractive',\n",
              "                                                     [key], {});\n",
              "          if (!dataTable) return;\n",
              "\n",
              "          const docLinkHtml = 'Like what you see? Visit the ' +\n",
              "            '<a target=\"_blank\" href=https://colab.research.google.com/notebooks/data_table.ipynb>data table notebook</a>'\n",
              "            + ' to learn more about interactive tables.';\n",
              "          element.innerHTML = '';\n",
              "          dataTable['output_type'] = 'display_data';\n",
              "          await google.colab.output.renderOutput(dataTable, element);\n",
              "          const docLink = document.createElement('div');\n",
              "          docLink.innerHTML = docLinkHtml;\n",
              "          element.appendChild(docLink);\n",
              "        }\n",
              "      </script>\n",
              "    </div>\n",
              "  </div>\n",
              "  "
            ]
          },
          "metadata": {},
          "execution_count": 58
        }
      ],
      "source": [
        "# Create dummy variables\n",
        "carAuction = pd.get_dummies(carAuction, columns=['Auction', 'Color', 'Size', 'TopThreeAmericanName', 'WheelType'], drop_first=True)\n",
        "carAuction"
      ]
    },
    {
      "cell_type": "code",
      "execution_count": null,
      "metadata": {
        "id": "UfxzlCPBnZ-4",
        "colab": {
          "base_uri": "https://localhost:8080/"
        },
        "outputId": "c8d4f496-1877-44be-cac5-db6bea9457b0"
      },
      "outputs": [
        {
          "output_type": "stream",
          "name": "stdout",
          "text": [
            "(7000, 39) (3000, 39) (3000,) (7000,)\n"
          ]
        }
      ],
      "source": [
        "# Partition the data to training and testing set\n",
        "target = carAuction['IsBadBuy']\n",
        "predictors = carAuction.drop(['IsBadBuy'],axis=1)\n",
        "predictors_train, predictors_test, target_train, target_test = train_test_split(predictors, target, test_size = 0.3, random_state = 0)\n",
        "print(predictors_train.shape, predictors_test.shape, target_test.shape, target_train.shape)"
      ]
    },
    {
      "cell_type": "code",
      "execution_count": null,
      "metadata": {
        "id": "j6Y5U91BoVmf",
        "colab": {
          "base_uri": "https://localhost:8080/"
        },
        "outputId": "29e5b94e-89b0-4001-84d9-6980ea3adb66"
      },
      "outputs": [
        {
          "output_type": "stream",
          "name": "stdout",
          "text": [
            "No     0.869571\n",
            "Yes    0.130429\n",
            "Name: IsBadBuy, dtype: float64\n"
          ]
        }
      ],
      "source": [
        "# Examine the porportion of target variable for training data set\n",
        "print(target_train.value_counts(normalize=True))"
      ]
    },
    {
      "cell_type": "code",
      "execution_count": null,
      "metadata": {
        "id": "MasSsm8apCG-",
        "colab": {
          "base_uri": "https://localhost:8080/"
        },
        "outputId": "b9183f7a-a7d3-4ffa-ca64-8a660ef2ec04"
      },
      "outputs": [
        {
          "output_type": "stream",
          "name": "stdout",
          "text": [
            "No     0.872667\n",
            "Yes    0.127333\n",
            "Name: IsBadBuy, dtype: float64\n"
          ]
        }
      ],
      "source": [
        "# Examine the porportion of target variable for testing data set\n",
        "print(target_test.value_counts(normalize=True))"
      ]
    },
    {
      "cell_type": "markdown",
      "metadata": {
        "id": "xt0XU6fmplzw"
      },
      "source": [
        "### 3. Decision Tree model prediction"
      ]
    },
    {
      "cell_type": "code",
      "execution_count": null,
      "metadata": {
        "id": "yi8FlSIQpB_X",
        "colab": {
          "base_uri": "https://localhost:8080/"
        },
        "outputId": "cfbbb604-0ab6-432b-8f79-99dedc1dbc93"
      },
      "outputs": [
        {
          "output_type": "execute_result",
          "data": {
            "text/plain": [
              "DecisionTreeClassifier(criterion='entropy', max_depth=2, random_state=1)"
            ]
          },
          "metadata": {},
          "execution_count": 62
        }
      ],
      "source": [
        "# Build a decision tree model on training data with max_depth = 2\n",
        "model = DecisionTreeClassifier(criterion = 'entropy', random_state=1, max_depth=2)\n",
        "model.fit(predictors_train, target_train)"
      ]
    },
    {
      "cell_type": "code",
      "execution_count": null,
      "metadata": {
        "id": "2A9YDvIGp5KJ",
        "colab": {
          "base_uri": "https://localhost:8080/",
          "height": 992
        },
        "outputId": "0d76a200-64ec-4df2-fc30-e914f0ac79af"
      },
      "outputs": [
        {
          "output_type": "execute_result",
          "data": {
            "text/plain": [
              "[Text(0.5, 0.8333333333333334, 'WheelType_unkwnWheel <= 0.5\\nentropy = 0.559\\nsamples = 7000\\nvalue = [6087, 913]\\nclass = No'),\n",
              " Text(0.25, 0.5, 'VehicleAge <= 4.5\\nentropy = 0.472\\nsamples = 6686\\nvalue = [6011, 675]\\nclass = No'),\n",
              " Text(0.125, 0.16666666666666666, 'entropy = 0.348\\nsamples = 4064\\nvalue = [3799, 265]\\nclass = No'),\n",
              " Text(0.375, 0.16666666666666666, 'entropy = 0.626\\nsamples = 2622\\nvalue = [2212, 410]\\nclass = No'),\n",
              " Text(0.75, 0.5, 'Auction_MANHEIM <= 0.5\\nentropy = 0.798\\nsamples = 314\\nvalue = [76, 238]\\nclass = Yes'),\n",
              " Text(0.625, 0.16666666666666666, 'entropy = 0.567\\nsamples = 247\\nvalue = [33, 214]\\nclass = Yes'),\n",
              " Text(0.875, 0.16666666666666666, 'entropy = 0.941\\nsamples = 67\\nvalue = [43, 24]\\nclass = No')]"
            ]
          },
          "metadata": {},
          "execution_count": 63
        },
        {
          "output_type": "display_data",
          "data": {
            "text/plain": [
              "<Figure size 2160x1440 with 1 Axes>"
            ],
            "image/png": "[encoded data removed]"
          },
          "metadata": {
            "needs_background": "light"
          }
        }
      ],
      "source": [
        "# Plot the tree\n",
        "fig = plt.figure(figsize=(30,20))\n",
        "tree.plot_tree(model, feature_names=list(predictors_train.columns), class_names=['No','Yes'], filled=True)"
      ]
    },
    {
      "cell_type": "markdown",
      "metadata": {
        "id": "yV_fZfEgz9kt"
      },
      "source": [
        "Q1. Find one path in the tree to a leaf node that is classified to IsBadBuy = 'Yes'. What is this path/rule's misclassification error rate?<br>\n",
        "ifWheelType = unkwnWheel,Auction !=MANHEIM, then isBadBuy = Yes\n",
        "misclassification error rate:33/(33+214)\n"
      ]
    },
    {
      "cell_type": "code",
      "execution_count": null,
      "metadata": {
        "id": "s3BPoqH0tuDd"
      },
      "outputs": [],
      "source": [
        "# Make predictions on training and testing data\n",
        "prediction_on_train = model.predict(predictors_train)\n",
        "prediction_on_test = model.predict(predictors_test)"
      ]
    },
    {
      "cell_type": "code",
      "execution_count": null,
      "metadata": {
        "id": "Zbgk3TSMTS4v",
        "colab": {
          "base_uri": "https://localhost:8080/",
          "height": 355
        },
        "outputId": "f478a19b-3c52-4ea9-a437-86e08b2b031e"
      },
      "outputs": [
        {
          "output_type": "stream",
          "name": "stderr",
          "text": [
            "/usr/local/lib/python3.8/dist-packages/sklearn/utils/deprecation.py:87: FutureWarning: Function plot_confusion_matrix is deprecated; Function `plot_confusion_matrix` is deprecated in 1.0 and will be removed in 1.2. Use one of the class methods: ConfusionMatrixDisplay.from_predictions or ConfusionMatrixDisplay.from_estimator.\n",
            "  warnings.warn(msg, category=FutureWarning)\n"
          ]
        },
        {
          "output_type": "execute_result",
          "data": {
            "text/plain": [
              "<sklearn.metrics._plot.confusion_matrix.ConfusionMatrixDisplay at 0x7f70defef910>"
            ]
          },
          "metadata": {},
          "execution_count": 66
        },
        {
          "output_type": "display_data",
          "data": {
            "text/plain": [
              "<Figure size 432x288 with 2 Axes>"
            ],
            "image/png": "[encoded data removed]"
          },
          "metadata": {
            "needs_background": "light"
          }
        }
      ],
      "source": [
        "# Examine the evaluation results on training data: confusion_matrix\n",
        "plot_confusion_matrix(model, predictors_train, target_train, cmap=plt.cm.Blues, values_format='d')"
      ]
    },
    {
      "cell_type": "code",
      "execution_count": null,
      "metadata": {
        "id": "Mp2hbRzywpGd",
        "colab": {
          "base_uri": "https://localhost:8080/",
          "height": 353
        },
        "outputId": "867e6f44-355c-41c8-84d7-046381cfb4d5"
      },
      "outputs": [
        {
          "output_type": "stream",
          "name": "stderr",
          "text": [
            "/usr/local/lib/python3.8/dist-packages/sklearn/utils/deprecation.py:87: FutureWarning: Function plot_confusion_matrix is deprecated; Function `plot_confusion_matrix` is deprecated in 1.0 and will be removed in 1.2. Use one of the class methods: ConfusionMatrixDisplay.from_predictions or ConfusionMatrixDisplay.from_estimator.\n",
            "  warnings.warn(msg, category=FutureWarning)\n"
          ]
        },
        {
          "output_type": "execute_result",
          "data": {
            "text/plain": [
              "<sklearn.metrics._plot.confusion_matrix.ConfusionMatrixDisplay at 0x7f70e252d340>"
            ]
          },
          "metadata": {},
          "execution_count": 67
        },
        {
          "output_type": "display_data",
          "data": {
            "text/plain": [
              "<Figure size 432x288 with 2 Axes>"
            ],
            "image/png": "[encoded data removed]"
          },
          "metadata": {
            "needs_background": "light"
          }
        }
      ],
      "source": [
        "# Examine the evaluation results on testing data: confusion_matrix\n",
        "plot_confusion_matrix(model, predictors_test, target_test, cmap=plt.cm.Blues, values_format='d')"
      ]
    },
    {
      "cell_type": "markdown",
      "metadata": {
        "id": "kVT5kkDQ1aen"
      },
      "source": [
        "# Q2. On the testing set, how many bad buy cars are predicted as Not bad buy?<br>\n",
        "297"
      ]
    },
    {
      "cell_type": "code",
      "execution_count": null,
      "metadata": {
        "id": "rKKgzLnTTe4c",
        "colab": {
          "base_uri": "https://localhost:8080/"
        },
        "outputId": "52e16cd1-9c7f-4008-dc5c-190dc23f34e9"
      },
      "outputs": [
        {
          "output_type": "stream",
          "name": "stdout",
          "text": [
            "              precision    recall  f1-score   support\n",
            "\n",
            "          No       0.90      0.99      0.94      6087\n",
            "         Yes       0.87      0.23      0.37       913\n",
            "\n",
            "    accuracy                           0.90      7000\n",
            "   macro avg       0.88      0.61      0.66      7000\n",
            "weighted avg       0.89      0.90      0.87      7000\n",
            "\n"
          ]
        }
      ],
      "source": [
        "# Examine the evaluation results on training data: accuracy, precision, recall, and f1-score\n",
        "print(classification_report(target_train, prediction_on_train))"
      ]
    },
    {
      "cell_type": "code",
      "execution_count": null,
      "metadata": {
        "id": "JnI7ioz-xBN0",
        "colab": {
          "base_uri": "https://localhost:8080/"
        },
        "outputId": "81680fa0-f135-40b7-eb24-854e35b1cca8"
      },
      "outputs": [
        {
          "output_type": "stream",
          "name": "stdout",
          "text": [
            "              precision    recall  f1-score   support\n",
            "\n",
            "          No       0.90      1.00      0.94      2618\n",
            "         Yes       0.90      0.22      0.36       382\n",
            "\n",
            "    accuracy                           0.90      3000\n",
            "   macro avg       0.90      0.61      0.65      3000\n",
            "weighted avg       0.90      0.90      0.87      3000\n",
            "\n"
          ]
        }
      ],
      "source": [
        "# Examine the evaluation results on testing data: accuracy, precision, recall, and f1-score\n",
        "print(classification_report(target_test, prediction_on_test))"
      ]
    },
    {
      "cell_type": "markdown",
      "metadata": {
        "id": "ahgldnbVzVuI"
      },
      "source": [
        "Q3. Does the decision tree model have better performance on majority (IsBadBuy = 'No') or minority class (IsBadBuy = 'Yes')? why? <br>\n",
        "\n"
      ]
    },
    {
      "cell_type": "code",
      "execution_count": null,
      "metadata": {
        "id": "kQ6H3f6TTong",
        "colab": {
          "base_uri": "https://localhost:8080/"
        },
        "outputId": "daedd1a4-0522-4016-dbc7-8d7e96d62e79"
      },
      "outputs": [
        {
          "output_type": "execute_result",
          "data": {
            "text/plain": [
              "DecisionTreeClassifier(criterion='entropy', max_depth=10, random_state=1)"
            ]
          },
          "metadata": {},
          "execution_count": 70
        }
      ],
      "source": [
        "# Build a decision tree model on training data with max_depth = 10\n",
        "model2 = DecisionTreeClassifier(criterion = 'entropy', random_state = 1, max_depth = 10)\n",
        "model2.fit(predictors_train, target_train)"
      ]
    },
    {
      "cell_type": "code",
      "execution_count": null,
      "metadata": {
        "id": "UuZdoeNxT015",
        "colab": {
          "base_uri": "https://localhost:8080/",
          "height": 1000
        },
        "outputId": "77980231-dd1d-452e-db0b-1d4a0c8940e5"
      },
      "outputs": [
        {
          "output_type": "execute_result",
          "data": {
            "text/plain": [
              "[Text(0.648342803030303, 0.9545454545454546, 'WheelType_unkwnWheel <= 0.5\\nentropy = 0.559\\nsamples = 7000\\nvalue = [6087, 913]\\nclass = No'),\n",
              " Text(0.36006944444444444, 0.8636363636363636, 'VehicleAge <= 4.5\\nentropy = 0.472\\nsamples = 6686\\nvalue = [6011, 675]\\nclass = No'),\n",
              " Text(0.15138888888888888, 0.7727272727272727, 'MMRCurrentAuctionAveragePrice <= 4767.0\\nentropy = 0.348\\nsamples = 4064\\nvalue = [3799, 265]\\nclass = No'),\n",
              " Text(0.08434343434343435, 0.6818181818181818, 'WarrantyCost <= 493.5\\nentropy = 0.513\\nsamples = 559\\nvalue = [495, 64]\\nclass = No'),\n",
              " Text(0.0803030303030303, 0.5909090909090909, 'entropy = 0.0\\nsamples = 36\\nvalue = [36, 0]\\nclass = No'),\n",
              " Text(0.08838383838383838, 0.5909090909090909, 'MMRCurrentAuctionAveragePrice <= 4695.5\\nentropy = 0.536\\nsamples = 523\\nvalue = [459, 64]\\nclass = No'),\n",
              " Text(0.0595959595959596, 0.5, 'TopThreeAmericanName_GM <= 0.5\\nentropy = 0.498\\nsamples = 485\\nvalue = [432, 53]\\nclass = No'),\n",
              " Text(0.030303030303030304, 0.4090909090909091, 'VehBCost <= 3972.5\\nentropy = 0.564\\nsamples = 355\\nvalue = [308, 47]\\nclass = No'),\n",
              " Text(0.020202020202020204, 0.3181818181818182, 'VehBCost <= 3802.5\\nentropy = 0.881\\nsamples = 30\\nvalue = [21, 9]\\nclass = No'),\n",
              " Text(0.012121212121212121, 0.22727272727272727, 'VehBCost <= 3385.0\\nentropy = 0.485\\nsamples = 19\\nvalue = [17, 2]\\nclass = No'),\n",
              " Text(0.00808080808080808, 0.13636363636363635, 'VehBCost <= 3257.5\\nentropy = 1.0\\nsamples = 4\\nvalue = [2, 2]\\nclass = No'),\n",
              " Text(0.00404040404040404, 0.045454545454545456, 'entropy = 0.0\\nsamples = 2\\nvalue = [2, 0]\\nclass = No'),\n",
              " Text(0.012121212121212121, 0.045454545454545456, 'entropy = 0.0\\nsamples = 2\\nvalue = [0, 2]\\nclass = Yes'),\n",
              " Text(0.01616161616161616, 0.13636363636363635, 'entropy = 0.0\\nsamples = 15\\nvalue = [15, 0]\\nclass = No'),\n",
              " Text(0.028282828282828285, 0.22727272727272727, 'TopThreeAmericanName_OTHER <= 0.5\\nentropy = 0.946\\nsamples = 11\\nvalue = [4, 7]\\nclass = Yes'),\n",
              " Text(0.024242424242424242, 0.13636363636363635, 'entropy = 0.0\\nsamples = 5\\nvalue = [0, 5]\\nclass = Yes'),\n",
              " Text(0.03232323232323232, 0.13636363636363635, 'MMRCurrentAuctionAveragePrice <= 3062.0\\nentropy = 0.918\\nsamples = 6\\nvalue = [4, 2]\\nclass = No'),\n",
              " Text(0.028282828282828285, 0.045454545454545456, 'entropy = 0.0\\nsamples = 1\\nvalue = [0, 1]\\nclass = Yes'),\n",
              " Text(0.03636363636363636, 0.045454545454545456, 'entropy = 0.722\\nsamples = 5\\nvalue = [4, 1]\\nclass = No'),\n",
              " Text(0.04040404040404041, 0.3181818181818182, 'VehOdo <= 46290.0\\nentropy = 0.52\\nsamples = 325\\nvalue = [287, 38]\\nclass = No'),\n",
              " Text(0.03636363636363636, 0.22727272727272727, 'entropy = 0.0\\nsamples = 20\\nvalue = [20, 0]\\nclass = No'),\n",
              " Text(0.044444444444444446, 0.22727272727272727, 'VehBCost <= 4135.0\\nentropy = 0.542\\nsamples = 305\\nvalue = [267, 38]\\nclass = No'),\n",
              " Text(0.04040404040404041, 0.13636363636363635, 'entropy = 0.0\\nsamples = 18\\nvalue = [18, 0]\\nclass = No'),\n",
              " Text(0.048484848484848485, 0.13636363636363635, 'MMRCurrentAuctionAveragePrice <= 4662.0\\nentropy = 0.564\\nsamples = 287\\nvalue = [249, 38]\\nclass = No'),\n",
              " Text(0.044444444444444446, 0.045454545454545456, 'entropy = 0.585\\nsamples = 271\\nvalue = [233, 38]\\nclass = No'),\n",
              " Text(0.052525252525252523, 0.045454545454545456, 'entropy = 0.0\\nsamples = 16\\nvalue = [16, 0]\\nclass = No'),\n",
              " Text(0.08888888888888889, 0.4090909090909091, 'Size_LARGE <= 0.5\\nentropy = 0.27\\nsamples = 130\\nvalue = [124, 6]\\nclass = No'),\n",
              " Text(0.07272727272727272, 0.3181818181818182, 'VehOdo <= 85355.0\\nentropy = 0.177\\nsamples = 113\\nvalue = [110, 3]\\nclass = No'),\n",
              " Text(0.06060606060606061, 0.22727272727272727, 'Color_GREEN <= 0.5\\nentropy = 0.081\\nsamples = 100\\nvalue = [99, 1]\\nclass = No'),\n",
              " Text(0.05656565656565657, 0.13636363636363635, 'entropy = 0.0\\nsamples = 98\\nvalue = [98, 0]\\nclass = No'),\n",
              " Text(0.06464646464646465, 0.13636363636363635, 'VehBCost <= 5595.0\\nentropy = 1.0\\nsamples = 2\\nvalue = [1, 1]\\nclass = No'),\n",
              " Text(0.06060606060606061, 0.045454545454545456, 'entropy = 0.0\\nsamples = 1\\nvalue = [0, 1]\\nclass = Yes'),\n",
              " Text(0.06868686868686869, 0.045454545454545456, 'entropy = 0.0\\nsamples = 1\\nvalue = [1, 0]\\nclass = No'),\n",
              " Text(0.08484848484848485, 0.22727272727272727, 'MMRCurrentAuctionAveragePrice <= 3645.5\\nentropy = 0.619\\nsamples = 13\\nvalue = [11, 2]\\nclass = No'),\n",
              " Text(0.08080808080808081, 0.13636363636363635, 'Color_RED <= 0.5\\nentropy = 1.0\\nsamples = 4\\nvalue = [2, 2]\\nclass = No'),\n",
              " Text(0.07676767676767676, 0.045454545454545456, 'entropy = 0.918\\nsamples = 3\\nvalue = [1, 2]\\nclass = Yes'),\n",
              " Text(0.08484848484848485, 0.045454545454545456, 'entropy = 0.0\\nsamples = 1\\nvalue = [1, 0]\\nclass = No'),\n",
              " Text(0.08888888888888889, 0.13636363636363635, 'entropy = 0.0\\nsamples = 9\\nvalue = [9, 0]\\nclass = No'),\n",
              " Text(0.10505050505050505, 0.3181818181818182, 'VehBCost <= 6067.5\\nentropy = 0.672\\nsamples = 17\\nvalue = [14, 3]\\nclass = No'),\n",
              " Text(0.10101010101010101, 0.22727272727272727, 'VehOdo <= 56810.0\\nentropy = 0.918\\nsamples = 9\\nvalue = [6, 3]\\nclass = No'),\n",
              " Text(0.09696969696969697, 0.13636363636363635, 'entropy = 0.0\\nsamples = 3\\nvalue = [3, 0]\\nclass = No'),\n",
              " Text(0.10505050505050505, 0.13636363636363635, 'Color_WHITE <= 0.5\\nentropy = 1.0\\nsamples = 6\\nvalue = [3, 3]\\nclass = No'),\n",
              " Text(0.10101010101010101, 0.045454545454545456, 'entropy = 0.811\\nsamples = 4\\nvalue = [1, 3]\\nclass = Yes'),\n",
              " Text(0.10909090909090909, 0.045454545454545456, 'entropy = 0.0\\nsamples = 2\\nvalue = [2, 0]\\nclass = No'),\n",
              " Text(0.10909090909090909, 0.22727272727272727, 'entropy = 0.0\\nsamples = 8\\nvalue = [8, 0]\\nclass = No'),\n",
              " Text(0.11717171717171718, 0.5, 'WheelType_Covers <= 0.5\\nentropy = 0.868\\nsamples = 38\\nvalue = [27, 11]\\nclass = No'),\n",
              " Text(0.11313131313131314, 0.4090909090909091, 'entropy = 0.0\\nsamples = 10\\nvalue = [10, 0]\\nclass = No'),\n",
              " Text(0.12121212121212122, 0.4090909090909091, 'VehOdo <= 45240.0\\nentropy = 0.967\\nsamples = 28\\nvalue = [17, 11]\\nclass = No'),\n",
              " Text(0.11717171717171718, 0.3181818181818182, 'entropy = 0.0\\nsamples = 2\\nvalue = [0, 2]\\nclass = Yes'),\n",
              " Text(0.12525252525252525, 0.3181818181818182, 'Color_SILVER <= 0.5\\nentropy = 0.931\\nsamples = 26\\nvalue = [17, 9]\\nclass = No'),\n",
              " Text(0.11717171717171718, 0.22727272727272727, 'WarrantyCost <= 519.0\\nentropy = 0.811\\nsamples = 20\\nvalue = [15, 5]\\nclass = No'),\n",
              " Text(0.11313131313131314, 0.13636363636363635, 'entropy = 0.0\\nsamples = 1\\nvalue = [0, 1]\\nclass = Yes'),\n",
              " Text(0.12121212121212122, 0.13636363636363635, 'TopThreeAmericanName_GM <= 0.5\\nentropy = 0.742\\nsamples = 19\\nvalue = [15, 4]\\nclass = No'),\n",
              " Text(0.11717171717171718, 0.045454545454545456, 'entropy = 0.0\\nsamples = 8\\nvalue = [8, 0]\\nclass = No'),\n",
              " Text(0.12525252525252525, 0.045454545454545456, 'entropy = 0.946\\nsamples = 11\\nvalue = [7, 4]\\nclass = No'),\n",
              " Text(0.13333333333333333, 0.22727272727272727, 'WarrantyCost <= 1053.0\\nentropy = 0.918\\nsamples = 6\\nvalue = [2, 4]\\nclass = Yes'),\n",
              " Text(0.1292929292929293, 0.13636363636363635, 'entropy = 0.0\\nsamples = 3\\nvalue = [0, 3]\\nclass = Yes'),\n",
              " Text(0.13737373737373737, 0.13636363636363635, 'WarrantyCost <= 1457.0\\nentropy = 0.918\\nsamples = 3\\nvalue = [2, 1]\\nclass = No'),\n",
              " Text(0.13333333333333333, 0.045454545454545456, 'entropy = 0.0\\nsamples = 2\\nvalue = [2, 0]\\nclass = No'),\n",
              " Text(0.1414141414141414, 0.045454545454545456, 'entropy = 0.0\\nsamples = 1\\nvalue = [0, 1]\\nclass = Yes'),\n",
              " Text(0.21843434343434343, 0.6818181818181818, 'VehBCost <= 13664.5\\nentropy = 0.317\\nsamples = 3505\\nvalue = [3304, 201]\\nclass = No'),\n",
              " Text(0.2143939393939394, 0.5909090909090909, 'VehicleAge <= 2.5\\nentropy = 0.314\\nsamples = 3502\\nvalue = [3304, 198]\\nclass = No'),\n",
              " Text(0.16767676767676767, 0.5, 'VehOdo <= 45492.5\\nentropy = 0.222\\nsamples = 1011\\nvalue = [975, 36]\\nclass = No'),\n",
              " Text(0.16363636363636364, 0.4090909090909091, 'entropy = 0.0\\nsamples = 123\\nvalue = [123, 0]\\nclass = No'),\n",
              " Text(0.1717171717171717, 0.4090909090909091, 'VehBCost <= 5990.0\\nentropy = 0.245\\nsamples = 888\\nvalue = [852, 36]\\nclass = No'),\n",
              " Text(0.16161616161616163, 0.3181818181818182, 'VehOdo <= 65665.0\\nentropy = 0.57\\nsamples = 52\\nvalue = [45, 7]\\nclass = No'),\n",
              " Text(0.15757575757575756, 0.22727272727272727, 'VehOdo <= 64703.5\\nentropy = 0.734\\nsamples = 34\\nvalue = [27, 7]\\nclass = No'),\n",
              " Text(0.15353535353535352, 0.13636363636363635, 'WarrantyCost <= 1030.5\\nentropy = 0.625\\nsamples = 32\\nvalue = [27, 5]\\nclass = No'),\n",
              " Text(0.1494949494949495, 0.045454545454545456, 'entropy = 0.0\\nsamples = 19\\nvalue = [19, 0]\\nclass = No'),\n",
              " Text(0.15757575757575756, 0.045454545454545456, 'entropy = 0.961\\nsamples = 13\\nvalue = [8, 5]\\nclass = No'),\n",
              " Text(0.16161616161616163, 0.13636363636363635, 'entropy = 0.0\\nsamples = 2\\nvalue = [0, 2]\\nclass = Yes'),\n",
              " Text(0.16565656565656567, 0.22727272727272727, 'entropy = 0.0\\nsamples = 18\\nvalue = [18, 0]\\nclass = No'),\n",
              " Text(0.18181818181818182, 0.3181818181818182, 'Size_MEDIUM SUV <= 0.5\\nentropy = 0.217\\nsamples = 836\\nvalue = [807, 29]\\nclass = No'),\n",
              " Text(0.17373737373737375, 0.22727272727272727, 'VehOdo <= 45515.5\\nentropy = 0.202\\nsamples = 823\\nvalue = [797, 26]\\nclass = No'),\n",
              " Text(0.1696969696969697, 0.13636363636363635, 'entropy = 0.0\\nsamples = 1\\nvalue = [0, 1]\\nclass = Yes'),\n",
              " Text(0.17777777777777778, 0.13636363636363635, 'VehBCost <= 9065.0\\nentropy = 0.196\\nsamples = 822\\nvalue = [797, 25]\\nclass = No'),\n",
              " Text(0.17373737373737375, 0.045454545454545456, 'entropy = 0.21\\nsamples = 752\\nvalue = [727, 25]\\nclass = No'),\n",
              " Text(0.18181818181818182, 0.045454545454545456, 'entropy = 0.0\\nsamples = 70\\nvalue = [70, 0]\\nclass = No'),\n",
              " Text(0.1898989898989899, 0.22727272727272727, 'WarrantyCost <= 599.5\\nentropy = 0.779\\nsamples = 13\\nvalue = [10, 3]\\nclass = No'),\n",
              " Text(0.18585858585858586, 0.13636363636363635, 'entropy = 0.0\\nsamples = 2\\nvalue = [0, 2]\\nclass = Yes'),\n",
              " Text(0.19393939393939394, 0.13636363636363635, 'VehOdo <= 63413.0\\nentropy = 0.439\\nsamples = 11\\nvalue = [10, 1]\\nclass = No'),\n",
              " Text(0.1898989898989899, 0.045454545454545456, 'entropy = 1.0\\nsamples = 2\\nvalue = [1, 1]\\nclass = No'),\n",
              " Text(0.19797979797979798, 0.045454545454545456, 'entropy = 0.0\\nsamples = 9\\nvalue = [9, 0]\\nclass = No'),\n",
              " Text(0.2611111111111111, 0.5, 'WarrantyCost <= 689.5\\nentropy = 0.347\\nsamples = 2491\\nvalue = [2329, 162]\\nclass = No'),\n",
              " Text(0.22626262626262628, 0.4090909090909091, 'VehOdo <= 76403.5\\nentropy = 0.18\\nsamples = 332\\nvalue = [323, 9]\\nclass = No'),\n",
              " Text(0.21414141414141413, 0.3181818181818182, 'Size_CROSSOVER <= 0.5\\nentropy = 0.116\\nsamples = 257\\nvalue = [253, 4]\\nclass = No'),\n",
              " Text(0.20606060606060606, 0.22727272727272727, 'VehOdo <= 57031.5\\nentropy = 0.093\\nsamples = 253\\nvalue = [250, 3]\\nclass = No'),\n",
              " Text(0.20202020202020202, 0.13636363636363635, 'entropy = 0.0\\nsamples = 117\\nvalue = [117, 0]\\nclass = No'),\n",
              " Text(0.2101010101010101, 0.13636363636363635, 'VehOdo <= 57104.0\\nentropy = 0.153\\nsamples = 136\\nvalue = [133, 3]\\nclass = No'),\n",
              " Text(0.20606060606060606, 0.045454545454545456, 'entropy = 0.0\\nsamples = 2\\nvalue = [0, 2]\\nclass = Yes'),\n",
              " Text(0.21414141414141413, 0.045454545454545456, 'entropy = 0.063\\nsamples = 134\\nvalue = [133, 1]\\nclass = No'),\n",
              " Text(0.2222222222222222, 0.22727272727272727, 'Color_GOLD <= 0.5\\nentropy = 0.811\\nsamples = 4\\nvalue = [3, 1]\\nclass = No'),\n",
              " Text(0.21818181818181817, 0.13636363636363635, 'entropy = 0.0\\nsamples = 3\\nvalue = [3, 0]\\nclass = No'),\n",
              " Text(0.22626262626262628, 0.13636363636363635, 'entropy = 0.0\\nsamples = 1\\nvalue = [0, 1]\\nclass = Yes'),\n",
              " Text(0.2383838383838384, 0.3181818181818182, 'VehOdo <= 76575.0\\nentropy = 0.353\\nsamples = 75\\nvalue = [70, 5]\\nclass = No'),\n",
              " Text(0.23434343434343435, 0.22727272727272727, 'entropy = 0.0\\nsamples = 1\\nvalue = [0, 1]\\nclass = Yes'),\n",
              " Text(0.24242424242424243, 0.22727272727272727, 'Size_LARGE TRUCK <= 0.5\\nentropy = 0.303\\nsamples = 74\\nvalue = [70, 4]\\nclass = No'),\n",
              " Text(0.23434343434343435, 0.13636363636363635, 'Color_ORANGE <= 0.5\\nentropy = 0.198\\nsamples = 65\\nvalue = [63, 2]\\nclass = No'),\n",
              " Text(0.23030303030303031, 0.045454545454545456, 'entropy = 0.118\\nsamples = 63\\nvalue = [62, 1]\\nclass = No'),\n",
              " Text(0.2383838383838384, 0.045454545454545456, 'entropy = 1.0\\nsamples = 2\\nvalue = [1, 1]\\nclass = No'),\n",
              " Text(0.2505050505050505, 0.13636363636363635, 'MMRCurrentAuctionAveragePrice <= 9774.0\\nentropy = 0.764\\nsamples = 9\\nvalue = [7, 2]\\nclass = No'),\n",
              " Text(0.24646464646464647, 0.045454545454545456, 'entropy = 0.0\\nsamples = 7\\nvalue = [7, 0]\\nclass = No'),\n",
              " Text(0.2545454545454545, 0.045454545454545456, 'entropy = 0.0\\nsamples = 2\\nvalue = [0, 2]\\nclass = Yes'),\n",
              " Text(0.295959595959596, 0.4090909090909091, 'Size_SPECIALTY <= 0.5\\nentropy = 0.369\\nsamples = 2159\\nvalue = [2006, 153]\\nclass = No'),\n",
              " Text(0.28484848484848485, 0.3181818181818182, 'VehOdo <= 89498.5\\nentropy = 0.381\\nsamples = 2054\\nvalue = [1902, 152]\\nclass = No'),\n",
              " Text(0.27474747474747474, 0.22727272727272727, 'VehOdo <= 83074.5\\nentropy = 0.394\\nsamples = 1934\\nvalue = [1784, 150]\\nclass = No'),\n",
              " Text(0.26666666666666666, 0.13636363636363635, 'WarrantyCost <= 2121.5\\nentropy = 0.364\\nsamples = 1612\\nvalue = [1500, 112]\\nclass = No'),\n",
              " Text(0.26262626262626265, 0.045454545454545456, 'entropy = 0.372\\nsamples = 1565\\nvalue = [1453, 112]\\nclass = No'),\n",
              " Text(0.27070707070707073, 0.045454545454545456, 'entropy = 0.0\\nsamples = 47\\nvalue = [47, 0]\\nclass = No'),\n",
              " Text(0.2828282828282828, 0.13636363636363635, 'VehOdo <= 83103.0\\nentropy = 0.524\\nsamples = 322\\nvalue = [284, 38]\\nclass = No'),\n",
              " Text(0.2787878787878788, 0.045454545454545456, 'entropy = 0.0\\nsamples = 4\\nvalue = [0, 4]\\nclass = Yes'),\n",
              " Text(0.2868686868686869, 0.045454545454545456, 'entropy = 0.491\\nsamples = 318\\nvalue = [284, 34]\\nclass = No'),\n",
              " Text(0.29494949494949496, 0.22727272727272727, 'Size_SMALL SUV <= 0.5\\nentropy = 0.122\\nsamples = 120\\nvalue = [118, 2]\\nclass = No'),\n",
              " Text(0.2909090909090909, 0.13636363636363635, 'entropy = 0.0\\nsamples = 112\\nvalue = [112, 0]\\nclass = No'),\n",
              " Text(0.298989898989899, 0.13636363636363635, 'WarrantyCost <= 1566.5\\nentropy = 0.811\\nsamples = 8\\nvalue = [6, 2]\\nclass = No'),\n",
              " Text(0.29494949494949496, 0.045454545454545456, 'entropy = 0.592\\nsamples = 7\\nvalue = [6, 1]\\nclass = No'),\n",
              " Text(0.30303030303030304, 0.045454545454545456, 'entropy = 0.0\\nsamples = 1\\nvalue = [0, 1]\\nclass = Yes'),\n",
              " Text(0.30707070707070705, 0.3181818181818182, 'TopThreeAmericanName_OTHER <= 0.5\\nentropy = 0.078\\nsamples = 105\\nvalue = [104, 1]\\nclass = No'),\n",
              " Text(0.30303030303030304, 0.22727272727272727, 'entropy = 0.0\\nsamples = 97\\nvalue = [97, 0]\\nclass = No'),\n",
              " Text(0.3111111111111111, 0.22727272727272727, 'MMRCurrentAuctionAveragePrice <= 9659.0\\nentropy = 0.544\\nsamples = 8\\nvalue = [7, 1]\\nclass = No'),\n",
              " Text(0.30707070707070705, 0.13636363636363635, 'entropy = 0.0\\nsamples = 6\\nvalue = [6, 0]\\nclass = No'),\n",
              " Text(0.3151515151515151, 0.13636363636363635, 'MMRCurrentAuctionAveragePrice <= 10463.5\\nentropy = 1.0\\nsamples = 2\\nvalue = [1, 1]\\nclass = No'),\n",
              " Text(0.3111111111111111, 0.045454545454545456, 'entropy = 0.0\\nsamples = 1\\nvalue = [0, 1]\\nclass = Yes'),\n",
              " Text(0.3191919191919192, 0.045454545454545456, 'entropy = 0.0\\nsamples = 1\\nvalue = [1, 0]\\nclass = No'),\n",
              " Text(0.22247474747474746, 0.5909090909090909, 'entropy = 0.0\\nsamples = 3\\nvalue = [0, 3]\\nclass = Yes'),\n",
              " Text(0.56875, 0.7727272727272727, 'VehBCost <= 4692.5\\nentropy = 0.626\\nsamples = 2622\\nvalue = [2212, 410]\\nclass = No'),\n",
              " Text(0.4436868686868687, 0.6818181818181818, 'VehicleAge <= 5.5\\nentropy = 0.779\\nsamples = 634\\nvalue = [488, 146]\\nclass = No'),\n",
              " Text(0.3838383838383838, 0.5909090909090909, 'Color_BLUE <= 0.5\\nentropy = 0.605\\nsamples = 189\\nvalue = [161, 28]\\nclass = No'),\n",
              " Text(0.3797979797979798, 0.5, 'VehBCost <= 4017.5\\nentropy = 0.648\\nsamples = 169\\nvalue = [141, 28]\\nclass = No'),\n",
              " Text(0.34545454545454546, 0.4090909090909091, 'VehBCost <= 3687.5\\nentropy = 0.831\\nsamples = 57\\nvalue = [42, 15]\\nclass = No'),\n",
              " Text(0.33131313131313134, 0.3181818181818182, 'WarrantyCost <= 560.5\\nentropy = 0.544\\nsamples = 32\\nvalue = [28, 4]\\nclass = No'),\n",
              " Text(0.32727272727272727, 0.22727272727272727, 'entropy = 0.0\\nsamples = 2\\nvalue = [0, 2]\\nclass = Yes'),\n",
              " Text(0.33535353535353535, 0.22727272727272727, 'Size_VAN <= 0.5\\nentropy = 0.353\\nsamples = 30\\nvalue = [28, 2]\\nclass = No'),\n",
              " Text(0.33131313131313134, 0.13636363636363635, 'MMRCurrentAuctionAveragePrice <= 2796.5\\nentropy = 0.216\\nsamples = 29\\nvalue = [28, 1]\\nclass = No'),\n",
              " Text(0.32727272727272727, 0.045454545454545456, 'entropy = 0.65\\nsamples = 6\\nvalue = [5, 1]\\nclass = No'),\n",
              " Text(0.33535353535353535, 0.045454545454545456, 'entropy = 0.0\\nsamples = 23\\nvalue = [23, 0]\\nclass = No'),\n",
              " Text(0.3393939393939394, 0.13636363636363635, 'entropy = 0.0\\nsamples = 1\\nvalue = [0, 1]\\nclass = Yes'),\n",
              " Text(0.3595959595959596, 0.3181818181818182, 'MMRCurrentAuctionAveragePrice <= 3109.0\\nentropy = 0.99\\nsamples = 25\\nvalue = [14, 11]\\nclass = No'),\n",
              " Text(0.3515151515151515, 0.22727272727272727, 'WheelType_Covers <= 0.5\\nentropy = 0.75\\nsamples = 14\\nvalue = [11, 3]\\nclass = No'),\n",
              " Text(0.3474747474747475, 0.13636363636363635, 'VehBCost <= 3760.0\\nentropy = 0.985\\nsamples = 7\\nvalue = [4, 3]\\nclass = No'),\n",
              " Text(0.3434343434343434, 0.045454545454545456, 'entropy = 0.0\\nsamples = 2\\nvalue = [0, 2]\\nclass = Yes'),\n",
              " Text(0.3515151515151515, 0.045454545454545456, 'entropy = 0.722\\nsamples = 5\\nvalue = [4, 1]\\nclass = No'),\n",
              " Text(0.35555555555555557, 0.13636363636363635, 'entropy = 0.0\\nsamples = 7\\nvalue = [7, 0]\\nclass = No'),\n",
              " Text(0.36767676767676766, 0.22727272727272727, 'MMRCurrentAuctionAveragePrice <= 3586.5\\nentropy = 0.845\\nsamples = 11\\nvalue = [3, 8]\\nclass = Yes'),\n",
              " Text(0.36363636363636365, 0.13636363636363635, 'entropy = 0.0\\nsamples = 5\\nvalue = [0, 5]\\nclass = Yes'),\n",
              " Text(0.3717171717171717, 0.13636363636363635, 'Auction_MANHEIM <= 0.5\\nentropy = 1.0\\nsamples = 6\\nvalue = [3, 3]\\nclass = No'),\n",
              " Text(0.36767676767676766, 0.045454545454545456, 'entropy = 0.0\\nsamples = 3\\nvalue = [3, 0]\\nclass = No'),\n",
              " Text(0.37575757575757573, 0.045454545454545456, 'entropy = 0.0\\nsamples = 3\\nvalue = [0, 3]\\nclass = Yes'),\n",
              " Text(0.41414141414141414, 0.4090909090909091, 'WarrantyCost <= 1292.0\\nentropy = 0.518\\nsamples = 112\\nvalue = [99, 13]\\nclass = No'),\n",
              " Text(0.4, 0.3181818181818182, 'MMRCurrentAuctionAveragePrice <= 3637.5\\nentropy = 0.605\\nsamples = 81\\nvalue = [69, 12]\\nclass = No'),\n",
              " Text(0.39191919191919194, 0.22727272727272727, 'VehOdo <= 77987.0\\nentropy = 0.439\\nsamples = 55\\nvalue = [50, 5]\\nclass = No'),\n",
              " Text(0.3878787878787879, 0.13636363636363635, 'VehOdo <= 74953.0\\nentropy = 0.602\\nsamples = 34\\nvalue = [29, 5]\\nclass = No'),\n",
              " Text(0.3838383838383838, 0.045454545454545456, 'entropy = 0.362\\nsamples = 29\\nvalue = [27, 2]\\nclass = No'),\n",
              " Text(0.39191919191919194, 0.045454545454545456, 'entropy = 0.971\\nsamples = 5\\nvalue = [2, 3]\\nclass = Yes'),\n",
              " Text(0.39595959595959596, 0.13636363636363635, 'entropy = 0.0\\nsamples = 21\\nvalue = [21, 0]\\nclass = No'),\n",
              " Text(0.4080808080808081, 0.22727272727272727, 'MMRCurrentAuctionAveragePrice <= 3681.5\\nentropy = 0.84\\nsamples = 26\\nvalue = [19, 7]\\nclass = No'),\n",
              " Text(0.40404040404040403, 0.13636363636363635, 'entropy = 0.0\\nsamples = 3\\nvalue = [0, 3]\\nclass = Yes'),\n",
              " Text(0.4121212121212121, 0.13636363636363635, 'Auction_MANHEIM <= 0.5\\nentropy = 0.667\\nsamples = 23\\nvalue = [19, 4]\\nclass = No'),\n",
              " Text(0.4080808080808081, 0.045454545454545456, 'entropy = 0.0\\nsamples = 10\\nvalue = [10, 0]\\nclass = No'),\n",
              " Text(0.4161616161616162, 0.045454545454545456, 'entropy = 0.89\\nsamples = 13\\nvalue = [9, 4]\\nclass = No'),\n",
              " Text(0.42828282828282827, 0.3181818181818182, 'MMRCurrentAuctionAveragePrice <= 2668.0\\nentropy = 0.206\\nsamples = 31\\nvalue = [30, 1]\\nclass = No'),\n",
              " Text(0.42424242424242425, 0.22727272727272727, 'MMRCurrentAuctionAveragePrice <= 2508.0\\nentropy = 0.811\\nsamples = 4\\nvalue = [3, 1]\\nclass = No'),\n",
              " Text(0.4202020202020202, 0.13636363636363635, 'entropy = 0.0\\nsamples = 3\\nvalue = [3, 0]\\nclass = No'),\n",
              " Text(0.42828282828282827, 0.13636363636363635, 'entropy = 0.0\\nsamples = 1\\nvalue = [0, 1]\\nclass = Yes'),\n",
              " Text(0.43232323232323233, 0.22727272727272727, 'entropy = 0.0\\nsamples = 27\\nvalue = [27, 0]\\nclass = No'),\n",
              " Text(0.3878787878787879, 0.5, 'entropy = 0.0\\nsamples = 20\\nvalue = [20, 0]\\nclass = No'),\n",
              " Text(0.5035353535353535, 0.5909090909090909, 'Auction_OTHER <= 0.5\\nentropy = 0.834\\nsamples = 445\\nvalue = [327, 118]\\nclass = No'),\n",
              " Text(0.4575757575757576, 0.5, 'VehOdo <= 81752.5\\nentropy = 0.881\\nsamples = 354\\nvalue = [248, 106]\\nclass = No'),\n",
              " Text(0.4404040404040404, 0.4090909090909091, 'VehOdo <= 41862.5\\nentropy = 0.776\\nsamples = 188\\nvalue = [145, 43]\\nclass = No'),\n",
              " Text(0.43636363636363634, 0.3181818181818182, 'entropy = 0.0\\nsamples = 2\\nvalue = [0, 2]\\nclass = Yes'),\n",
              " Text(0.4444444444444444, 0.3181818181818182, 'VehBCost <= 2632.5\\nentropy = 0.761\\nsamples = 186\\nvalue = [145, 41]\\nclass = No'),\n",
              " Text(0.4404040404040404, 0.22727272727272727, 'entropy = 0.0\\nsamples = 2\\nvalue = [0, 2]\\nclass = Yes'),\n",
              " Text(0.4484848484848485, 0.22727272727272727, 'TopThreeAmericanName_OTHER <= 0.5\\nentropy = 0.745\\nsamples = 184\\nvalue = [145, 39]\\nclass = No'),\n",
              " Text(0.4444444444444444, 0.13636363636363635, 'Color_BROWN <= 0.5\\nentropy = 0.791\\nsamples = 164\\nvalue = [125, 39]\\nclass = No'),\n",
              " Text(0.4404040404040404, 0.045454545454545456, 'entropy = 0.775\\nsamples = 162\\nvalue = [125, 37]\\nclass = No'),\n",
              " Text(0.4484848484848485, 0.045454545454545456, 'entropy = 0.0\\nsamples = 2\\nvalue = [0, 2]\\nclass = Yes'),\n",
              " Text(0.45252525252525255, 0.13636363636363635, 'entropy = 0.0\\nsamples = 20\\nvalue = [20, 0]\\nclass = No'),\n",
              " Text(0.47474747474747475, 0.4090909090909091, 'VehOdo <= 82966.0\\nentropy = 0.958\\nsamples = 166\\nvalue = [103, 63]\\nclass = No'),\n",
              " Text(0.46060606060606063, 0.3181818181818182, 'Color_GREY <= 0.5\\nentropy = 0.722\\nsamples = 10\\nvalue = [2, 8]\\nclass = Yes'),\n",
              " Text(0.45656565656565656, 0.22727272727272727, 'entropy = 0.0\\nsamples = 8\\nvalue = [0, 8]\\nclass = Yes'),\n",
              " Text(0.46464646464646464, 0.22727272727272727, 'entropy = 0.0\\nsamples = 2\\nvalue = [2, 0]\\nclass = No'),\n",
              " Text(0.4888888888888889, 0.3181818181818182, 'WarrantyCost <= 2479.0\\nentropy = 0.936\\nsamples = 156\\nvalue = [101, 55]\\nclass = No'),\n",
              " Text(0.4727272727272727, 0.22727272727272727, 'TopThreeAmericanName_GM <= 0.5\\nentropy = 0.89\\nsamples = 130\\nvalue = [90, 40]\\nclass = No'),\n",
              " Text(0.46464646464646464, 0.13636363636363635, 'WarrantyCost <= 907.0\\nentropy = 0.952\\nsamples = 94\\nvalue = [59, 35]\\nclass = No'),\n",
              " Text(0.46060606060606063, 0.045454545454545456, 'entropy = 0.0\\nsamples = 7\\nvalue = [7, 0]\\nclass = No'),\n",
              " Text(0.4686868686868687, 0.045454545454545456, 'entropy = 0.972\\nsamples = 87\\nvalue = [52, 35]\\nclass = No'),\n",
              " Text(0.4808080808080808, 0.13636363636363635, 'MMRCurrentAuctionAveragePrice <= 2724.0\\nentropy = 0.581\\nsamples = 36\\nvalue = [31, 5]\\nclass = No'),\n",
              " Text(0.4767676767676768, 0.045454545454545456, 'entropy = 0.946\\nsamples = 11\\nvalue = [7, 4]\\nclass = No'),\n",
              " Text(0.48484848484848486, 0.045454545454545456, 'entropy = 0.242\\nsamples = 25\\nvalue = [24, 1]\\nclass = No'),\n",
              " Text(0.5050505050505051, 0.22727272727272727, 'VehicleAge <= 6.5\\nentropy = 0.983\\nsamples = 26\\nvalue = [11, 15]\\nclass = Yes'),\n",
              " Text(0.49696969696969695, 0.13636363636363635, 'MMRCurrentAuctionAveragePrice <= 3742.0\\nentropy = 0.544\\nsamples = 8\\nvalue = [1, 7]\\nclass = Yes'),\n",
              " Text(0.49292929292929294, 0.045454545454545456, 'entropy = 0.0\\nsamples = 7\\nvalue = [0, 7]\\nclass = Yes'),\n",
              " Text(0.501010101010101, 0.045454545454545456, 'entropy = 0.0\\nsamples = 1\\nvalue = [1, 0]\\nclass = No'),\n",
              " Text(0.5131313131313131, 0.13636363636363635, 'VehicleAge <= 8.5\\nentropy = 0.991\\nsamples = 18\\nvalue = [10, 8]\\nclass = No'),\n",
              " Text(0.509090909090909, 0.045454545454545456, 'entropy = 0.954\\nsamples = 16\\nvalue = [10, 6]\\nclass = No'),\n",
              " Text(0.5171717171717172, 0.045454545454545456, 'entropy = 0.0\\nsamples = 2\\nvalue = [0, 2]\\nclass = Yes'),\n",
              " Text(0.5494949494949495, 0.5, 'VehBCost <= 4680.0\\nentropy = 0.563\\nsamples = 91\\nvalue = [79, 12]\\nclass = No'),\n",
              " Text(0.5454545454545454, 0.4090909090909091, 'MMRCurrentAuctionAveragePrice <= 2476.0\\nentropy = 0.507\\nsamples = 89\\nvalue = [79, 10]\\nclass = No'),\n",
              " Text(0.5373737373737374, 0.3181818181818182, 'VehBCost <= 4185.0\\nentropy = 0.811\\nsamples = 28\\nvalue = [21, 7]\\nclass = No'),\n",
              " Text(0.5333333333333333, 0.22727272727272727, 'WarrantyCost <= 2414.0\\nentropy = 0.918\\nsamples = 21\\nvalue = [14, 7]\\nclass = No'),\n",
              " Text(0.5292929292929293, 0.13636363636363635, 'WarrantyCost <= 1363.0\\nentropy = 0.977\\nsamples = 17\\nvalue = [10, 7]\\nclass = No'),\n",
              " Text(0.5252525252525253, 0.045454545454545456, 'entropy = 0.722\\nsamples = 10\\nvalue = [8, 2]\\nclass = No'),\n",
              " Text(0.5333333333333333, 0.045454545454545456, 'entropy = 0.863\\nsamples = 7\\nvalue = [2, 5]\\nclass = Yes'),\n",
              " Text(0.5373737373737374, 0.13636363636363635, 'entropy = 0.0\\nsamples = 4\\nvalue = [4, 0]\\nclass = No'),\n",
              " Text(0.5414141414141415, 0.22727272727272727, 'entropy = 0.0\\nsamples = 7\\nvalue = [7, 0]\\nclass = No'),\n",
              " Text(0.5535353535353535, 0.3181818181818182, 'Color_WHITE <= 0.5\\nentropy = 0.283\\nsamples = 61\\nvalue = [58, 3]\\nclass = No'),\n",
              " Text(0.5494949494949495, 0.22727272727272727, 'entropy = 0.0\\nsamples = 46\\nvalue = [46, 0]\\nclass = No'),\n",
              " Text(0.5575757575757576, 0.22727272727272727, 'VehBCost <= 4137.5\\nentropy = 0.722\\nsamples = 15\\nvalue = [12, 3]\\nclass = No'),\n",
              " Text(0.5535353535353535, 0.13636363636363635, 'entropy = 0.0\\nsamples = 7\\nvalue = [7, 0]\\nclass = No'),\n",
              " Text(0.5616161616161616, 0.13636363636363635, 'VehOdo <= 87628.5\\nentropy = 0.954\\nsamples = 8\\nvalue = [5, 3]\\nclass = No'),\n",
              " Text(0.5575757575757576, 0.045454545454545456, 'entropy = 1.0\\nsamples = 6\\nvalue = [3, 3]\\nclass = No'),\n",
              " Text(0.5656565656565656, 0.045454545454545456, 'entropy = 0.0\\nsamples = 2\\nvalue = [2, 0]\\nclass = No'),\n",
              " Text(0.5535353535353535, 0.4090909090909091, 'entropy = 0.0\\nsamples = 2\\nvalue = [0, 2]\\nclass = Yes'),\n",
              " Text(0.6938131313131313, 0.6818181818181818, 'Auction_MANHEIM <= 0.5\\nentropy = 0.565\\nsamples = 1988\\nvalue = [1724, 264]\\nclass = No'),\n",
              " Text(0.6282828282828283, 0.5909090909090909, 'WarrantyCost <= 621.5\\nentropy = 0.465\\nsamples = 770\\nvalue = [694, 76]\\nclass = No'),\n",
              " Text(0.6242424242424243, 0.5, 'entropy = 0.0\\nsamples = 43\\nvalue = [43, 0]\\nclass = No'),\n",
              " Text(0.6323232323232323, 0.5, 'WarrantyCost <= 2336.5\\nentropy = 0.483\\nsamples = 727\\nvalue = [651, 76]\\nclass = No'),\n",
              " Text(0.6282828282828283, 0.4090909090909091, 'Color_SILVER <= 0.5\\nentropy = 0.501\\nsamples = 688\\nvalue = [612, 76]\\nclass = No'),\n",
              " Text(0.602020202020202, 0.3181818181818182, 'TopThreeAmericanName_GM <= 0.5\\nentropy = 0.448\\nsamples = 546\\nvalue = [495, 51]\\nclass = No'),\n",
              " Text(0.5858585858585859, 0.22727272727272727, 'MMRCurrentAuctionAveragePrice <= 7457.0\\nentropy = 0.517\\nsamples = 371\\nvalue = [328, 43]\\nclass = No'),\n",
              " Text(0.5777777777777777, 0.13636363636363635, 'WarrantyCost <= 2270.0\\nentropy = 0.565\\nsamples = 316\\nvalue = [274, 42]\\nclass = No'),\n",
              " Text(0.5737373737373738, 0.045454545454545456, 'entropy = 0.558\\nsamples = 315\\nvalue = [274, 41]\\nclass = No'),\n",
              " Text(0.5818181818181818, 0.045454545454545456, 'entropy = 0.0\\nsamples = 1\\nvalue = [0, 1]\\nclass = Yes'),\n",
              " Text(0.593939393939394, 0.13636363636363635, 'Color_WHITE <= 0.5\\nentropy = 0.131\\nsamples = 55\\nvalue = [54, 1]\\nclass = No'),\n",
              " Text(0.5898989898989899, 0.045454545454545456, 'entropy = 0.0\\nsamples = 46\\nvalue = [46, 0]\\nclass = No'),\n",
              " Text(0.597979797979798, 0.045454545454545456, 'entropy = 0.503\\nsamples = 9\\nvalue = [8, 1]\\nclass = No'),\n",
              " Text(0.6181818181818182, 0.22727272727272727, 'WarrantyCost <= 1908.0\\nentropy = 0.268\\nsamples = 175\\nvalue = [167, 8]\\nclass = No'),\n",
              " Text(0.6101010101010101, 0.13636363636363635, 'VehBCost <= 7860.0\\nentropy = 0.121\\nsamples = 121\\nvalue = [119, 2]\\nclass = No'),\n",
              " Text(0.6060606060606061, 0.045454545454545456, 'entropy = 0.0\\nsamples = 91\\nvalue = [91, 0]\\nclass = No'),\n",
              " Text(0.6141414141414141, 0.045454545454545456, 'entropy = 0.353\\nsamples = 30\\nvalue = [28, 2]\\nclass = No'),\n",
              " Text(0.6262626262626263, 0.13636363636363635, 'VehBCost <= 5190.0\\nentropy = 0.503\\nsamples = 54\\nvalue = [48, 6]\\nclass = No'),\n",
              " Text(0.6222222222222222, 0.045454545454545456, 'entropy = 0.811\\nsamples = 4\\nvalue = [1, 3]\\nclass = Yes'),\n",
              " Text(0.6303030303030303, 0.045454545454545456, 'entropy = 0.327\\nsamples = 50\\nvalue = [47, 3]\\nclass = No'),\n",
              " Text(0.6545454545454545, 0.3181818181818182, 'VehBCost <= 10427.5\\nentropy = 0.671\\nsamples = 142\\nvalue = [117, 25]\\nclass = No'),\n",
              " Text(0.6505050505050505, 0.22727272727272727, 'VehBCost <= 5047.5\\nentropy = 0.644\\nsamples = 140\\nvalue = [117, 23]\\nclass = No'),\n",
              " Text(0.6424242424242425, 0.13636363636363635, 'MMRCurrentAuctionAveragePrice <= 2849.0\\nentropy = 0.959\\nsamples = 21\\nvalue = [13, 8]\\nclass = No'),\n",
              " Text(0.6383838383838384, 0.045454545454545456, 'entropy = 0.0\\nsamples = 6\\nvalue = [6, 0]\\nclass = No'),\n",
              " Text(0.6464646464646465, 0.045454545454545456, 'entropy = 0.997\\nsamples = 15\\nvalue = [7, 8]\\nclass = Yes'),\n",
              " Text(0.6585858585858586, 0.13636363636363635, 'Auction_OTHER <= 0.5\\nentropy = 0.547\\nsamples = 119\\nvalue = [104, 15]\\nclass = No'),\n",
              " Text(0.6545454545454545, 0.045454545454545456, 'entropy = 0.319\\nsamples = 69\\nvalue = [65, 4]\\nclass = No'),\n",
              " Text(0.6626262626262627, 0.045454545454545456, 'entropy = 0.76\\nsamples = 50\\nvalue = [39, 11]\\nclass = No'),\n",
              " Text(0.6585858585858586, 0.22727272727272727, 'entropy = 0.0\\nsamples = 2\\nvalue = [0, 2]\\nclass = Yes'),\n",
              " Text(0.6363636363636364, 0.4090909090909091, 'entropy = 0.0\\nsamples = 39\\nvalue = [39, 0]\\nclass = No'),\n",
              " Text(0.7593434343434343, 0.5909090909090909, 'VehicleAge <= 7.5\\nentropy = 0.621\\nsamples = 1218\\nvalue = [1030, 188]\\nclass = No'),\n",
              " Text(0.7186868686868687, 0.5, 'VehOdo <= 54334.0\\nentropy = 0.589\\nsamples = 1127\\nvalue = [967, 160]\\nclass = No'),\n",
              " Text(0.6888888888888889, 0.4090909090909091, 'MMRCurrentAuctionAveragePrice <= 5795.0\\nentropy = 0.295\\nsamples = 96\\nvalue = [91, 5]\\nclass = No'),\n",
              " Text(0.6787878787878788, 0.3181818181818182, 'WheelType_Special <= 0.5\\nentropy = 0.161\\nsamples = 85\\nvalue = [83, 2]\\nclass = No'),\n",
              " Text(0.6707070707070707, 0.22727272727272727, 'Color_GOLD <= 0.5\\nentropy = 0.095\\nsamples = 82\\nvalue = [81, 1]\\nclass = No'),\n",
              " Text(0.6666666666666666, 0.13636363636363635, 'entropy = 0.0\\nsamples = 75\\nvalue = [75, 0]\\nclass = No'),\n",
              " Text(0.6747474747474748, 0.13636363636363635, 'TopThreeAmericanName_OTHER <= 0.5\\nentropy = 0.592\\nsamples = 7\\nvalue = [6, 1]\\nclass = No'),\n",
              " Text(0.6707070707070707, 0.045454545454545456, 'entropy = 0.0\\nsamples = 6\\nvalue = [6, 0]\\nclass = No'),\n",
              " Text(0.6787878787878788, 0.045454545454545456, 'entropy = 0.0\\nsamples = 1\\nvalue = [0, 1]\\nclass = Yes'),\n",
              " Text(0.6868686868686869, 0.22727272727272727, 'MMRCurrentAuctionAveragePrice <= 3381.5\\nentropy = 0.918\\nsamples = 3\\nvalue = [2, 1]\\nclass = No'),\n",
              " Text(0.6828282828282828, 0.13636363636363635, 'entropy = 0.0\\nsamples = 1\\nvalue = [0, 1]\\nclass = Yes'),\n",
              " Text(0.6909090909090909, 0.13636363636363635, 'entropy = 0.0\\nsamples = 2\\nvalue = [2, 0]\\nclass = No'),\n",
              " Text(0.6989898989898989, 0.3181818181818182, 'WarrantyCost <= 828.0\\nentropy = 0.845\\nsamples = 11\\nvalue = [8, 3]\\nclass = No'),\n",
              " Text(0.694949494949495, 0.22727272727272727, 'entropy = 0.0\\nsamples = 5\\nvalue = [5, 0]\\nclass = No'),\n",
              " Text(0.703030303030303, 0.22727272727272727, 'VehBCost <= 7650.0\\nentropy = 1.0\\nsamples = 6\\nvalue = [3, 3]\\nclass = No'),\n",
              " Text(0.6989898989898989, 0.13636363636363635, 'entropy = 0.0\\nsamples = 2\\nvalue = [0, 2]\\nclass = Yes'),\n",
              " Text(0.7070707070707071, 0.13636363636363635, 'TopThreeAmericanName_OTHER <= 0.5\\nentropy = 0.811\\nsamples = 4\\nvalue = [3, 1]\\nclass = No'),\n",
              " Text(0.703030303030303, 0.045454545454545456, 'entropy = 0.0\\nsamples = 3\\nvalue = [3, 0]\\nclass = No'),\n",
              " Text(0.7111111111111111, 0.045454545454545456, 'entropy = 0.0\\nsamples = 1\\nvalue = [0, 1]\\nclass = Yes'),\n",
              " Text(0.7484848484848485, 0.4090909090909091, 'MMRCurrentAuctionAveragePrice <= 10494.5\\nentropy = 0.611\\nsamples = 1031\\nvalue = [876, 155]\\nclass = No'),\n",
              " Text(0.7373737373737373, 0.3181818181818182, 'VehicleAge <= 5.5\\nentropy = 0.605\\nsamples = 1026\\nvalue = [874, 152]\\nclass = No'),\n",
              " Text(0.7272727272727273, 0.22727272727272727, 'VehOdo <= 92875.5\\nentropy = 0.542\\nsamples = 562\\nvalue = [492, 70]\\nclass = No'),\n",
              " Text(0.7232323232323232, 0.13636363636363635, 'VehBCost <= 4852.5\\nentropy = 0.557\\nsamples = 539\\nvalue = [469, 70]\\nclass = No'),\n",
              " Text(0.7191919191919192, 0.045454545454545456, 'entropy = 0.0\\nsamples = 18\\nvalue = [18, 0]\\nclass = No'),\n",
              " Text(0.7272727272727273, 0.045454545454545456, 'entropy = 0.569\\nsamples = 521\\nvalue = [451, 70]\\nclass = No'),\n",
              " Text(0.7313131313131314, 0.13636363636363635, 'entropy = 0.0\\nsamples = 23\\nvalue = [23, 0]\\nclass = No'),\n",
              " Text(0.7474747474747475, 0.22727272727272727, 'WarrantyCost <= 814.0\\nentropy = 0.673\\nsamples = 464\\nvalue = [382, 82]\\nclass = No'),\n",
              " Text(0.7393939393939394, 0.13636363636363635, 'MMRCurrentAuctionAveragePrice <= 5334.0\\nentropy = 0.318\\nsamples = 52\\nvalue = [49, 3]\\nclass = No'),\n",
              " Text(0.7353535353535353, 0.045454545454545456, 'entropy = 0.0\\nsamples = 28\\nvalue = [28, 0]\\nclass = No'),\n",
              " Text(0.7434343434343434, 0.045454545454545456, 'entropy = 0.544\\nsamples = 24\\nvalue = [21, 3]\\nclass = No'),\n",
              " Text(0.7555555555555555, 0.13636363636363635, 'VehBCost <= 9467.5\\nentropy = 0.705\\nsamples = 412\\nvalue = [333, 79]\\nclass = No'),\n",
              " Text(0.7515151515151515, 0.045454545454545456, 'entropy = 0.737\\nsamples = 361\\nvalue = [286, 75]\\nclass = No'),\n",
              " Text(0.7595959595959596, 0.045454545454545456, 'entropy = 0.397\\nsamples = 51\\nvalue = [47, 4]\\nclass = No'),\n",
              " Text(0.7595959595959596, 0.3181818181818182, 'TopThreeAmericanName_GM <= 0.5\\nentropy = 0.971\\nsamples = 5\\nvalue = [2, 3]\\nclass = Yes'),\n",
              " Text(0.7555555555555555, 0.22727272727272727, 'entropy = 0.0\\nsamples = 3\\nvalue = [0, 3]\\nclass = Yes'),\n",
              " Text(0.7636363636363637, 0.22727272727272727, 'entropy = 0.0\\nsamples = 2\\nvalue = [2, 0]\\nclass = No'),\n",
              " Text(0.8, 0.5, 'WarrantyCost <= 1805.5\\nentropy = 0.89\\nsamples = 91\\nvalue = [63, 28]\\nclass = No'),\n",
              " Text(0.7838383838383839, 0.4090909090909091, 'VehOdo <= 86880.5\\nentropy = 0.787\\nsamples = 68\\nvalue = [52, 16]\\nclass = No'),\n",
              " Text(0.7757575757575758, 0.3181818181818182, 'Color_MAROON <= 0.5\\nentropy = 0.629\\nsamples = 57\\nvalue = [48, 9]\\nclass = No'),\n",
              " Text(0.7717171717171717, 0.22727272727272727, 'VehBCost <= 5265.0\\nentropy = 0.55\\nsamples = 55\\nvalue = [48, 7]\\nclass = No'),\n",
              " Text(0.7676767676767676, 0.13636363636363635, 'entropy = 0.0\\nsamples = 17\\nvalue = [17, 0]\\nclass = No'),\n",
              " Text(0.7757575757575758, 0.13636363636363635, 'VehBCost <= 5622.5\\nentropy = 0.689\\nsamples = 38\\nvalue = [31, 7]\\nclass = No'),\n",
              " Text(0.7717171717171717, 0.045454545454545456, 'entropy = 0.918\\nsamples = 6\\nvalue = [2, 4]\\nclass = Yes'),\n",
              " Text(0.7797979797979798, 0.045454545454545456, 'entropy = 0.449\\nsamples = 32\\nvalue = [29, 3]\\nclass = No'),\n",
              " Text(0.7797979797979798, 0.22727272727272727, 'entropy = 0.0\\nsamples = 2\\nvalue = [0, 2]\\nclass = Yes'),\n",
              " Text(0.7919191919191919, 0.3181818181818182, 'VehOdo <= 94714.5\\nentropy = 0.946\\nsamples = 11\\nvalue = [4, 7]\\nclass = Yes'),\n",
              " Text(0.7878787878787878, 0.22727272727272727, 'VehBCost <= 8712.5\\nentropy = 0.544\\nsamples = 8\\nvalue = [1, 7]\\nclass = Yes'),\n",
              " Text(0.7838383838383839, 0.13636363636363635, 'entropy = 0.0\\nsamples = 7\\nvalue = [0, 7]\\nclass = Yes'),\n",
              " Text(0.7919191919191919, 0.13636363636363635, 'entropy = 0.0\\nsamples = 1\\nvalue = [1, 0]\\nclass = No'),\n",
              " Text(0.795959595959596, 0.22727272727272727, 'entropy = 0.0\\nsamples = 3\\nvalue = [3, 0]\\nclass = No'),\n",
              " Text(0.8161616161616162, 0.4090909090909091, 'VehOdo <= 86992.0\\nentropy = 0.999\\nsamples = 23\\nvalue = [11, 12]\\nclass = Yes'),\n",
              " Text(0.8080808080808081, 0.3181818181818182, 'VehBCost <= 5625.0\\nentropy = 0.896\\nsamples = 16\\nvalue = [5, 11]\\nclass = Yes'),\n",
              " Text(0.804040404040404, 0.22727272727272727, 'VehicleAge <= 8.5\\nentropy = 0.954\\nsamples = 8\\nvalue = [5, 3]\\nclass = No'),\n",
              " Text(0.8, 0.13636363636363635, 'Size_LARGE <= 0.5\\nentropy = 1.0\\nsamples = 6\\nvalue = [3, 3]\\nclass = No'),\n",
              " Text(0.795959595959596, 0.045454545454545456, 'entropy = 0.0\\nsamples = 2\\nvalue = [0, 2]\\nclass = Yes'),\n",
              " Text(0.804040404040404, 0.045454545454545456, 'entropy = 0.811\\nsamples = 4\\nvalue = [3, 1]\\nclass = No'),\n",
              " Text(0.8080808080808081, 0.13636363636363635, 'entropy = 0.0\\nsamples = 2\\nvalue = [2, 0]\\nclass = No'),\n",
              " Text(0.8121212121212121, 0.22727272727272727, 'entropy = 0.0\\nsamples = 8\\nvalue = [0, 8]\\nclass = Yes'),\n",
              " Text(0.8242424242424242, 0.3181818181818182, 'Color_BLACK <= 0.5\\nentropy = 0.592\\nsamples = 7\\nvalue = [6, 1]\\nclass = No'),\n",
              " Text(0.8202020202020202, 0.22727272727272727, 'entropy = 0.0\\nsamples = 6\\nvalue = [6, 0]\\nclass = No'),\n",
              " Text(0.8282828282828283, 0.22727272727272727, 'entropy = 0.0\\nsamples = 1\\nvalue = [0, 1]\\nclass = Yes'),\n",
              " Text(0.9366161616161616, 0.8636363636363636, 'Auction_MANHEIM <= 0.5\\nentropy = 0.798\\nsamples = 314\\nvalue = [76, 238]\\nclass = Yes'),\n",
              " Text(0.8934343434343435, 0.7727272727272727, 'VehOdo <= 81450.5\\nentropy = 0.567\\nsamples = 247\\nvalue = [33, 214]\\nclass = Yes'),\n",
              " Text(0.8737373737373737, 0.6818181818181818, 'VehOdo <= 80407.5\\nentropy = 0.659\\nsamples = 176\\nvalue = [30, 146]\\nclass = Yes'),\n",
              " Text(0.8696969696969697, 0.5909090909090909, 'Color_BROWN <= 0.5\\nentropy = 0.625\\nsamples = 173\\nvalue = [27, 146]\\nclass = Yes'),\n",
              " Text(0.8656565656565657, 0.5, 'Auction_OTHER <= 0.5\\nentropy = 0.6\\nsamples = 171\\nvalue = [25, 146]\\nclass = Yes'),\n",
              " Text(0.8404040404040404, 0.4090909090909091, 'WarrantyCost <= 1029.0\\nentropy = 0.397\\nsamples = 89\\nvalue = [7, 82]\\nclass = Yes'),\n",
              " Text(0.8363636363636363, 0.3181818181818182, 'entropy = 0.0\\nsamples = 34\\nvalue = [0, 34]\\nclass = Yes'),\n",
              " Text(0.8444444444444444, 0.3181818181818182, 'Color_WHITE <= 0.5\\nentropy = 0.55\\nsamples = 55\\nvalue = [7, 48]\\nclass = Yes'),\n",
              " Text(0.8363636363636363, 0.22727272727272727, 'Size_SMALL SUV <= 0.5\\nentropy = 0.348\\nsamples = 46\\nvalue = [3, 43]\\nclass = Yes'),\n",
              " Text(0.8323232323232324, 0.13636363636363635, 'MMRCurrentAuctionAveragePrice <= 6189.0\\nentropy = 0.262\\nsamples = 45\\nvalue = [2, 43]\\nclass = Yes'),\n",
              " Text(0.8282828282828283, 0.045454545454545456, 'entropy = 0.0\\nsamples = 29\\nvalue = [0, 29]\\nclass = Yes'),\n",
              " Text(0.8363636363636363, 0.045454545454545456, 'entropy = 0.544\\nsamples = 16\\nvalue = [2, 14]\\nclass = Yes'),\n",
              " Text(0.8404040404040404, 0.13636363636363635, 'entropy = 0.0\\nsamples = 1\\nvalue = [1, 0]\\nclass = No'),\n",
              " Text(0.8525252525252526, 0.22727272727272727, 'VehOdo <= 74794.5\\nentropy = 0.991\\nsamples = 9\\nvalue = [4, 5]\\nclass = Yes'),\n",
              " Text(0.8484848484848485, 0.13636363636363635, 'VehBCost <= 5725.0\\nentropy = 0.863\\nsamples = 7\\nvalue = [2, 5]\\nclass = Yes'),\n",
              " Text(0.8444444444444444, 0.045454545454545456, 'entropy = 0.0\\nsamples = 2\\nvalue = [2, 0]\\nclass = No'),\n",
              " Text(0.8525252525252526, 0.045454545454545456, 'entropy = 0.0\\nsamples = 5\\nvalue = [0, 5]\\nclass = Yes'),\n",
              " Text(0.8565656565656565, 0.13636363636363635, 'entropy = 0.0\\nsamples = 2\\nvalue = [2, 0]\\nclass = No'),\n",
              " Text(0.8909090909090909, 0.4090909090909091, 'VehOdo <= 67001.0\\nentropy = 0.759\\nsamples = 82\\nvalue = [18, 64]\\nclass = Yes'),\n",
              " Text(0.8767676767676768, 0.3181818181818182, 'WarrantyCost <= 1143.5\\nentropy = 0.896\\nsamples = 48\\nvalue = [15, 33]\\nclass = Yes'),\n",
              " Text(0.8686868686868687, 0.22727272727272727, 'VehOdo <= 65565.0\\nentropy = 0.759\\nsamples = 41\\nvalue = [9, 32]\\nclass = Yes'),\n",
              " Text(0.8646464646464647, 0.13636363636363635, 'VehBCost <= 10947.5\\nentropy = 0.629\\nsamples = 38\\nvalue = [6, 32]\\nclass = Yes'),\n",
              " Text(0.8606060606060606, 0.045454545454545456, 'entropy = 0.571\\nsamples = 37\\nvalue = [5, 32]\\nclass = Yes'),\n",
              " Text(0.8686868686868687, 0.045454545454545456, 'entropy = 0.0\\nsamples = 1\\nvalue = [1, 0]\\nclass = No'),\n",
              " Text(0.8727272727272727, 0.13636363636363635, 'entropy = 0.0\\nsamples = 3\\nvalue = [3, 0]\\nclass = No'),\n",
              " Text(0.8848484848484849, 0.22727272727272727, 'VehicleAge <= 7.5\\nentropy = 0.592\\nsamples = 7\\nvalue = [6, 1]\\nclass = No'),\n",
              " Text(0.8808080808080808, 0.13636363636363635, 'entropy = 0.0\\nsamples = 6\\nvalue = [6, 0]\\nclass = No'),\n",
              " Text(0.8888888888888888, 0.13636363636363635, 'entropy = 0.0\\nsamples = 1\\nvalue = [0, 1]\\nclass = Yes'),\n",
              " Text(0.9050505050505051, 0.3181818181818182, 'MMRCurrentAuctionAveragePrice <= 2879.5\\nentropy = 0.431\\nsamples = 34\\nvalue = [3, 31]\\nclass = Yes'),\n",
              " Text(0.901010101010101, 0.22727272727272727, 'MMRCurrentAuctionAveragePrice <= 2634.5\\nentropy = 0.918\\nsamples = 9\\nvalue = [3, 6]\\nclass = Yes'),\n",
              " Text(0.896969696969697, 0.13636363636363635, 'Color_OTHER <= 0.5\\nentropy = 0.592\\nsamples = 7\\nvalue = [1, 6]\\nclass = Yes'),\n",
              " Text(0.8929292929292929, 0.045454545454545456, 'entropy = 0.0\\nsamples = 6\\nvalue = [0, 6]\\nclass = Yes'),\n",
              " Text(0.901010101010101, 0.045454545454545456, 'entropy = 0.0\\nsamples = 1\\nvalue = [1, 0]\\nclass = No'),\n",
              " Text(0.9050505050505051, 0.13636363636363635, 'entropy = 0.0\\nsamples = 2\\nvalue = [2, 0]\\nclass = No'),\n",
              " Text(0.9090909090909091, 0.22727272727272727, 'entropy = 0.0\\nsamples = 25\\nvalue = [0, 25]\\nclass = Yes'),\n",
              " Text(0.8737373737373737, 0.5, 'entropy = 0.0\\nsamples = 2\\nvalue = [2, 0]\\nclass = No'),\n",
              " Text(0.8777777777777778, 0.5909090909090909, 'entropy = 0.0\\nsamples = 3\\nvalue = [3, 0]\\nclass = No'),\n",
              " Text(0.9131313131313131, 0.6818181818181818, 'Auction_OTHER <= 0.5\\nentropy = 0.253\\nsamples = 71\\nvalue = [3, 68]\\nclass = Yes'),\n",
              " Text(0.9090909090909091, 0.5909090909090909, 'entropy = 0.0\\nsamples = 34\\nvalue = [0, 34]\\nclass = Yes'),\n",
              " Text(0.9171717171717172, 0.5909090909090909, 'VehOdo <= 86279.0\\nentropy = 0.406\\nsamples = 37\\nvalue = [3, 34]\\nclass = Yes'),\n",
              " Text(0.9131313131313131, 0.5, 'entropy = 0.0\\nsamples = 17\\nvalue = [0, 17]\\nclass = Yes'),\n",
              " Text(0.9212121212121213, 0.5, 'VehOdo <= 86404.5\\nentropy = 0.61\\nsamples = 20\\nvalue = [3, 17]\\nclass = Yes'),\n",
              " Text(0.9171717171717172, 0.4090909090909091, 'entropy = 0.0\\nsamples = 1\\nvalue = [1, 0]\\nclass = No'),\n",
              " Text(0.9252525252525252, 0.4090909090909091, 'Color_GREY <= 0.5\\nentropy = 0.485\\nsamples = 19\\nvalue = [2, 17]\\nclass = Yes'),\n",
              " Text(0.9212121212121213, 0.3181818181818182, 'Color_GREEN <= 0.5\\nentropy = 0.31\\nsamples = 18\\nvalue = [1, 17]\\nclass = Yes'),\n",
              " Text(0.9171717171717172, 0.22727272727272727, 'entropy = 0.0\\nsamples = 15\\nvalue = [0, 15]\\nclass = Yes'),\n",
              " Text(0.9252525252525252, 0.22727272727272727, 'VehOdo <= 88036.0\\nentropy = 0.918\\nsamples = 3\\nvalue = [1, 2]\\nclass = Yes'),\n",
              " Text(0.9212121212121213, 0.13636363636363635, 'entropy = 0.0\\nsamples = 1\\nvalue = [1, 0]\\nclass = No'),\n",
              " Text(0.9292929292929293, 0.13636363636363635, 'entropy = 0.0\\nsamples = 2\\nvalue = [0, 2]\\nclass = Yes'),\n",
              " Text(0.9292929292929293, 0.3181818181818182, 'entropy = 0.0\\nsamples = 1\\nvalue = [1, 0]\\nclass = No'),\n",
              " Text(0.9797979797979798, 0.7727272727272727, 'MMRCurrentAuctionAveragePrice <= 7060.0\\nentropy = 0.941\\nsamples = 67\\nvalue = [43, 24]\\nclass = No'),\n",
              " Text(0.9717171717171718, 0.6818181818181818, 'Color_BLACK <= 0.5\\nentropy = 0.995\\nsamples = 50\\nvalue = [27, 23]\\nclass = No'),\n",
              " Text(0.9676767676767677, 0.5909090909090909, 'WarrantyCost <= 1737.0\\nentropy = 0.984\\nsamples = 47\\nvalue = [27, 20]\\nclass = No'),\n",
              " Text(0.9575757575757575, 0.5, 'Color_GREY <= 0.5\\nentropy = 0.942\\nsamples = 39\\nvalue = [25, 14]\\nclass = No'),\n",
              " Text(0.9535353535353536, 0.4090909090909091, 'WarrantyCost <= 1001.5\\nentropy = 0.977\\nsamples = 34\\nvalue = [20, 14]\\nclass = No'),\n",
              " Text(0.9454545454545454, 0.3181818181818182, 'VehOdo <= 79923.0\\nentropy = 0.971\\nsamples = 15\\nvalue = [6, 9]\\nclass = Yes'),\n",
              " Text(0.9414141414141414, 0.22727272727272727, 'MMRCurrentAuctionAveragePrice <= 4856.5\\nentropy = 0.994\\nsamples = 11\\nvalue = [6, 5]\\nclass = No'),\n",
              " Text(0.9373737373737374, 0.13636363636363635, 'Color_WHITE <= 0.5\\nentropy = 0.954\\nsamples = 8\\nvalue = [3, 5]\\nclass = Yes'),\n",
              " Text(0.9333333333333333, 0.045454545454545456, 'entropy = 1.0\\nsamples = 6\\nvalue = [3, 3]\\nclass = No'),\n",
              " Text(0.9414141414141414, 0.045454545454545456, 'entropy = 0.0\\nsamples = 2\\nvalue = [0, 2]\\nclass = Yes'),\n",
              " Text(0.9454545454545454, 0.13636363636363635, 'entropy = 0.0\\nsamples = 3\\nvalue = [3, 0]\\nclass = No'),\n",
              " Text(0.9494949494949495, 0.22727272727272727, 'entropy = 0.0\\nsamples = 4\\nvalue = [0, 4]\\nclass = Yes'),\n",
              " Text(0.9616161616161616, 0.3181818181818182, 'VehBCost <= 5717.5\\nentropy = 0.831\\nsamples = 19\\nvalue = [14, 5]\\nclass = No'),\n",
              " Text(0.9575757575757575, 0.22727272727272727, 'entropy = 0.0\\nsamples = 5\\nvalue = [5, 0]\\nclass = No'),\n",
              " Text(0.9656565656565657, 0.22727272727272727, 'TopThreeAmericanName_FORD <= 0.5\\nentropy = 0.94\\nsamples = 14\\nvalue = [9, 5]\\nclass = No'),\n",
              " Text(0.9616161616161616, 0.13636363636363635, 'MMRCurrentAuctionAveragePrice <= 6960.5\\nentropy = 0.811\\nsamples = 12\\nvalue = [9, 3]\\nclass = No'),\n",
              " Text(0.9575757575757575, 0.045454545454545456, 'entropy = 0.684\\nsamples = 11\\nvalue = [9, 2]\\nclass = No'),\n",
              " Text(0.9656565656565657, 0.045454545454545456, 'entropy = 0.0\\nsamples = 1\\nvalue = [0, 1]\\nclass = Yes'),\n",
              " Text(0.9696969696969697, 0.13636363636363635, 'entropy = 0.0\\nsamples = 2\\nvalue = [0, 2]\\nclass = Yes'),\n",
              " Text(0.9616161616161616, 0.4090909090909091, 'entropy = 0.0\\nsamples = 5\\nvalue = [5, 0]\\nclass = No'),\n",
              " Text(0.9777777777777777, 0.5, 'VehBCost <= 4780.0\\nentropy = 0.811\\nsamples = 8\\nvalue = [2, 6]\\nclass = Yes'),\n",
              " Text(0.9737373737373738, 0.4090909090909091, 'MMRCurrentAuctionAveragePrice <= 3564.5\\nentropy = 0.918\\nsamples = 3\\nvalue = [2, 1]\\nclass = No'),\n",
              " Text(0.9696969696969697, 0.3181818181818182, 'entropy = 0.0\\nsamples = 2\\nvalue = [2, 0]\\nclass = No'),\n",
              " Text(0.9777777777777777, 0.3181818181818182, 'entropy = 0.0\\nsamples = 1\\nvalue = [0, 1]\\nclass = Yes'),\n",
              " Text(0.9818181818181818, 0.4090909090909091, 'entropy = 0.0\\nsamples = 5\\nvalue = [0, 5]\\nclass = Yes'),\n",
              " Text(0.9757575757575757, 0.5909090909090909, 'entropy = 0.0\\nsamples = 3\\nvalue = [0, 3]\\nclass = Yes'),\n",
              " Text(0.9878787878787879, 0.6818181818181818, 'Size_LARGE <= 0.5\\nentropy = 0.323\\nsamples = 17\\nvalue = [16, 1]\\nclass = No'),\n",
              " Text(0.9838383838383838, 0.5909090909090909, 'entropy = 0.0\\nsamples = 15\\nvalue = [15, 0]\\nclass = No'),\n",
              " Text(0.9919191919191919, 0.5909090909090909, 'Color_GREY <= 0.5\\nentropy = 1.0\\nsamples = 2\\nvalue = [1, 1]\\nclass = No'),\n",
              " Text(0.9878787878787879, 0.5, 'entropy = 0.0\\nsamples = 1\\nvalue = [1, 0]\\nclass = No'),\n",
              " Text(0.9959595959595959, 0.5, 'entropy = 0.0\\nsamples = 1\\nvalue = [0, 1]\\nclass = Yes')]"
            ]
          },
          "metadata": {},
          "execution_count": 71
        },
        {
          "output_type": "display_data",
          "data": {
            "text/plain": [
              "<Figure size 2160x1440 with 1 Axes>"
            ],
            "image/png": "[encoded data removed]"
          },
          "metadata": {
            "needs_background": "light"
          }
        }
      ],
      "source": [
        "# Plot the tree\n",
        "fig = plt.figure(figsize=(30,20))\n",
        "tree.plot_tree(model2, feature_names=list(predictors_train.columns), class_names=['No','Yes'], filled=True)"
      ]
    },
    {
      "cell_type": "code",
      "execution_count": null,
      "metadata": {
        "id": "Alr_GBwhT_uN"
      },
      "outputs": [],
      "source": [
        "# Make predictions on training and testing data\n",
        "prediction_on_train = model.predict(predictors_train)\n",
        "prediction_on_test = model.predict(predictors_test)"
      ]
    },
    {
      "cell_type": "code",
      "execution_count": null,
      "metadata": {
        "id": "ww8skeKaT_uO",
        "colab": {
          "base_uri": "https://localhost:8080/",
          "height": 355
        },
        "outputId": "b3e67fc7-52cc-4cbd-eff7-a271782c59fd"
      },
      "outputs": [
        {
          "output_type": "stream",
          "name": "stderr",
          "text": [
            "/usr/local/lib/python3.8/dist-packages/sklearn/utils/deprecation.py:87: FutureWarning: Function plot_confusion_matrix is deprecated; Function `plot_confusion_matrix` is deprecated in 1.0 and will be removed in 1.2. Use one of the class methods: ConfusionMatrixDisplay.from_predictions or ConfusionMatrixDisplay.from_estimator.\n",
            "  warnings.warn(msg, category=FutureWarning)\n"
          ]
        },
        {
          "output_type": "execute_result",
          "data": {
            "text/plain": [
              "<sklearn.metrics._plot.confusion_matrix.ConfusionMatrixDisplay at 0x7f70dfea5f10>"
            ]
          },
          "metadata": {},
          "execution_count": 73
        },
        {
          "output_type": "display_data",
          "data": {
            "text/plain": [
              "<Figure size 432x288 with 2 Axes>"
            ],
            "image/png": "[encoded data removed]"
          },
          "metadata": {
            "needs_background": "light"
          }
        }
      ],
      "source": [
        "# Examine the evaluation results on training data: confusion_matrix\n",
        "plot_confusion_matrix(model, predictors_train, target_train, cmap=plt.cm.Blues, values_format='d')"
      ]
    },
    {
      "cell_type": "code",
      "execution_count": null,
      "metadata": {
        "id": "cPhWEZMKT_uO",
        "colab": {
          "base_uri": "https://localhost:8080/",
          "height": 353
        },
        "outputId": "4a4bba2d-c267-483c-dd64-d6064cfb19ae"
      },
      "outputs": [
        {
          "output_type": "stream",
          "name": "stderr",
          "text": [
            "/usr/local/lib/python3.8/dist-packages/sklearn/utils/deprecation.py:87: FutureWarning: Function plot_confusion_matrix is deprecated; Function `plot_confusion_matrix` is deprecated in 1.0 and will be removed in 1.2. Use one of the class methods: ConfusionMatrixDisplay.from_predictions or ConfusionMatrixDisplay.from_estimator.\n",
            "  warnings.warn(msg, category=FutureWarning)\n"
          ]
        },
        {
          "output_type": "execute_result",
          "data": {
            "text/plain": [
              "<sklearn.metrics._plot.confusion_matrix.ConfusionMatrixDisplay at 0x7f70dfdf7400>"
            ]
          },
          "metadata": {},
          "execution_count": 74
        },
        {
          "output_type": "display_data",
          "data": {
            "text/plain": [
              "<Figure size 432x288 with 2 Axes>"
            ],
            "image/png": "[encoded data removed]"
          },
          "metadata": {
            "needs_background": "light"
          }
        }
      ],
      "source": [
        "# Examine the evaluation results on testing data: confusion_matrix\n",
        "plot_confusion_matrix(model, predictors_test, target_test, cmap=plt.cm.Blues, values_format='d')"
      ]
    },
    {
      "cell_type": "code",
      "execution_count": null,
      "metadata": {
        "id": "9p3FbS64T_uO",
        "colab": {
          "base_uri": "https://localhost:8080/"
        },
        "outputId": "bbae3d28-b7c8-4921-f30f-f718ceb772df"
      },
      "outputs": [
        {
          "output_type": "stream",
          "name": "stdout",
          "text": [
            "              precision    recall  f1-score   support\n",
            "\n",
            "          No       0.90      0.99      0.94      6087\n",
            "         Yes       0.87      0.23      0.37       913\n",
            "\n",
            "    accuracy                           0.90      7000\n",
            "   macro avg       0.88      0.61      0.66      7000\n",
            "weighted avg       0.89      0.90      0.87      7000\n",
            "\n"
          ]
        }
      ],
      "source": [
        "# Examine the evaluation results on training data: accuracy, precision, recall, and f1-score\n",
        "print(classification_report(target_train, prediction_on_train))"
      ]
    },
    {
      "cell_type": "code",
      "execution_count": null,
      "metadata": {
        "id": "JvAjq3smT_uO",
        "colab": {
          "base_uri": "https://localhost:8080/"
        },
        "outputId": "72203d51-44d9-4182-d64e-e4b6899978fd"
      },
      "outputs": [
        {
          "output_type": "stream",
          "name": "stdout",
          "text": [
            "              precision    recall  f1-score   support\n",
            "\n",
            "          No       0.90      1.00      0.94      2618\n",
            "         Yes       0.90      0.22      0.36       382\n",
            "\n",
            "    accuracy                           0.90      3000\n",
            "   macro avg       0.90      0.61      0.65      3000\n",
            "weighted avg       0.90      0.90      0.87      3000\n",
            "\n"
          ]
        }
      ],
      "source": [
        "# Examine the evaluation results on testing data: accuracy, precision, recall, and f1-score\n",
        "print(classification_report(target_test, prediction_on_test))"
      ]
    },
    {
      "cell_type": "markdown",
      "metadata": {
        "id": "0k8bwGOXtl-1"
      },
      "source": [
        "## Part 2: Numeric Prediction\n",
        "\n",
        "---"
      ]
    },
    {
      "cell_type": "markdown",
      "metadata": {
        "id": "DX4rHIxjtl-3"
      },
      "source": [
        "In order for a health insurance company to make money, it needs to collect more\n",
        "in yearly premiums than it spends on medical care to its beneficiaries. As a result, insurers invest a great deal of time and money in developing models that accurately forecast medical expenses for the insured population.<br>\n",
        "<br>\n",
        "Medical expenses are difficult to estimate because the most costly conditions are rare and seemingly random. Still, some conditions are more prevalent for certain segments of the population. For instance, lung cancer is more likely among smokers than non-smokers, and heart disease may be more likely among the obese.<br>\n",
        "<br>\n",
        "The goal of this analysis is to use patient data to estimate the average medical\n",
        "care expenses for such population segments. These estimates can be used to create actuarial tables that set the price of yearly premiums higher or lower, \n",
        "depending on the expected treatment costs.<br>\n",
        "<br>\n",
        "The insurance data set has 1338 observations of 7 variables.\n",
        "<br>\n",
        "We will use this file to predict the medical expenses.\n",
        "<br>\n",
        "<br>\n",
        "VARIABLE DESCRIPTIONS:<br>\n",
        "age:\t      age in years<br>\n",
        "sex:\t      gender<br>\n",
        "bmi:\t      body mass index<br>\n",
        "children:\thow many children do they have?<br>\n",
        "smoker:\t  do they smoke?<br>\n",
        "region:\t  geographic region<br>\n",
        "expenses:\tyearly medical expenses<br>\n",
        "<br>\n",
        "Target variable: **expenses**"
      ]
    },
    {
      "cell_type": "markdown",
      "metadata": {
        "id": "-xUY7mV8tl-3"
      },
      "source": [
        "### Upload and clean data"
      ]
    },
    {
      "cell_type": "code",
      "execution_count": null,
      "metadata": {
        "id": "LuoUv9latl-3",
        "colab": {
          "base_uri": "https://localhost:8080/"
        },
        "outputId": "40a9e82a-68c1-4e69-be2d-1a8f5f2a87a6"
      },
      "outputs": [
        {
          "output_type": "stream",
          "name": "stdout",
          "text": [
            "Drive already mounted at /content/drive; to attempt to forcibly remount, call drive.mount(\"/content/drive\", force_remount=True).\n"
          ]
        }
      ],
      "source": [
        "# Mounting Google Drive\n",
        "from google.colab import drive\n",
        "drive.mount('/content/drive')"
      ]
    },
    {
      "cell_type": "code",
      "execution_count": null,
      "metadata": {
        "id": "p_hJPEletl-3",
        "colab": {
          "base_uri": "https://localhost:8080/"
        },
        "outputId": "225928cf-093e-47d5-a99f-462fb778faea"
      },
      "outputs": [
        {
          "output_type": "stream",
          "name": "stdout",
          "text": [
            "Looking in indexes: https://pypi.org/simple, https://us-python.pkg.dev/colab-wheels/public/simple/\n",
            "Requirement already satisfied: regressors in /usr/local/lib/python3.8/dist-packages (0.0.3)\n",
            "Requirement already satisfied: scikit-learn>=0.17 in /usr/local/lib/python3.8/dist-packages (from regressors) (1.0.2)\n",
            "Requirement already satisfied: statsmodels>=0.6.1 in /usr/local/lib/python3.8/dist-packages (from regressors) (0.12.2)\n",
            "Requirement already satisfied: matplotlib in /usr/local/lib/python3.8/dist-packages (from regressors) (3.2.2)\n",
            "Requirement already satisfied: seaborn in /usr/local/lib/python3.8/dist-packages (from regressors) (0.11.2)\n",
            "Requirement already satisfied: pandas in /usr/local/lib/python3.8/dist-packages (from regressors) (1.3.5)\n",
            "Requirement already satisfied: numpy>=1.6.1 in /usr/local/lib/python3.8/dist-packages (from regressors) (1.21.6)\n",
            "Requirement already satisfied: scipy>=0.9 in /usr/local/lib/python3.8/dist-packages (from regressors) (1.7.3)\n",
            "Requirement already satisfied: threadpoolctl>=2.0.0 in /usr/local/lib/python3.8/dist-packages (from scikit-learn>=0.17->regressors) (3.1.0)\n",
            "Requirement already satisfied: joblib>=0.11 in /usr/local/lib/python3.8/dist-packages (from scikit-learn>=0.17->regressors) (1.2.0)\n",
            "Requirement already satisfied: patsy>=0.5 in /usr/local/lib/python3.8/dist-packages (from statsmodels>=0.6.1->regressors) (0.5.3)\n",
            "Requirement already satisfied: pytz>=2017.3 in /usr/local/lib/python3.8/dist-packages (from pandas->regressors) (2022.6)\n",
            "Requirement already satisfied: python-dateutil>=2.7.3 in /usr/local/lib/python3.8/dist-packages (from pandas->regressors) (2.8.2)\n",
            "Requirement already satisfied: six in /usr/local/lib/python3.8/dist-packages (from patsy>=0.5->statsmodels>=0.6.1->regressors) (1.15.0)\n",
            "Requirement already satisfied: kiwisolver>=1.0.1 in /usr/local/lib/python3.8/dist-packages (from matplotlib->regressors) (1.4.4)\n",
            "Requirement already satisfied: pyparsing!=2.0.4,!=2.1.2,!=2.1.6,>=2.0.1 in /usr/local/lib/python3.8/dist-packages (from matplotlib->regressors) (3.0.9)\n",
            "Requirement already satisfied: cycler>=0.10 in /usr/local/lib/python3.8/dist-packages (from matplotlib->regressors) (0.11.0)\n"
          ]
        }
      ],
      "source": [
        "# Import libraries\n",
        "! pip install regressors\n",
        "import pandas as pd\n",
        "import seaborn as sns\n",
        "from sklearn.model_selection import train_test_split\n",
        "from sklearn import linear_model\n",
        "from sklearn.tree import DecisionTreeRegressor\n",
        "from regressors import stats\n",
        "from sklearn.metrics import mean_squared_error\n",
        "from sklearn.metrics import mean_absolute_error"
      ]
    },
    {
      "cell_type": "code",
      "execution_count": null,
      "metadata": {
        "id": "SnBv5ogytl-4",
        "colab": {
          "base_uri": "https://localhost:8080/",
          "height": 423
        },
        "outputId": "9e19636b-d896-4753-c8a4-4816e0b6009d"
      },
      "outputs": [
        {
          "output_type": "execute_result",
          "data": {
            "text/plain": [
              "      age     sex   bmi  children smoker     region  expenses\n",
              "0      19  female  27.9         0    yes  southwest  16884.92\n",
              "1      18    male  33.8         1     no  southeast   1725.55\n",
              "2      28    male  33.0         3     no  southeast   4449.46\n",
              "3      33    male  22.7         0     no  northwest  21984.47\n",
              "4      32    male  28.9         0     no  northwest   3866.86\n",
              "...   ...     ...   ...       ...    ...        ...       ...\n",
              "1333   50    male  31.0         3     no  northwest  10600.55\n",
              "1334   18  female  31.9         0     no  northeast   2205.98\n",
              "1335   18  female  36.9         0     no  southeast   1629.83\n",
              "1336   21  female  25.8         0     no  southwest   2007.95\n",
              "1337   61  female  29.1         0    yes  northwest  29141.36\n",
              "\n",
              "[1338 rows x 7 columns]"
            ],
            "text/html": [
              "\n",
              "  <div id=\"df-329f9ef3-5042-4158-94e1-15af0c1365de\">\n",
              "    <div class=\"colab-df-container\">\n",
              "      <div>\n",
              "<style scoped>\n",
              "    .dataframe tbody tr th:only-of-type {\n",
              "        vertical-align: middle;\n",
              "    }\n",
              "\n",
              "    .dataframe tbody tr th {\n",
              "        vertical-align: top;\n",
              "    }\n",
              "\n",
              "    .dataframe thead th {\n",
              "        text-align: right;\n",
              "    }\n",
              "</style>\n",
              "<table border=\"1\" class=\"dataframe\">\n",
              "  <thead>\n",
              "    <tr style=\"text-align: right;\">\n",
              "      <th></th>\n",
              "      <th>age</th>\n",
              "      <th>sex</th>\n",
              "      <th>bmi</th>\n",
              "      <th>children</th>\n",
              "      <th>smoker</th>\n",
              "      <th>region</th>\n",
              "      <th>expenses</th>\n",
              "    </tr>\n",
              "  </thead>\n",
              "  <tbody>\n",
              "    <tr>\n",
              "      <th>0</th>\n",
              "      <td>19</td>\n",
              "      <td>female</td>\n",
              "      <td>27.9</td>\n",
              "      <td>0</td>\n",
              "      <td>yes</td>\n",
              "      <td>southwest</td>\n",
              "      <td>16884.92</td>\n",
              "    </tr>\n",
              "    <tr>\n",
              "      <th>1</th>\n",
              "      <td>18</td>\n",
              "      <td>male</td>\n",
              "      <td>33.8</td>\n",
              "      <td>1</td>\n",
              "      <td>no</td>\n",
              "      <td>southeast</td>\n",
              "      <td>1725.55</td>\n",
              "    </tr>\n",
              "    <tr>\n",
              "      <th>2</th>\n",
              "      <td>28</td>\n",
              "      <td>male</td>\n",
              "      <td>33.0</td>\n",
              "      <td>3</td>\n",
              "      <td>no</td>\n",
              "      <td>southeast</td>\n",
              "      <td>4449.46</td>\n",
              "    </tr>\n",
              "    <tr>\n",
              "      <th>3</th>\n",
              "      <td>33</td>\n",
              "      <td>male</td>\n",
              "      <td>22.7</td>\n",
              "      <td>0</td>\n",
              "      <td>no</td>\n",
              "      <td>northwest</td>\n",
              "      <td>21984.47</td>\n",
              "    </tr>\n",
              "    <tr>\n",
              "      <th>4</th>\n",
              "      <td>32</td>\n",
              "      <td>male</td>\n",
              "      <td>28.9</td>\n",
              "      <td>0</td>\n",
              "      <td>no</td>\n",
              "      <td>northwest</td>\n",
              "      <td>3866.86</td>\n",
              "    </tr>\n",
              "    <tr>\n",
              "      <th>...</th>\n",
              "      <td>...</td>\n",
              "      <td>...</td>\n",
              "      <td>...</td>\n",
              "      <td>...</td>\n",
              "      <td>...</td>\n",
              "      <td>...</td>\n",
              "      <td>...</td>\n",
              "    </tr>\n",
              "    <tr>\n",
              "      <th>1333</th>\n",
              "      <td>50</td>\n",
              "      <td>male</td>\n",
              "      <td>31.0</td>\n",
              "      <td>3</td>\n",
              "      <td>no</td>\n",
              "      <td>northwest</td>\n",
              "      <td>10600.55</td>\n",
              "    </tr>\n",
              "    <tr>\n",
              "      <th>1334</th>\n",
              "      <td>18</td>\n",
              "      <td>female</td>\n",
              "      <td>31.9</td>\n",
              "      <td>0</td>\n",
              "      <td>no</td>\n",
              "      <td>northeast</td>\n",
              "      <td>2205.98</td>\n",
              "    </tr>\n",
              "    <tr>\n",
              "      <th>1335</th>\n",
              "      <td>18</td>\n",
              "      <td>female</td>\n",
              "      <td>36.9</td>\n",
              "      <td>0</td>\n",
              "      <td>no</td>\n",
              "      <td>southeast</td>\n",
              "      <td>1629.83</td>\n",
              "    </tr>\n",
              "    <tr>\n",
              "      <th>1336</th>\n",
              "      <td>21</td>\n",
              "      <td>female</td>\n",
              "      <td>25.8</td>\n",
              "      <td>0</td>\n",
              "      <td>no</td>\n",
              "      <td>southwest</td>\n",
              "      <td>2007.95</td>\n",
              "    </tr>\n",
              "    <tr>\n",
              "      <th>1337</th>\n",
              "      <td>61</td>\n",
              "      <td>female</td>\n",
              "      <td>29.1</td>\n",
              "      <td>0</td>\n",
              "      <td>yes</td>\n",
              "      <td>northwest</td>\n",
              "      <td>29141.36</td>\n",
              "    </tr>\n",
              "  </tbody>\n",
              "</table>\n",
              "<p>1338 rows × 7 columns</p>\n",
              "</div>\n",
              "      <button class=\"colab-df-convert\" onclick=\"convertToInteractive('df-329f9ef3-5042-4158-94e1-15af0c1365de')\"\n",
              "              title=\"Convert this dataframe to an interactive table.\"\n",
              "              style=\"display:none;\">\n",
              "        \n",
              "  <svg xmlns=\"http://www.w3.org/2000/svg\" height=\"24px\"viewBox=\"0 0 24 24\"\n",
              "       width=\"24px\">\n",
              "    <path d=\"M0 0h24v24H0V0z\" fill=\"none\"/>\n",
              "    <path d=\"M18.56 5.44l.94 2.06.94-2.06 2.06-.94-2.06-.94-.94-2.06-.94 2.06-2.06.94zm-11 1L8.5 8.5l.94-2.06 2.06-.94-2.06-.94L8.5 2.5l-.94 2.06-2.06.94zm10 10l.94 2.06.94-2.06 2.06-.94-2.06-.94-.94-2.06-.94 2.06-2.06.94z\"/><path d=\"M17.41 7.96l-1.37-1.37c-.4-.4-.92-.59-1.43-.59-.52 0-1.04.2-1.43.59L10.3 9.45l-7.72 7.72c-.78.78-.78 2.05 0 2.83L4 21.41c.39.39.9.59 1.41.59.51 0 1.02-.2 1.41-.59l7.78-7.78 2.81-2.81c.8-.78.8-2.07 0-2.86zM5.41 20L4 18.59l7.72-7.72 1.47 1.35L5.41 20z\"/>\n",
              "  </svg>\n",
              "      </button>\n",
              "      \n",
              "  <style>\n",
              "    .colab-df-container {\n",
              "      display:flex;\n",
              "      flex-wrap:wrap;\n",
              "      gap: 12px;\n",
              "    }\n",
              "\n",
              "    .colab-df-convert {\n",
              "      background-color: #E8F0FE;\n",
              "      border: none;\n",
              "      border-radius: 50%;\n",
              "      cursor: pointer;\n",
              "      display: none;\n",
              "      fill: #1967D2;\n",
              "      height: 32px;\n",
              "      padding: 0 0 0 0;\n",
              "      width: 32px;\n",
              "    }\n",
              "\n",
              "    .colab-df-convert:hover {\n",
              "      background-color: #E2EBFA;\n",
              "      box-shadow: 0px 1px 2px rgba(60, 64, 67, 0.3), 0px 1px 3px 1px rgba(60, 64, 67, 0.15);\n",
              "      fill: #174EA6;\n",
              "    }\n",
              "\n",
              "    [theme=dark] .colab-df-convert {\n",
              "      background-color: #3B4455;\n",
              "      fill: #D2E3FC;\n",
              "    }\n",
              "\n",
              "    [theme=dark] .colab-df-convert:hover {\n",
              "      background-color: #434B5C;\n",
              "      box-shadow: 0px 1px 3px 1px rgba(0, 0, 0, 0.15);\n",
              "      filter: drop-shadow(0px 1px 2px rgba(0, 0, 0, 0.3));\n",
              "      fill: #FFFFFF;\n",
              "    }\n",
              "  </style>\n",
              "\n",
              "      <script>\n",
              "        const buttonEl =\n",
              "          document.querySelector('#df-329f9ef3-5042-4158-94e1-15af0c1365de button.colab-df-convert');\n",
              "        buttonEl.style.display =\n",
              "          google.colab.kernel.accessAllowed ? 'block' : 'none';\n",
              "\n",
              "        async function convertToInteractive(key) {\n",
              "          const element = document.querySelector('#df-329f9ef3-5042-4158-94e1-15af0c1365de');\n",
              "          const dataTable =\n",
              "            await google.colab.kernel.invokeFunction('convertToInteractive',\n",
              "                                                     [key], {});\n",
              "          if (!dataTable) return;\n",
              "\n",
              "          const docLinkHtml = 'Like what you see? Visit the ' +\n",
              "            '<a target=\"_blank\" href=https://colab.research.google.com/notebooks/data_table.ipynb>data table notebook</a>'\n",
              "            + ' to learn more about interactive tables.';\n",
              "          element.innerHTML = '';\n",
              "          dataTable['output_type'] = 'display_data';\n",
              "          await google.colab.output.renderOutput(dataTable, element);\n",
              "          const docLink = document.createElement('div');\n",
              "          docLink.innerHTML = docLinkHtml;\n",
              "          element.appendChild(docLink);\n",
              "        }\n",
              "      </script>\n",
              "    </div>\n",
              "  </div>\n",
              "  "
            ]
          },
          "metadata": {},
          "execution_count": 79
        }
      ],
      "source": [
        "# Read data\n",
        "insurance = pd.read_csv(\"/content/drive/MyDrive/DL_data/insurance.csv\")\n",
        "insurance"
      ]
    },
    {
      "cell_type": "code",
      "execution_count": null,
      "metadata": {
        "id": "qjNbhdYLtl-4",
        "colab": {
          "base_uri": "https://localhost:8080/",
          "height": 206
        },
        "outputId": "43041bab-b32d-4b82-e5c4-fa353d5c0bfa"
      },
      "outputs": [
        {
          "output_type": "execute_result",
          "data": {
            "text/plain": [
              "   age     sex   bmi  children smoker     region  expenses\n",
              "0   19  female  27.9         0    yes  southwest  16884.92\n",
              "1   18    male  33.8         1     no  southeast   1725.55\n",
              "2   28    male  33.0         3     no  southeast   4449.46\n",
              "3   33    male  22.7         0     no  northwest  21984.47\n",
              "4   32    male  28.9         0     no  northwest   3866.86"
            ],
            "text/html": [
              "\n",
              "  <div id=\"df-9d436d1e-99b3-46bb-b20c-2714525a3e07\">\n",
              "    <div class=\"colab-df-container\">\n",
              "      <div>\n",
              "<style scoped>\n",
              "    .dataframe tbody tr th:only-of-type {\n",
              "        vertical-align: middle;\n",
              "    }\n",
              "\n",
              "    .dataframe tbody tr th {\n",
              "        vertical-align: top;\n",
              "    }\n",
              "\n",
              "    .dataframe thead th {\n",
              "        text-align: right;\n",
              "    }\n",
              "</style>\n",
              "<table border=\"1\" class=\"dataframe\">\n",
              "  <thead>\n",
              "    <tr style=\"text-align: right;\">\n",
              "      <th></th>\n",
              "      <th>age</th>\n",
              "      <th>sex</th>\n",
              "      <th>bmi</th>\n",
              "      <th>children</th>\n",
              "      <th>smoker</th>\n",
              "      <th>region</th>\n",
              "      <th>expenses</th>\n",
              "    </tr>\n",
              "  </thead>\n",
              "  <tbody>\n",
              "    <tr>\n",
              "      <th>0</th>\n",
              "      <td>19</td>\n",
              "      <td>female</td>\n",
              "      <td>27.9</td>\n",
              "      <td>0</td>\n",
              "      <td>yes</td>\n",
              "      <td>southwest</td>\n",
              "      <td>16884.92</td>\n",
              "    </tr>\n",
              "    <tr>\n",
              "      <th>1</th>\n",
              "      <td>18</td>\n",
              "      <td>male</td>\n",
              "      <td>33.8</td>\n",
              "      <td>1</td>\n",
              "      <td>no</td>\n",
              "      <td>southeast</td>\n",
              "      <td>1725.55</td>\n",
              "    </tr>\n",
              "    <tr>\n",
              "      <th>2</th>\n",
              "      <td>28</td>\n",
              "      <td>male</td>\n",
              "      <td>33.0</td>\n",
              "      <td>3</td>\n",
              "      <td>no</td>\n",
              "      <td>southeast</td>\n",
              "      <td>4449.46</td>\n",
              "    </tr>\n",
              "    <tr>\n",
              "      <th>3</th>\n",
              "      <td>33</td>\n",
              "      <td>male</td>\n",
              "      <td>22.7</td>\n",
              "      <td>0</td>\n",
              "      <td>no</td>\n",
              "      <td>northwest</td>\n",
              "      <td>21984.47</td>\n",
              "    </tr>\n",
              "    <tr>\n",
              "      <th>4</th>\n",
              "      <td>32</td>\n",
              "      <td>male</td>\n",
              "      <td>28.9</td>\n",
              "      <td>0</td>\n",
              "      <td>no</td>\n",
              "      <td>northwest</td>\n",
              "      <td>3866.86</td>\n",
              "    </tr>\n",
              "  </tbody>\n",
              "</table>\n",
              "</div>\n",
              "      <button class=\"colab-df-convert\" onclick=\"convertToInteractive('df-9d436d1e-99b3-46bb-b20c-2714525a3e07')\"\n",
              "              title=\"Convert this dataframe to an interactive table.\"\n",
              "              style=\"display:none;\">\n",
              "        \n",
              "  <svg xmlns=\"http://www.w3.org/2000/svg\" height=\"24px\"viewBox=\"0 0 24 24\"\n",
              "       width=\"24px\">\n",
              "    <path d=\"M0 0h24v24H0V0z\" fill=\"none\"/>\n",
              "    <path d=\"M18.56 5.44l.94 2.06.94-2.06 2.06-.94-2.06-.94-.94-2.06-.94 2.06-2.06.94zm-11 1L8.5 8.5l.94-2.06 2.06-.94-2.06-.94L8.5 2.5l-.94 2.06-2.06.94zm10 10l.94 2.06.94-2.06 2.06-.94-2.06-.94-.94-2.06-.94 2.06-2.06.94z\"/><path d=\"M17.41 7.96l-1.37-1.37c-.4-.4-.92-.59-1.43-.59-.52 0-1.04.2-1.43.59L10.3 9.45l-7.72 7.72c-.78.78-.78 2.05 0 2.83L4 21.41c.39.39.9.59 1.41.59.51 0 1.02-.2 1.41-.59l7.78-7.78 2.81-2.81c.8-.78.8-2.07 0-2.86zM5.41 20L4 18.59l7.72-7.72 1.47 1.35L5.41 20z\"/>\n",
              "  </svg>\n",
              "      </button>\n",
              "      \n",
              "  <style>\n",
              "    .colab-df-container {\n",
              "      display:flex;\n",
              "      flex-wrap:wrap;\n",
              "      gap: 12px;\n",
              "    }\n",
              "\n",
              "    .colab-df-convert {\n",
              "      background-color: #E8F0FE;\n",
              "      border: none;\n",
              "      border-radius: 50%;\n",
              "      cursor: pointer;\n",
              "      display: none;\n",
              "      fill: #1967D2;\n",
              "      height: 32px;\n",
              "      padding: 0 0 0 0;\n",
              "      width: 32px;\n",
              "    }\n",
              "\n",
              "    .colab-df-convert:hover {\n",
              "      background-color: #E2EBFA;\n",
              "      box-shadow: 0px 1px 2px rgba(60, 64, 67, 0.3), 0px 1px 3px 1px rgba(60, 64, 67, 0.15);\n",
              "      fill: #174EA6;\n",
              "    }\n",
              "\n",
              "    [theme=dark] .colab-df-convert {\n",
              "      background-color: #3B4455;\n",
              "      fill: #D2E3FC;\n",
              "    }\n",
              "\n",
              "    [theme=dark] .colab-df-convert:hover {\n",
              "      background-color: #434B5C;\n",
              "      box-shadow: 0px 1px 3px 1px rgba(0, 0, 0, 0.15);\n",
              "      filter: drop-shadow(0px 1px 2px rgba(0, 0, 0, 0.3));\n",
              "      fill: #FFFFFF;\n",
              "    }\n",
              "  </style>\n",
              "\n",
              "      <script>\n",
              "        const buttonEl =\n",
              "          document.querySelector('#df-9d436d1e-99b3-46bb-b20c-2714525a3e07 button.colab-df-convert');\n",
              "        buttonEl.style.display =\n",
              "          google.colab.kernel.accessAllowed ? 'block' : 'none';\n",
              "\n",
              "        async function convertToInteractive(key) {\n",
              "          const element = document.querySelector('#df-9d436d1e-99b3-46bb-b20c-2714525a3e07');\n",
              "          const dataTable =\n",
              "            await google.colab.kernel.invokeFunction('convertToInteractive',\n",
              "                                                     [key], {});\n",
              "          if (!dataTable) return;\n",
              "\n",
              "          const docLinkHtml = 'Like what you see? Visit the ' +\n",
              "            '<a target=\"_blank\" href=https://colab.research.google.com/notebooks/data_table.ipynb>data table notebook</a>'\n",
              "            + ' to learn more about interactive tables.';\n",
              "          element.innerHTML = '';\n",
              "          dataTable['output_type'] = 'display_data';\n",
              "          await google.colab.output.renderOutput(dataTable, element);\n",
              "          const docLink = document.createElement('div');\n",
              "          docLink.innerHTML = docLinkHtml;\n",
              "          element.appendChild(docLink);\n",
              "        }\n",
              "      </script>\n",
              "    </div>\n",
              "  </div>\n",
              "  "
            ]
          },
          "metadata": {},
          "execution_count": 80
        }
      ],
      "source": [
        "# Show the head rows of a data frame\n",
        "insurance.head()"
      ]
    },
    {
      "cell_type": "code",
      "execution_count": null,
      "metadata": {
        "id": "6cEauvNxtl-4",
        "colab": {
          "base_uri": "https://localhost:8080/"
        },
        "outputId": "557dc172-e253-4090-a14b-d2389427f0cf"
      },
      "outputs": [
        {
          "output_type": "execute_result",
          "data": {
            "text/plain": [
              "age           int64\n",
              "sex          object\n",
              "bmi         float64\n",
              "children      int64\n",
              "smoker       object\n",
              "region       object\n",
              "expenses    float64\n",
              "dtype: object"
            ]
          },
          "metadata": {},
          "execution_count": 81
        }
      ],
      "source": [
        "# Examine variable type\n",
        "insurance.dtypes"
      ]
    },
    {
      "cell_type": "code",
      "execution_count": null,
      "metadata": {
        "id": "0F9GvPQFtl-4"
      },
      "outputs": [],
      "source": [
        "# Change categorical variables to \"category\"\n",
        "insurance['sex'] = insurance['sex'].astype('category')\n",
        "insurance['smoker'] = insurance['smoker'].astype('category')\n",
        "insurance['region'] = insurance['region'].astype('category')"
      ]
    },
    {
      "cell_type": "code",
      "execution_count": null,
      "metadata": {
        "id": "8ZKoWREctl-4",
        "colab": {
          "base_uri": "https://localhost:8080/"
        },
        "outputId": "e34e70bc-9eba-4713-d135-1306e7b903bb"
      },
      "outputs": [
        {
          "output_type": "execute_result",
          "data": {
            "text/plain": [
              "age            int64\n",
              "sex         category\n",
              "bmi          float64\n",
              "children       int64\n",
              "smoker      category\n",
              "region      category\n",
              "expenses     float64\n",
              "dtype: object"
            ]
          },
          "metadata": {},
          "execution_count": 83
        }
      ],
      "source": [
        "# Examine variable type\n",
        "insurance.dtypes"
      ]
    },
    {
      "cell_type": "code",
      "execution_count": null,
      "metadata": {
        "id": "UzKcJa847XtX",
        "colab": {
          "base_uri": "https://localhost:8080/",
          "height": 313
        },
        "outputId": "e765b37d-633a-4dd9-882b-748cf4c3270d"
      },
      "outputs": [
        {
          "output_type": "execute_result",
          "data": {
            "text/plain": [
              "Text(0.5, 1.0, 'Histogram of expenses in the insurance data set')"
            ]
          },
          "metadata": {},
          "execution_count": 84
        },
        {
          "output_type": "display_data",
          "data": {
            "text/plain": [
              "<Figure size 432x288 with 1 Axes>"
            ],
            "image/png": "[encoded data removed]"
          },
          "metadata": {
            "needs_background": "light"
          }
        }
      ],
      "source": [
        "# Data exploration: some examples\n",
        "# Histogram of insurance expenses\n",
        "snsplot = sns.histplot(x='expenses', data = insurance)\n",
        "snsplot.set_title(\"Histogram of expenses in the insurance data set\")"
      ]
    },
    {
      "cell_type": "code",
      "execution_count": null,
      "metadata": {
        "id": "DOeahm-d7eqy",
        "colab": {
          "base_uri": "https://localhost:8080/",
          "height": 175
        },
        "outputId": "e3ac364c-1c91-42c7-e3d9-cfcbaaad8740"
      },
      "outputs": [
        {
          "output_type": "execute_result",
          "data": {
            "text/plain": [
              "               age       bmi  children  expenses\n",
              "age       1.000000  0.109341  0.042469  0.299008\n",
              "bmi       0.109341  1.000000  0.012645  0.198576\n",
              "children  0.042469  0.012645  1.000000  0.067998\n",
              "expenses  0.299008  0.198576  0.067998  1.000000"
            ],
            "text/html": [
              "\n",
              "  <div id=\"df-e63a0f3d-cb6a-421f-bfc1-bf1d82a5bf4c\">\n",
              "    <div class=\"colab-df-container\">\n",
              "      <div>\n",
              "<style scoped>\n",
              "    .dataframe tbody tr th:only-of-type {\n",
              "        vertical-align: middle;\n",
              "    }\n",
              "\n",
              "    .dataframe tbody tr th {\n",
              "        vertical-align: top;\n",
              "    }\n",
              "\n",
              "    .dataframe thead th {\n",
              "        text-align: right;\n",
              "    }\n",
              "</style>\n",
              "<table border=\"1\" class=\"dataframe\">\n",
              "  <thead>\n",
              "    <tr style=\"text-align: right;\">\n",
              "      <th></th>\n",
              "      <th>age</th>\n",
              "      <th>bmi</th>\n",
              "      <th>children</th>\n",
              "      <th>expenses</th>\n",
              "    </tr>\n",
              "  </thead>\n",
              "  <tbody>\n",
              "    <tr>\n",
              "      <th>age</th>\n",
              "      <td>1.000000</td>\n",
              "      <td>0.109341</td>\n",
              "      <td>0.042469</td>\n",
              "      <td>0.299008</td>\n",
              "    </tr>\n",
              "    <tr>\n",
              "      <th>bmi</th>\n",
              "      <td>0.109341</td>\n",
              "      <td>1.000000</td>\n",
              "      <td>0.012645</td>\n",
              "      <td>0.198576</td>\n",
              "    </tr>\n",
              "    <tr>\n",
              "      <th>children</th>\n",
              "      <td>0.042469</td>\n",
              "      <td>0.012645</td>\n",
              "      <td>1.000000</td>\n",
              "      <td>0.067998</td>\n",
              "    </tr>\n",
              "    <tr>\n",
              "      <th>expenses</th>\n",
              "      <td>0.299008</td>\n",
              "      <td>0.198576</td>\n",
              "      <td>0.067998</td>\n",
              "      <td>1.000000</td>\n",
              "    </tr>\n",
              "  </tbody>\n",
              "</table>\n",
              "</div>\n",
              "      <button class=\"colab-df-convert\" onclick=\"convertToInteractive('df-e63a0f3d-cb6a-421f-bfc1-bf1d82a5bf4c')\"\n",
              "              title=\"Convert this dataframe to an interactive table.\"\n",
              "              style=\"display:none;\">\n",
              "        \n",
              "  <svg xmlns=\"http://www.w3.org/2000/svg\" height=\"24px\"viewBox=\"0 0 24 24\"\n",
              "       width=\"24px\">\n",
              "    <path d=\"M0 0h24v24H0V0z\" fill=\"none\"/>\n",
              "    <path d=\"M18.56 5.44l.94 2.06.94-2.06 2.06-.94-2.06-.94-.94-2.06-.94 2.06-2.06.94zm-11 1L8.5 8.5l.94-2.06 2.06-.94-2.06-.94L8.5 2.5l-.94 2.06-2.06.94zm10 10l.94 2.06.94-2.06 2.06-.94-2.06-.94-.94-2.06-.94 2.06-2.06.94z\"/><path d=\"M17.41 7.96l-1.37-1.37c-.4-.4-.92-.59-1.43-.59-.52 0-1.04.2-1.43.59L10.3 9.45l-7.72 7.72c-.78.78-.78 2.05 0 2.83L4 21.41c.39.39.9.59 1.41.59.51 0 1.02-.2 1.41-.59l7.78-7.78 2.81-2.81c.8-.78.8-2.07 0-2.86zM5.41 20L4 18.59l7.72-7.72 1.47 1.35L5.41 20z\"/>\n",
              "  </svg>\n",
              "      </button>\n",
              "      \n",
              "  <style>\n",
              "    .colab-df-container {\n",
              "      display:flex;\n",
              "      flex-wrap:wrap;\n",
              "      gap: 12px;\n",
              "    }\n",
              "\n",
              "    .colab-df-convert {\n",
              "      background-color: #E8F0FE;\n",
              "      border: none;\n",
              "      border-radius: 50%;\n",
              "      cursor: pointer;\n",
              "      display: none;\n",
              "      fill: #1967D2;\n",
              "      height: 32px;\n",
              "      padding: 0 0 0 0;\n",
              "      width: 32px;\n",
              "    }\n",
              "\n",
              "    .colab-df-convert:hover {\n",
              "      background-color: #E2EBFA;\n",
              "      box-shadow: 0px 1px 2px rgba(60, 64, 67, 0.3), 0px 1px 3px 1px rgba(60, 64, 67, 0.15);\n",
              "      fill: #174EA6;\n",
              "    }\n",
              "\n",
              "    [theme=dark] .colab-df-convert {\n",
              "      background-color: #3B4455;\n",
              "      fill: #D2E3FC;\n",
              "    }\n",
              "\n",
              "    [theme=dark] .colab-df-convert:hover {\n",
              "      background-color: #434B5C;\n",
              "      box-shadow: 0px 1px 3px 1px rgba(0, 0, 0, 0.15);\n",
              "      filter: drop-shadow(0px 1px 2px rgba(0, 0, 0, 0.3));\n",
              "      fill: #FFFFFF;\n",
              "    }\n",
              "  </style>\n",
              "\n",
              "      <script>\n",
              "        const buttonEl =\n",
              "          document.querySelector('#df-e63a0f3d-cb6a-421f-bfc1-bf1d82a5bf4c button.colab-df-convert');\n",
              "        buttonEl.style.display =\n",
              "          google.colab.kernel.accessAllowed ? 'block' : 'none';\n",
              "\n",
              "        async function convertToInteractive(key) {\n",
              "          const element = document.querySelector('#df-e63a0f3d-cb6a-421f-bfc1-bf1d82a5bf4c');\n",
              "          const dataTable =\n",
              "            await google.colab.kernel.invokeFunction('convertToInteractive',\n",
              "                                                     [key], {});\n",
              "          if (!dataTable) return;\n",
              "\n",
              "          const docLinkHtml = 'Like what you see? Visit the ' +\n",
              "            '<a target=\"_blank\" href=https://colab.research.google.com/notebooks/data_table.ipynb>data table notebook</a>'\n",
              "            + ' to learn more about interactive tables.';\n",
              "          element.innerHTML = '';\n",
              "          dataTable['output_type'] = 'display_data';\n",
              "          await google.colab.output.renderOutput(dataTable, element);\n",
              "          const docLink = document.createElement('div');\n",
              "          docLink.innerHTML = docLinkHtml;\n",
              "          element.appendChild(docLink);\n",
              "        }\n",
              "      </script>\n",
              "    </div>\n",
              "  </div>\n",
              "  "
            ]
          },
          "metadata": {},
          "execution_count": 85
        }
      ],
      "source": [
        "# exploring relationships among all numeric variables: correlation matrix\n",
        "insurance.corr()"
      ]
    },
    {
      "cell_type": "markdown",
      "metadata": {
        "id": "BzzGngi-tl-5"
      },
      "source": [
        "### Partition the data set for regression model"
      ]
    },
    {
      "cell_type": "code",
      "execution_count": null,
      "metadata": {
        "id": "x_HJEbCutl-5",
        "colab": {
          "base_uri": "https://localhost:8080/",
          "height": 423
        },
        "outputId": "b5de1f34-2696-47a2-b730-264a397ac473"
      },
      "outputs": [
        {
          "output_type": "execute_result",
          "data": {
            "text/plain": [
              "      age   bmi  children  expenses  sex_male  smoker_yes  region_northwest  \\\n",
              "0      19  27.9         0  16884.92         0           1                 0   \n",
              "1      18  33.8         1   1725.55         1           0                 0   \n",
              "2      28  33.0         3   4449.46         1           0                 0   \n",
              "3      33  22.7         0  21984.47         1           0                 1   \n",
              "4      32  28.9         0   3866.86         1           0                 1   \n",
              "...   ...   ...       ...       ...       ...         ...               ...   \n",
              "1333   50  31.0         3  10600.55         1           0                 1   \n",
              "1334   18  31.9         0   2205.98         0           0                 0   \n",
              "1335   18  36.9         0   1629.83         0           0                 0   \n",
              "1336   21  25.8         0   2007.95         0           0                 0   \n",
              "1337   61  29.1         0  29141.36         0           1                 1   \n",
              "\n",
              "      region_southeast  region_southwest  \n",
              "0                    0                 1  \n",
              "1                    1                 0  \n",
              "2                    1                 0  \n",
              "3                    0                 0  \n",
              "4                    0                 0  \n",
              "...                ...               ...  \n",
              "1333                 0                 0  \n",
              "1334                 0                 0  \n",
              "1335                 1                 0  \n",
              "1336                 0                 1  \n",
              "1337                 0                 0  \n",
              "\n",
              "[1338 rows x 9 columns]"
            ],
            "text/html": [
              "\n",
              "  <div id=\"df-0ba7b129-426e-4a54-856f-722801063194\">\n",
              "    <div class=\"colab-df-container\">\n",
              "      <div>\n",
              "<style scoped>\n",
              "    .dataframe tbody tr th:only-of-type {\n",
              "        vertical-align: middle;\n",
              "    }\n",
              "\n",
              "    .dataframe tbody tr th {\n",
              "        vertical-align: top;\n",
              "    }\n",
              "\n",
              "    .dataframe thead th {\n",
              "        text-align: right;\n",
              "    }\n",
              "</style>\n",
              "<table border=\"1\" class=\"dataframe\">\n",
              "  <thead>\n",
              "    <tr style=\"text-align: right;\">\n",
              "      <th></th>\n",
              "      <th>age</th>\n",
              "      <th>bmi</th>\n",
              "      <th>children</th>\n",
              "      <th>expenses</th>\n",
              "      <th>sex_male</th>\n",
              "      <th>smoker_yes</th>\n",
              "      <th>region_northwest</th>\n",
              "      <th>region_southeast</th>\n",
              "      <th>region_southwest</th>\n",
              "    </tr>\n",
              "  </thead>\n",
              "  <tbody>\n",
              "    <tr>\n",
              "      <th>0</th>\n",
              "      <td>19</td>\n",
              "      <td>27.9</td>\n",
              "      <td>0</td>\n",
              "      <td>16884.92</td>\n",
              "      <td>0</td>\n",
              "      <td>1</td>\n",
              "      <td>0</td>\n",
              "      <td>0</td>\n",
              "      <td>1</td>\n",
              "    </tr>\n",
              "    <tr>\n",
              "      <th>1</th>\n",
              "      <td>18</td>\n",
              "      <td>33.8</td>\n",
              "      <td>1</td>\n",
              "      <td>1725.55</td>\n",
              "      <td>1</td>\n",
              "      <td>0</td>\n",
              "      <td>0</td>\n",
              "      <td>1</td>\n",
              "      <td>0</td>\n",
              "    </tr>\n",
              "    <tr>\n",
              "      <th>2</th>\n",
              "      <td>28</td>\n",
              "      <td>33.0</td>\n",
              "      <td>3</td>\n",
              "      <td>4449.46</td>\n",
              "      <td>1</td>\n",
              "      <td>0</td>\n",
              "      <td>0</td>\n",
              "      <td>1</td>\n",
              "      <td>0</td>\n",
              "    </tr>\n",
              "    <tr>\n",
              "      <th>3</th>\n",
              "      <td>33</td>\n",
              "      <td>22.7</td>\n",
              "      <td>0</td>\n",
              "      <td>21984.47</td>\n",
              "      <td>1</td>\n",
              "      <td>0</td>\n",
              "      <td>1</td>\n",
              "      <td>0</td>\n",
              "      <td>0</td>\n",
              "    </tr>\n",
              "    <tr>\n",
              "      <th>4</th>\n",
              "      <td>32</td>\n",
              "      <td>28.9</td>\n",
              "      <td>0</td>\n",
              "      <td>3866.86</td>\n",
              "      <td>1</td>\n",
              "      <td>0</td>\n",
              "      <td>1</td>\n",
              "      <td>0</td>\n",
              "      <td>0</td>\n",
              "    </tr>\n",
              "    <tr>\n",
              "      <th>...</th>\n",
              "      <td>...</td>\n",
              "      <td>...</td>\n",
              "      <td>...</td>\n",
              "      <td>...</td>\n",
              "      <td>...</td>\n",
              "      <td>...</td>\n",
              "      <td>...</td>\n",
              "      <td>...</td>\n",
              "      <td>...</td>\n",
              "    </tr>\n",
              "    <tr>\n",
              "      <th>1333</th>\n",
              "      <td>50</td>\n",
              "      <td>31.0</td>\n",
              "      <td>3</td>\n",
              "      <td>10600.55</td>\n",
              "      <td>1</td>\n",
              "      <td>0</td>\n",
              "      <td>1</td>\n",
              "      <td>0</td>\n",
              "      <td>0</td>\n",
              "    </tr>\n",
              "    <tr>\n",
              "      <th>1334</th>\n",
              "      <td>18</td>\n",
              "      <td>31.9</td>\n",
              "      <td>0</td>\n",
              "      <td>2205.98</td>\n",
              "      <td>0</td>\n",
              "      <td>0</td>\n",
              "      <td>0</td>\n",
              "      <td>0</td>\n",
              "      <td>0</td>\n",
              "    </tr>\n",
              "    <tr>\n",
              "      <th>1335</th>\n",
              "      <td>18</td>\n",
              "      <td>36.9</td>\n",
              "      <td>0</td>\n",
              "      <td>1629.83</td>\n",
              "      <td>0</td>\n",
              "      <td>0</td>\n",
              "      <td>0</td>\n",
              "      <td>1</td>\n",
              "      <td>0</td>\n",
              "    </tr>\n",
              "    <tr>\n",
              "      <th>1336</th>\n",
              "      <td>21</td>\n",
              "      <td>25.8</td>\n",
              "      <td>0</td>\n",
              "      <td>2007.95</td>\n",
              "      <td>0</td>\n",
              "      <td>0</td>\n",
              "      <td>0</td>\n",
              "      <td>0</td>\n",
              "      <td>1</td>\n",
              "    </tr>\n",
              "    <tr>\n",
              "      <th>1337</th>\n",
              "      <td>61</td>\n",
              "      <td>29.1</td>\n",
              "      <td>0</td>\n",
              "      <td>29141.36</td>\n",
              "      <td>0</td>\n",
              "      <td>1</td>\n",
              "      <td>1</td>\n",
              "      <td>0</td>\n",
              "      <td>0</td>\n",
              "    </tr>\n",
              "  </tbody>\n",
              "</table>\n",
              "<p>1338 rows × 9 columns</p>\n",
              "</div>\n",
              "      <button class=\"colab-df-convert\" onclick=\"convertToInteractive('df-0ba7b129-426e-4a54-856f-722801063194')\"\n",
              "              title=\"Convert this dataframe to an interactive table.\"\n",
              "              style=\"display:none;\">\n",
              "        \n",
              "  <svg xmlns=\"http://www.w3.org/2000/svg\" height=\"24px\"viewBox=\"0 0 24 24\"\n",
              "       width=\"24px\">\n",
              "    <path d=\"M0 0h24v24H0V0z\" fill=\"none\"/>\n",
              "    <path d=\"M18.56 5.44l.94 2.06.94-2.06 2.06-.94-2.06-.94-.94-2.06-.94 2.06-2.06.94zm-11 1L8.5 8.5l.94-2.06 2.06-.94-2.06-.94L8.5 2.5l-.94 2.06-2.06.94zm10 10l.94 2.06.94-2.06 2.06-.94-2.06-.94-.94-2.06-.94 2.06-2.06.94z\"/><path d=\"M17.41 7.96l-1.37-1.37c-.4-.4-.92-.59-1.43-.59-.52 0-1.04.2-1.43.59L10.3 9.45l-7.72 7.72c-.78.78-.78 2.05 0 2.83L4 21.41c.39.39.9.59 1.41.59.51 0 1.02-.2 1.41-.59l7.78-7.78 2.81-2.81c.8-.78.8-2.07 0-2.86zM5.41 20L4 18.59l7.72-7.72 1.47 1.35L5.41 20z\"/>\n",
              "  </svg>\n",
              "      </button>\n",
              "      \n",
              "  <style>\n",
              "    .colab-df-container {\n",
              "      display:flex;\n",
              "      flex-wrap:wrap;\n",
              "      gap: 12px;\n",
              "    }\n",
              "\n",
              "    .colab-df-convert {\n",
              "      background-color: #E8F0FE;\n",
              "      border: none;\n",
              "      border-radius: 50%;\n",
              "      cursor: pointer;\n",
              "      display: none;\n",
              "      fill: #1967D2;\n",
              "      height: 32px;\n",
              "      padding: 0 0 0 0;\n",
              "      width: 32px;\n",
              "    }\n",
              "\n",
              "    .colab-df-convert:hover {\n",
              "      background-color: #E2EBFA;\n",
              "      box-shadow: 0px 1px 2px rgba(60, 64, 67, 0.3), 0px 1px 3px 1px rgba(60, 64, 67, 0.15);\n",
              "      fill: #174EA6;\n",
              "    }\n",
              "\n",
              "    [theme=dark] .colab-df-convert {\n",
              "      background-color: #3B4455;\n",
              "      fill: #D2E3FC;\n",
              "    }\n",
              "\n",
              "    [theme=dark] .colab-df-convert:hover {\n",
              "      background-color: #434B5C;\n",
              "      box-shadow: 0px 1px 3px 1px rgba(0, 0, 0, 0.15);\n",
              "      filter: drop-shadow(0px 1px 2px rgba(0, 0, 0, 0.3));\n",
              "      fill: #FFFFFF;\n",
              "    }\n",
              "  </style>\n",
              "\n",
              "      <script>\n",
              "        const buttonEl =\n",
              "          document.querySelector('#df-0ba7b129-426e-4a54-856f-722801063194 button.colab-df-convert');\n",
              "        buttonEl.style.display =\n",
              "          google.colab.kernel.accessAllowed ? 'block' : 'none';\n",
              "\n",
              "        async function convertToInteractive(key) {\n",
              "          const element = document.querySelector('#df-0ba7b129-426e-4a54-856f-722801063194');\n",
              "          const dataTable =\n",
              "            await google.colab.kernel.invokeFunction('convertToInteractive',\n",
              "                                                     [key], {});\n",
              "          if (!dataTable) return;\n",
              "\n",
              "          const docLinkHtml = 'Like what you see? Visit the ' +\n",
              "            '<a target=\"_blank\" href=https://colab.research.google.com/notebooks/data_table.ipynb>data table notebook</a>'\n",
              "            + ' to learn more about interactive tables.';\n",
              "          element.innerHTML = '';\n",
              "          dataTable['output_type'] = 'display_data';\n",
              "          await google.colab.output.renderOutput(dataTable, element);\n",
              "          const docLink = document.createElement('div');\n",
              "          docLink.innerHTML = docLinkHtml;\n",
              "          element.appendChild(docLink);\n",
              "        }\n",
              "      </script>\n",
              "    </div>\n",
              "  </div>\n",
              "  "
            ]
          },
          "metadata": {},
          "execution_count": 86
        }
      ],
      "source": [
        "# Create dummy variables\n",
        "insurance = pd.get_dummies(insurance, columns=['sex','smoker','region'],  drop_first=True)\n",
        "insurance"
      ]
    },
    {
      "cell_type": "code",
      "execution_count": null,
      "metadata": {
        "id": "OCGDY7astl-5",
        "colab": {
          "base_uri": "https://localhost:8080/"
        },
        "outputId": "108221e6-51b7-4d51-bda3-18d34c551e4a"
      },
      "outputs": [
        {
          "output_type": "stream",
          "name": "stdout",
          "text": [
            "(936, 8) (402, 8) (402,) (936,)\n"
          ]
        }
      ],
      "source": [
        "# Partition the data\n",
        "target = insurance['expenses']\n",
        "predictors = insurance.drop(['expenses'],axis=1)\n",
        "predictors_train, predictors_test, target_train, target_test = train_test_split(predictors, target, test_size = 0.3, random_state = 0)\n",
        "print(predictors_train.shape, predictors_test.shape, target_test.shape, target_train.shape)"
      ]
    },
    {
      "cell_type": "code",
      "execution_count": null,
      "metadata": {
        "id": "LoY4Wl88tl-5",
        "colab": {
          "base_uri": "https://localhost:8080/",
          "height": 313
        },
        "outputId": "92061c6f-7e22-4ee6-f429-f92442e6473e"
      },
      "outputs": [
        {
          "output_type": "execute_result",
          "data": {
            "text/plain": [
              "Text(0.5, 1.0, 'Histogram of expenses in the training data set')"
            ]
          },
          "metadata": {},
          "execution_count": 88
        },
        {
          "output_type": "display_data",
          "data": {
            "text/plain": [
              "<Figure size 432x288 with 1 Axes>"
            ],
            "image/png": "[encoded data removed]"
          },
          "metadata": {
            "needs_background": "light"
          }
        }
      ],
      "source": [
        "# Examine the distribution of target variable for training data set\n",
        "snsplot = sns.histplot(data = target_train)\n",
        "snsplot.set_title(\"Histogram of expenses in the training data set\")"
      ]
    },
    {
      "cell_type": "code",
      "execution_count": null,
      "metadata": {
        "id": "teZ5RgTitl-5",
        "colab": {
          "base_uri": "https://localhost:8080/",
          "height": 313
        },
        "outputId": "1be91a67-4c6f-4c56-b51e-5f06e21bfc35"
      },
      "outputs": [
        {
          "output_type": "execute_result",
          "data": {
            "text/plain": [
              "Text(0.5, 1.0, 'Histogram of expenses in the testing data set')"
            ]
          },
          "metadata": {},
          "execution_count": 89
        },
        {
          "output_type": "display_data",
          "data": {
            "text/plain": [
              "<Figure size 432x288 with 1 Axes>"
            ],
            "image/png": "[encoded data removed]"
          },
          "metadata": {
            "needs_background": "light"
          }
        }
      ],
      "source": [
        "# Examine the distribution of target variable for testing data set\n",
        "snsplot = sns.histplot(data = target_test)\n",
        "snsplot.set_title(\"Histogram of expenses in the testing data set\")"
      ]
    },
    {
      "cell_type": "markdown",
      "metadata": {
        "id": "tWwXb1A2UKWQ"
      },
      "source": [
        "### Multiple linear regression"
      ]
    },
    {
      "cell_type": "code",
      "execution_count": null,
      "metadata": {
        "id": "8GGi-hmlUKWR",
        "colab": {
          "base_uri": "https://localhost:8080/"
        },
        "outputId": "10907546-49bd-493e-a13a-86add58b6484"
      },
      "outputs": [
        {
          "output_type": "execute_result",
          "data": {
            "text/plain": [
              "LinearRegression()"
            ]
          },
          "metadata": {},
          "execution_count": 90
        }
      ],
      "source": [
        "# Build a multiple linear regression model with all predictors\n",
        "model = linear_model.LinearRegression()\n",
        "model.fit(predictors_train, target_train)"
      ]
    },
    {
      "cell_type": "code",
      "execution_count": null,
      "metadata": {
        "id": "jGgPdIZJUKWR",
        "colab": {
          "base_uri": "https://localhost:8080/"
        },
        "outputId": "7df078d9-42e7-4c83-abc3-7c73e5cec1fe"
      },
      "outputs": [
        {
          "output_type": "stream",
          "name": "stdout",
          "text": [
            "Residuals:\n",
            "        Min         1Q   Median       3Q        Max\n",
            "-30302.4407 -1343.2315 985.6509 2988.446 11148.5211\n",
            "\n",
            "\n",
            "Coefficients:\n",
            "                      Estimate   Std. Error  t value   p value\n",
            "_intercept       -11836.117831  1191.289921  -9.9355  0.000000\n",
            "age                 256.402924    10.186903  25.1699  0.000000\n",
            "bmi                 335.414456    16.372545  20.4864  0.000000\n",
            "children            472.939931   166.843442   2.8346  0.004687\n",
            "sex_male            -47.692891   400.980436  -0.1189  0.905348\n",
            "smoker_yes        23435.046128   501.984750  46.6848  0.000000\n",
            "region_northwest   -561.353117   545.419326  -1.0292  0.303645\n",
            "region_southeast   -995.537125   551.901974  -1.8038  0.071580\n",
            "region_southwest   -798.824371   541.710520  -1.4746  0.140648\n",
            "---\n",
            "R-squared:  0.73096,    Adjusted R-squared:  0.72864\n",
            "F-statistic: 314.82 on 8 features\n"
          ]
        }
      ],
      "source": [
        "# Show model summary\n",
        "predictor_names = predictors_train.columns.values\n",
        "stats.summary(model, predictors_train, target_train, predictor_names)"
      ]
    },
    {
      "cell_type": "markdown",
      "metadata": {
        "id": "foysXHb5Vcu2"
      },
      "source": [
        "Q4. How the expenses change when we increase the bmi by 1? <br>\n"
      ]
    },
    {
      "cell_type": "code",
      "execution_count": null,
      "metadata": {
        "id": "w8grK6gzUKWS"
      },
      "outputs": [],
      "source": [
        "# Make predictions on training and testing data\n",
        "prediction_on_train = model.predict(predictors_train)\n",
        "prediction_on_test = model.predict(predictors_test)"
      ]
    },
    {
      "cell_type": "code",
      "execution_count": null,
      "metadata": {
        "id": "Vubgcsj_aRfQ",
        "colab": {
          "base_uri": "https://localhost:8080/"
        },
        "outputId": "cb9d070f-167f-4898-ff6f-2d25312fa54a"
      },
      "outputs": [
        {
          "output_type": "stream",
          "name": "stdout",
          "text": [
            "MAE: 4246.304346615992\n",
            "RMSE: 6158.809677366775\n"
          ]
        }
      ],
      "source": [
        "# Examine the evaluation results on training data: MAE and RMSE\n",
        "MAE = mean_absolute_error(target_train, prediction_on_train)\n",
        "RMSE = mean_squared_error(target_train, prediction_on_train, squared=False)\n",
        "print(\"MAE:\", MAE)\n",
        "print(\"RMSE:\", RMSE)"
      ]
    },
    {
      "cell_type": "code",
      "execution_count": null,
      "metadata": {
        "id": "hErfOCdMUKWS",
        "colab": {
          "base_uri": "https://localhost:8080/"
        },
        "outputId": "debf5ca7-59c8-43bb-e180-aae0ed042586"
      },
      "outputs": [
        {
          "output_type": "stream",
          "name": "stdout",
          "text": [
            "MAE: 4011.3808850910846\n",
            "RMSE: 5773.711137570041\n"
          ]
        }
      ],
      "source": [
        "# Examine the evaluation results on testing data: MAE and RMSE\n",
        "MAE = mean_absolute_error(target_test, prediction_on_test)\n",
        "RMSE = mean_squared_error(target_test, prediction_on_test, squared=False)\n",
        "print(\"MAE:\", MAE)\n",
        "print(\"RMSE:\", RMSE)"
      ]
    },
    {
      "cell_type": "code",
      "execution_count": null,
      "metadata": {
        "id": "4PCevx1-wkIF",
        "colab": {
          "base_uri": "https://localhost:8080/"
        },
        "outputId": "b2918a5e-73fb-4699-9e4e-afa9e86a90f5"
      },
      "outputs": [
        {
          "output_type": "stream",
          "name": "stdout",
          "text": [
            "[NbConvertApp] Converting notebook /content/drive/MyDrive/DL_Lab/Lab2_Classification_and_Numeric_Prediction.ipynb to html\n",
            "[NbConvertApp] Writing 954355 bytes to /content/drive/MyDrive/DL_Lab/Lab2_Classification_and_Numeric_Prediction.html\n"
          ]
        }
      ],
      "source": [
        "!jupyter nbconvert --to html \"/content/drive/MyDrive/DL_Lab/Lab2_Classification_and_Numeric_Prediction.ipynb\""
      ]
    }
  ],
  "metadata": {
    "colab": {
      "provenance": []
    },
    "kernelspec": {
      "display_name": "Python 3",
      "name": "python3"
    },
    "language_info": {
      "name": "python"
    }
  },
  "nbformat": 4,
  "nbformat_minor": 0
}